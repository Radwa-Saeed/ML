{
 "metadata": {
  "language_info": {
   "codemirror_mode": {
    "name": "ipython",
    "version": 3
   },
   "file_extension": ".py",
   "mimetype": "text/x-python",
   "name": "python",
   "nbconvert_exporter": "python",
   "pygments_lexer": "ipython3",
   "version": "3.8.3-final"
  },
  "orig_nbformat": 2,
  "kernelspec": {
   "name": "python3",
   "display_name": "Python 3",
   "language": "python"
  }
 },
 "nbformat": 4,
 "nbformat_minor": 2,
 "cells": [
  {
   "cell_type": "code",
   "execution_count": 100,
   "metadata": {},
   "outputs": [],
   "source": [
    "import pandas as pd \n",
    "import numpy as np \n",
    "import csv\n",
    "from scipy import stats\n",
    "from matplotlib import pyplot"
   ]
  },
  {
   "cell_type": "code",
   "execution_count": 80,
   "metadata": {},
   "outputs": [],
   "source": [
    "#conversion of txt files to column seperated value (csv) files\n",
    "\n",
    "read_file1 = pd.read_csv(r'F:\\Course\\machine\\ML\\lusc-rsem-fpkm-tcga_paired.txt')\n",
    "read_file1.to_csv(r'F:\\Course\\machine\\ML\\healthy.csv',index=None)\n",
    "\n",
    "read_file2 = pd.read_csv(r'F:\\Course\\machine\\ML\\lusc-rsem-fpkm-tcga-t_paired.txt')\n",
    "read_file2.to_csv(r'F:\\Course\\machine\\ML\\cancerous.csv',index=None)"
   ]
  },
  {
   "cell_type": "code",
   "execution_count": 81,
   "metadata": {},
   "outputs": [],
   "source": [
    "#creating data frames tap seperated\n",
    "healthy = pd.read_csv('healthy.csv', sep = '\\t', index_col = 0)\n",
    "cancerous = pd.read_csv('cancerous.csv', sep = '\\t', index_col = 0)\n",
    "#healthy.head()\n",
    "#print(healthy.describe())"
   ]
  },
  {
   "cell_type": "code",
   "execution_count": 91,
   "metadata": {
    "tags": []
   },
   "outputs": [
    {
     "output_type": "stream",
     "name": "stdout",
     "text": [
      "None\n"
     ]
    }
   ],
   "source": [
    "result=[]\n",
    "rows = healthy.shape[0]\n",
    "for index_row in range(rows):    \n",
    "    res = stats.spearmanr(healthy.iloc[index_row], cancerous.iloc[index_row])[0]\n",
    "    result.append(res)\n",
    "#print(result) "
   ]
  },
  {
   "cell_type": "code",
   "execution_count": 95,
   "metadata": {},
   "outputs": [
    {
     "output_type": "stream",
     "name": "stdout",
     "text": [
      "[ 2171  2252  2253  2726  5095  5096  5223  5611  5612  5613  6080  6462\n  8476  8477  8868 10379 10996 12886 14085 14128 14247 14781 14782 14783\n 15775 15931 15932 16339 19633 19634 19635 19636 19637 19638 19639 19640\n 19641 19642 19643 19644 19645 19646 19647]\n"
     ]
    }
   ],
   "source": [
    "result = np.array(result)\n",
    "minimum_number = np.nanmin(result)\n",
    "minimum_index = np.where(result == minimum_number)[0]\n",
    "maximum_number = np.nanmax(result)\n",
    "maximum_index = np.where(result == maximum_number)[0]\n",
    "print(maximum_index)"
   ]
  },
  {
   "cell_type": "code",
   "execution_count": 98,
   "metadata": {},
   "outputs": [
    {
     "output_type": "execute_result",
     "data": {
      "text/plain": [
       "               Entrez_Gene_Id  TCGA-43-7657  TCGA-58-8386  TCGA-22-5478  \\\n",
       "Hugo_Symbol                                                               \n",
       "RP11-706O15.1               0       2193.99        414.87        368.65   \n",
       "\n",
       "               TCGA-22-5472  TCGA-43-5670  TCGA-60-2709  TCGA-22-5489  \\\n",
       "Hugo_Symbol                                                             \n",
       "RP11-706O15.1        406.31        616.37        363.56        381.68   \n",
       "\n",
       "               TCGA-77-8007  TCGA-22-5471  ...  TCGA-85-7710  TCGA-56-7580  \\\n",
       "Hugo_Symbol                                ...                               \n",
       "RP11-706O15.1        301.33        1143.1  ...        1857.6         808.0   \n",
       "\n",
       "               TCGA-43-6647  TCGA-90-6837  TCGA-56-8083  TCGA-51-4079  \\\n",
       "Hugo_Symbol                                                             \n",
       "RP11-706O15.1        483.38        358.54        629.35        170.25   \n",
       "\n",
       "               TCGA-56-7222  TCGA-22-4593  TCGA-51-4081  TCGA-56-8309  \n",
       "Hugo_Symbol                                                            \n",
       "RP11-706O15.1         497.0        314.17        358.54        417.77  \n",
       "\n",
       "[1 rows x 51 columns]"
      ],
      "text/html": "<div>\n<style scoped>\n    .dataframe tbody tr th:only-of-type {\n        vertical-align: middle;\n    }\n\n    .dataframe tbody tr th {\n        vertical-align: top;\n    }\n\n    .dataframe thead th {\n        text-align: right;\n    }\n</style>\n<table border=\"1\" class=\"dataframe\">\n  <thead>\n    <tr style=\"text-align: right;\">\n      <th></th>\n      <th>Entrez_Gene_Id</th>\n      <th>TCGA-43-7657</th>\n      <th>TCGA-58-8386</th>\n      <th>TCGA-22-5478</th>\n      <th>TCGA-22-5472</th>\n      <th>TCGA-43-5670</th>\n      <th>TCGA-60-2709</th>\n      <th>TCGA-22-5489</th>\n      <th>TCGA-77-8007</th>\n      <th>TCGA-22-5471</th>\n      <th>...</th>\n      <th>TCGA-85-7710</th>\n      <th>TCGA-56-7580</th>\n      <th>TCGA-43-6647</th>\n      <th>TCGA-90-6837</th>\n      <th>TCGA-56-8083</th>\n      <th>TCGA-51-4079</th>\n      <th>TCGA-56-7222</th>\n      <th>TCGA-22-4593</th>\n      <th>TCGA-51-4081</th>\n      <th>TCGA-56-8309</th>\n    </tr>\n    <tr>\n      <th>Hugo_Symbol</th>\n      <th></th>\n      <th></th>\n      <th></th>\n      <th></th>\n      <th></th>\n      <th></th>\n      <th></th>\n      <th></th>\n      <th></th>\n      <th></th>\n      <th></th>\n      <th></th>\n      <th></th>\n      <th></th>\n      <th></th>\n      <th></th>\n      <th></th>\n      <th></th>\n      <th></th>\n      <th></th>\n      <th></th>\n    </tr>\n  </thead>\n  <tbody>\n    <tr>\n      <th>RP11-706O15.1</th>\n      <td>0</td>\n      <td>2193.99</td>\n      <td>414.87</td>\n      <td>368.65</td>\n      <td>406.31</td>\n      <td>616.37</td>\n      <td>363.56</td>\n      <td>381.68</td>\n      <td>301.33</td>\n      <td>1143.1</td>\n      <td>...</td>\n      <td>1857.6</td>\n      <td>808.0</td>\n      <td>483.38</td>\n      <td>358.54</td>\n      <td>629.35</td>\n      <td>170.25</td>\n      <td>497.0</td>\n      <td>314.17</td>\n      <td>358.54</td>\n      <td>417.77</td>\n    </tr>\n  </tbody>\n</table>\n<p>1 rows × 51 columns</p>\n</div>"
     },
     "metadata": {},
     "execution_count": 98
    }
   ],
   "source": [
    "cancerous.iloc[minimum_index]"
   ]
  },
  {
   "cell_type": "code",
   "execution_count": 96,
   "metadata": {},
   "outputs": [
    {
     "output_type": "execute_result",
     "data": {
      "text/plain": [
       "               Entrez_Gene_Id  TCGA-43-7657  TCGA-58-8386  TCGA-22-5478  \\\n",
       "Hugo_Symbol                                                               \n",
       "RP11-706O15.1               0        392.44        244.57        228.13   \n",
       "\n",
       "               TCGA-22-5472  TCGA-43-5670  TCGA-60-2709  TCGA-22-5489  \\\n",
       "Hugo_Symbol                                                             \n",
       "RP11-706O15.1        140.04        208.38        165.57        267.73   \n",
       "\n",
       "               TCGA-77-8007  TCGA-22-5471  ...  TCGA-85-7710  TCGA-56-7580  \\\n",
       "Hugo_Symbol                                ...                               \n",
       "RP11-706O15.1        206.94        172.65  ...         412.0        253.23   \n",
       "\n",
       "               TCGA-43-6647  TCGA-90-6837  TCGA-56-8083  TCGA-51-4079  \\\n",
       "Hugo_Symbol                                                             \n",
       "RP11-706O15.1        379.04        214.27        215.77        334.46   \n",
       "\n",
       "               TCGA-56-7222  TCGA-22-4593  TCGA-51-4081  TCGA-56-8309  \n",
       "Hugo_Symbol                                                            \n",
       "RP11-706O15.1        202.66        221.86        228.13        242.88  \n",
       "\n",
       "[1 rows x 51 columns]"
      ],
      "text/html": "<div>\n<style scoped>\n    .dataframe tbody tr th:only-of-type {\n        vertical-align: middle;\n    }\n\n    .dataframe tbody tr th {\n        vertical-align: top;\n    }\n\n    .dataframe thead th {\n        text-align: right;\n    }\n</style>\n<table border=\"1\" class=\"dataframe\">\n  <thead>\n    <tr style=\"text-align: right;\">\n      <th></th>\n      <th>Entrez_Gene_Id</th>\n      <th>TCGA-43-7657</th>\n      <th>TCGA-58-8386</th>\n      <th>TCGA-22-5478</th>\n      <th>TCGA-22-5472</th>\n      <th>TCGA-43-5670</th>\n      <th>TCGA-60-2709</th>\n      <th>TCGA-22-5489</th>\n      <th>TCGA-77-8007</th>\n      <th>TCGA-22-5471</th>\n      <th>...</th>\n      <th>TCGA-85-7710</th>\n      <th>TCGA-56-7580</th>\n      <th>TCGA-43-6647</th>\n      <th>TCGA-90-6837</th>\n      <th>TCGA-56-8083</th>\n      <th>TCGA-51-4079</th>\n      <th>TCGA-56-7222</th>\n      <th>TCGA-22-4593</th>\n      <th>TCGA-51-4081</th>\n      <th>TCGA-56-8309</th>\n    </tr>\n    <tr>\n      <th>Hugo_Symbol</th>\n      <th></th>\n      <th></th>\n      <th></th>\n      <th></th>\n      <th></th>\n      <th></th>\n      <th></th>\n      <th></th>\n      <th></th>\n      <th></th>\n      <th></th>\n      <th></th>\n      <th></th>\n      <th></th>\n      <th></th>\n      <th></th>\n      <th></th>\n      <th></th>\n      <th></th>\n      <th></th>\n      <th></th>\n    </tr>\n  </thead>\n  <tbody>\n    <tr>\n      <th>RP11-706O15.1</th>\n      <td>0</td>\n      <td>392.44</td>\n      <td>244.57</td>\n      <td>228.13</td>\n      <td>140.04</td>\n      <td>208.38</td>\n      <td>165.57</td>\n      <td>267.73</td>\n      <td>206.94</td>\n      <td>172.65</td>\n      <td>...</td>\n      <td>412.0</td>\n      <td>253.23</td>\n      <td>379.04</td>\n      <td>214.27</td>\n      <td>215.77</td>\n      <td>334.46</td>\n      <td>202.66</td>\n      <td>221.86</td>\n      <td>228.13</td>\n      <td>242.88</td>\n    </tr>\n  </tbody>\n</table>\n<p>1 rows × 51 columns</p>\n</div>"
     },
     "metadata": {},
     "execution_count": 96
    }
   ],
   "source": [
    "healthy.iloc[minimum_index]"
   ]
  },
  {
   "cell_type": "code",
   "execution_count": 103,
   "metadata": {},
   "outputs": [],
   "source": [
    "#healthy.iloc[maximum_index]"
   ]
  },
  {
   "cell_type": "code",
   "execution_count": 101,
   "metadata": {},
   "outputs": [
    {
     "output_type": "display_data",
     "data": {
      "text/plain": "<Figure size 432x288 with 1 Axes>",
      "image/svg+xml": "<?xml version=\"1.0\" encoding=\"utf-8\" standalone=\"no\"?>\r\n<!DOCTYPE svg PUBLIC \"-//W3C//DTD SVG 1.1//EN\"\r\n  \"http://www.w3.org/Graphics/SVG/1.1/DTD/svg11.dtd\">\r\n<!-- Created with matplotlib (https://matplotlib.org/) -->\r\n<svg height=\"248.518125pt\" version=\"1.1\" viewBox=\"0 0 381.65 248.518125\" width=\"381.65pt\" xmlns=\"http://www.w3.org/2000/svg\" xmlns:xlink=\"http://www.w3.org/1999/xlink\">\r\n <defs>\r\n  <style type=\"text/css\">\r\n*{stroke-linecap:butt;stroke-linejoin:round;}\r\n  </style>\r\n </defs>\r\n <g id=\"figure_1\">\r\n  <g id=\"patch_1\">\r\n   <path d=\"M -0 248.518125 \r\nL 381.65 248.518125 \r\nL 381.65 0 \r\nL -0 0 \r\nz\r\n\" style=\"fill:none;\"/>\r\n  </g>\r\n  <g id=\"axes_1\">\r\n   <g id=\"patch_2\">\r\n    <path d=\"M 39.65 224.64 \r\nL 374.45 224.64 \r\nL 374.45 7.2 \r\nL 39.65 7.2 \r\nz\r\n\" style=\"fill:#ffffff;\"/>\r\n   </g>\r\n   <g id=\"PathCollection_1\">\r\n    <defs>\r\n     <path d=\"M 0 3 \r\nC 0.795609 3 1.55874 2.683901 2.12132 2.12132 \r\nC 2.683901 1.55874 3 0.795609 3 0 \r\nC 3 -0.795609 2.683901 -1.55874 2.12132 -2.12132 \r\nC 1.55874 -2.683901 0.795609 -3 0 -3 \r\nC -0.795609 -3 -1.55874 -2.683901 -2.12132 -2.12132 \r\nC -2.683901 -1.55874 -3 -0.795609 -3 0 \r\nC -3 0.795609 -2.683901 1.55874 -2.12132 2.12132 \r\nC -1.55874 2.683901 -0.795609 3 0 3 \r\nz\r\n\" id=\"m080847e648\" style=\"stroke:#1f77b4;\"/>\r\n    </defs>\r\n    <g clip-path=\"url(#pfb488b0dc4)\">\r\n     <use style=\"fill:#1f77b4;stroke:#1f77b4;\" x=\"54.868182\" xlink:href=\"#m080847e648\" y=\"214.756364\"/>\r\n     <use style=\"fill:#1f77b4;stroke:#1f77b4;\" x=\"331.021201\" xlink:href=\"#m080847e648\" y=\"17.083636\"/>\r\n     <use style=\"fill:#1f77b4;stroke:#1f77b4;\" x=\"226.967723\" xlink:href=\"#m080847e648\" y=\"177.377668\"/>\r\n     <use style=\"fill:#1f77b4;stroke:#1f77b4;\" x=\"215.399189\" xlink:href=\"#m080847e648\" y=\"181.541968\"/>\r\n     <use style=\"fill:#1f77b4;stroke:#1f77b4;\" x=\"153.411829\" xlink:href=\"#m080847e648\" y=\"178.148902\"/>\r\n     <use style=\"fill:#1f77b4;stroke:#1f77b4;\" x=\"201.501466\" xlink:href=\"#m080847e648\" y=\"159.223048\"/>\r\n     <use style=\"fill:#1f77b4;stroke:#1f77b4;\" x=\"171.376834\" xlink:href=\"#m080847e648\" y=\"182.000564\"/>\r\n     <use style=\"fill:#1f77b4;stroke:#1f77b4;\" x=\"243.265001\" xlink:href=\"#m080847e648\" y=\"180.368\"/>\r\n     <use style=\"fill:#1f77b4;stroke:#1f77b4;\" x=\"200.488164\" xlink:href=\"#m080847e648\" y=\"187.607323\"/>\r\n     <use style=\"fill:#1f77b4;stroke:#1f77b4;\" x=\"176.358903\" xlink:href=\"#m080847e648\" y=\"111.766061\"/>\r\n     <use style=\"fill:#1f77b4;stroke:#1f77b4;\" x=\"247.233769\" xlink:href=\"#m080847e648\" y=\"146.838264\"/>\r\n     <use style=\"fill:#1f77b4;stroke:#1f77b4;\" x=\"209.903431\" xlink:href=\"#m080847e648\" y=\"172.103368\"/>\r\n     <use style=\"fill:#1f77b4;stroke:#1f77b4;\" x=\"266.908721\" xlink:href=\"#m080847e648\" y=\"161.857495\"/>\r\n     <use style=\"fill:#1f77b4;stroke:#1f77b4;\" x=\"199.474862\" xlink:href=\"#m080847e648\" y=\"184.412471\"/>\r\n     <use style=\"fill:#1f77b4;stroke:#1f77b4;\" x=\"228.171019\" xlink:href=\"#m080847e648\" y=\"195.717889\"/>\r\n     <use style=\"fill:#1f77b4;stroke:#1f77b4;\" x=\"226.967723\" xlink:href=\"#m080847e648\" y=\"80.703191\"/>\r\n     <use style=\"fill:#1f77b4;stroke:#1f77b4;\" x=\"173.016413\" xlink:href=\"#m080847e648\" y=\"191.781534\"/>\r\n     <use style=\"fill:#1f77b4;stroke:#1f77b4;\" x=\"152.046685\" xlink:href=\"#m080847e648\" y=\"174.127856\"/>\r\n     <use style=\"fill:#1f77b4;stroke:#1f77b4;\" x=\"310.698861\" xlink:href=\"#m080847e648\" y=\"180.368\"/>\r\n     <use style=\"fill:#1f77b4;stroke:#1f77b4;\" x=\"169.765402\" xlink:href=\"#m080847e648\" y=\"188.167729\"/>\r\n     <use style=\"fill:#1f77b4;stroke:#1f77b4;\" x=\"231.830167\" xlink:href=\"#m080847e648\" y=\"163.306261\"/>\r\n     <use style=\"fill:#1f77b4;stroke:#1f77b4;\" x=\"298.54627\" xlink:href=\"#m080847e648\" y=\"182.452853\"/>\r\n     <use style=\"fill:#1f77b4;stroke:#1f77b4;\" x=\"173.839721\" xlink:href=\"#m080847e648\" y=\"176.590217\"/>\r\n     <use style=\"fill:#1f77b4;stroke:#1f77b4;\" x=\"255.438702\" xlink:href=\"#m080847e648\" y=\"158.835629\"/>\r\n     <use style=\"fill:#1f77b4;stroke:#1f77b4;\" x=\"180.665438\" xlink:href=\"#m080847e648\" y=\"187.227112\"/>\r\n     <use style=\"fill:#1f77b4;stroke:#1f77b4;\" x=\"258.246394\" xlink:href=\"#m080847e648\" y=\"185.44859\"/>\r\n     <use style=\"fill:#1f77b4;stroke:#1f77b4;\" x=\"198.468596\" xlink:href=\"#m080847e648\" y=\"179.398552\"/>\r\n     <use style=\"fill:#1f77b4;stroke:#1f77b4;\" x=\"204.597668\" xlink:href=\"#m080847e648\" y=\"195.180908\"/>\r\n     <use style=\"fill:#1f77b4;stroke:#1f77b4;\" x=\"316.089066\" xlink:href=\"#m080847e648\" y=\"156.05072\"/>\r\n     <use style=\"fill:#1f77b4;stroke:#1f77b4;\" x=\"280.609413\" xlink:href=\"#m080847e648\" y=\"152.26663\"/>\r\n     <use style=\"fill:#1f77b4;stroke:#1f77b4;\" x=\"239.373639\" xlink:href=\"#m080847e648\" y=\"104.367265\"/>\r\n     <use style=\"fill:#1f77b4;stroke:#1f77b4;\" x=\"359.231818\" xlink:href=\"#m080847e648\" y=\"157.260727\"/>\r\n     <use style=\"fill:#1f77b4;stroke:#1f77b4;\" x=\"244.580887\" xlink:href=\"#m080847e648\" y=\"147.308572\"/>\r\n     <use style=\"fill:#1f77b4;stroke:#1f77b4;\" x=\"254.045412\" xlink:href=\"#m080847e648\" y=\"175.240558\"/>\r\n     <use style=\"fill:#1f77b4;stroke:#1f77b4;\" x=\"243.265001\" xlink:href=\"#m080847e648\" y=\"162.223291\"/>\r\n     <use style=\"fill:#1f77b4;stroke:#1f77b4;\" x=\"168.963204\" xlink:href=\"#m080847e648\" y=\"182.000564\"/>\r\n     <use style=\"fill:#1f77b4;stroke:#1f77b4;\" x=\"301.959129\" xlink:href=\"#m080847e648\" y=\"165.746999\"/>\r\n     <use style=\"fill:#1f77b4;stroke:#1f77b4;\" x=\"332.94929\" xlink:href=\"#m080847e648\" y=\"165.062259\"/>\r\n     <use style=\"fill:#1f77b4;stroke:#1f77b4;\" x=\"202.528842\" xlink:href=\"#m080847e648\" y=\"188.167729\"/>\r\n     <use style=\"fill:#1f77b4;stroke:#1f77b4;\" x=\"234.307128\" xlink:href=\"#m080847e648\" y=\"173.271931\"/>\r\n     <use style=\"fill:#1f77b4;stroke:#1f77b4;\" x=\"178.061814\" xlink:href=\"#m080847e648\" y=\"178.402075\"/>\r\n     <use style=\"fill:#1f77b4;stroke:#1f77b4;\" x=\"344.785224\" xlink:href=\"#m080847e648\" y=\"47.39149\"/>\r\n     <use style=\"fill:#1f77b4;stroke:#1f77b4;\" x=\"233.06161\" xlink:href=\"#m080847e648\" y=\"141.957689\"/>\r\n     <use style=\"fill:#1f77b4;stroke:#1f77b4;\" x=\"321.59186\" xlink:href=\"#m080847e648\" y=\"171.205097\"/>\r\n     <use style=\"fill:#1f77b4;stroke:#1f77b4;\" x=\"205.646154\" xlink:href=\"#m080847e648\" y=\"182.452853\"/>\r\n     <use style=\"fill:#1f77b4;stroke:#1f77b4;\" x=\"206.701677\" xlink:href=\"#m080847e648\" y=\"158.053584\"/>\r\n     <use style=\"fill:#1f77b4;stroke:#1f77b4;\" x=\"290.221711\" xlink:href=\"#m080847e648\" y=\"199.417287\"/>\r\n     <use style=\"fill:#1f77b4;stroke:#1f77b4;\" x=\"197.476404\" xlink:href=\"#m080847e648\" y=\"169.977971\"/>\r\n     <use style=\"fill:#1f77b4;stroke:#1f77b4;\" x=\"210.987102\" xlink:href=\"#m080847e648\" y=\"186.450473\"/>\r\n     <use style=\"fill:#1f77b4;stroke:#1f77b4;\" x=\"215.399189\" xlink:href=\"#m080847e648\" y=\"182.452853\"/>\r\n     <use style=\"fill:#1f77b4;stroke:#1f77b4;\" x=\"225.7785\" xlink:href=\"#m080847e648\" y=\"177.116386\"/>\r\n    </g>\r\n   </g>\r\n   <g id=\"matplotlib.axis_1\">\r\n    <g id=\"xtick_1\">\r\n     <g id=\"line2d_1\">\r\n      <defs>\r\n       <path d=\"M 0 0 \r\nL 0 3.5 \r\n\" id=\"md298dab8d7\" style=\"stroke:#000000;stroke-width:0.8;\"/>\r\n      </defs>\r\n      <g>\r\n       <use style=\"stroke:#000000;stroke-width:0.8;\" x=\"54.868182\" xlink:href=\"#md298dab8d7\" y=\"224.64\"/>\r\n      </g>\r\n     </g>\r\n     <g id=\"text_1\">\r\n      <!-- 0 -->\r\n      <defs>\r\n       <path d=\"M 31.78125 66.40625 \r\nQ 24.171875 66.40625 20.328125 58.90625 \r\nQ 16.5 51.421875 16.5 36.375 \r\nQ 16.5 21.390625 20.328125 13.890625 \r\nQ 24.171875 6.390625 31.78125 6.390625 \r\nQ 39.453125 6.390625 43.28125 13.890625 \r\nQ 47.125 21.390625 47.125 36.375 \r\nQ 47.125 51.421875 43.28125 58.90625 \r\nQ 39.453125 66.40625 31.78125 66.40625 \r\nz\r\nM 31.78125 74.21875 \r\nQ 44.046875 74.21875 50.515625 64.515625 \r\nQ 56.984375 54.828125 56.984375 36.375 \r\nQ 56.984375 17.96875 50.515625 8.265625 \r\nQ 44.046875 -1.421875 31.78125 -1.421875 \r\nQ 19.53125 -1.421875 13.0625 8.265625 \r\nQ 6.59375 17.96875 6.59375 36.375 \r\nQ 6.59375 54.828125 13.0625 64.515625 \r\nQ 19.53125 74.21875 31.78125 74.21875 \r\nz\r\n\" id=\"DejaVuSans-48\"/>\r\n      </defs>\r\n      <g transform=\"translate(51.686932 239.238437)scale(0.1 -0.1)\">\r\n       <use xlink:href=\"#DejaVuSans-48\"/>\r\n      </g>\r\n     </g>\r\n    </g>\r\n    <g id=\"xtick_2\">\r\n     <g id=\"line2d_2\">\r\n      <g>\r\n       <use style=\"stroke:#000000;stroke-width:0.8;\" x=\"125.236396\" xlink:href=\"#md298dab8d7\" y=\"224.64\"/>\r\n      </g>\r\n     </g>\r\n     <g id=\"text_2\">\r\n      <!-- 100 -->\r\n      <defs>\r\n       <path d=\"M 12.40625 8.296875 \r\nL 28.515625 8.296875 \r\nL 28.515625 63.921875 \r\nL 10.984375 60.40625 \r\nL 10.984375 69.390625 \r\nL 28.421875 72.90625 \r\nL 38.28125 72.90625 \r\nL 38.28125 8.296875 \r\nL 54.390625 8.296875 \r\nL 54.390625 0 \r\nL 12.40625 0 \r\nz\r\n\" id=\"DejaVuSans-49\"/>\r\n      </defs>\r\n      <g transform=\"translate(115.692646 239.238437)scale(0.1 -0.1)\">\r\n       <use xlink:href=\"#DejaVuSans-49\"/>\r\n       <use x=\"63.623047\" xlink:href=\"#DejaVuSans-48\"/>\r\n       <use x=\"127.246094\" xlink:href=\"#DejaVuSans-48\"/>\r\n      </g>\r\n     </g>\r\n    </g>\r\n    <g id=\"xtick_3\">\r\n     <g id=\"line2d_3\">\r\n      <g>\r\n       <use style=\"stroke:#000000;stroke-width:0.8;\" x=\"195.60461\" xlink:href=\"#md298dab8d7\" y=\"224.64\"/>\r\n      </g>\r\n     </g>\r\n     <g id=\"text_3\">\r\n      <!-- 200 -->\r\n      <defs>\r\n       <path d=\"M 19.1875 8.296875 \r\nL 53.609375 8.296875 \r\nL 53.609375 0 \r\nL 7.328125 0 \r\nL 7.328125 8.296875 \r\nQ 12.9375 14.109375 22.625 23.890625 \r\nQ 32.328125 33.6875 34.8125 36.53125 \r\nQ 39.546875 41.84375 41.421875 45.53125 \r\nQ 43.3125 49.21875 43.3125 52.78125 \r\nQ 43.3125 58.59375 39.234375 62.25 \r\nQ 35.15625 65.921875 28.609375 65.921875 \r\nQ 23.96875 65.921875 18.8125 64.3125 \r\nQ 13.671875 62.703125 7.8125 59.421875 \r\nL 7.8125 69.390625 \r\nQ 13.765625 71.78125 18.9375 73 \r\nQ 24.125 74.21875 28.421875 74.21875 \r\nQ 39.75 74.21875 46.484375 68.546875 \r\nQ 53.21875 62.890625 53.21875 53.421875 \r\nQ 53.21875 48.921875 51.53125 44.890625 \r\nQ 49.859375 40.875 45.40625 35.40625 \r\nQ 44.1875 33.984375 37.640625 27.21875 \r\nQ 31.109375 20.453125 19.1875 8.296875 \r\nz\r\n\" id=\"DejaVuSans-50\"/>\r\n      </defs>\r\n      <g transform=\"translate(186.06086 239.238437)scale(0.1 -0.1)\">\r\n       <use xlink:href=\"#DejaVuSans-50\"/>\r\n       <use x=\"63.623047\" xlink:href=\"#DejaVuSans-48\"/>\r\n       <use x=\"127.246094\" xlink:href=\"#DejaVuSans-48\"/>\r\n      </g>\r\n     </g>\r\n    </g>\r\n    <g id=\"xtick_4\">\r\n     <g id=\"line2d_4\">\r\n      <g>\r\n       <use style=\"stroke:#000000;stroke-width:0.8;\" x=\"265.972824\" xlink:href=\"#md298dab8d7\" y=\"224.64\"/>\r\n      </g>\r\n     </g>\r\n     <g id=\"text_4\">\r\n      <!-- 300 -->\r\n      <defs>\r\n       <path d=\"M 40.578125 39.3125 \r\nQ 47.65625 37.796875 51.625 33 \r\nQ 55.609375 28.21875 55.609375 21.1875 \r\nQ 55.609375 10.40625 48.1875 4.484375 \r\nQ 40.765625 -1.421875 27.09375 -1.421875 \r\nQ 22.515625 -1.421875 17.65625 -0.515625 \r\nQ 12.796875 0.390625 7.625 2.203125 \r\nL 7.625 11.71875 \r\nQ 11.71875 9.328125 16.59375 8.109375 \r\nQ 21.484375 6.890625 26.8125 6.890625 \r\nQ 36.078125 6.890625 40.9375 10.546875 \r\nQ 45.796875 14.203125 45.796875 21.1875 \r\nQ 45.796875 27.640625 41.28125 31.265625 \r\nQ 36.765625 34.90625 28.71875 34.90625 \r\nL 20.21875 34.90625 \r\nL 20.21875 43.015625 \r\nL 29.109375 43.015625 \r\nQ 36.375 43.015625 40.234375 45.921875 \r\nQ 44.09375 48.828125 44.09375 54.296875 \r\nQ 44.09375 59.90625 40.109375 62.90625 \r\nQ 36.140625 65.921875 28.71875 65.921875 \r\nQ 24.65625 65.921875 20.015625 65.03125 \r\nQ 15.375 64.15625 9.8125 62.3125 \r\nL 9.8125 71.09375 \r\nQ 15.4375 72.65625 20.34375 73.4375 \r\nQ 25.25 74.21875 29.59375 74.21875 \r\nQ 40.828125 74.21875 47.359375 69.109375 \r\nQ 53.90625 64.015625 53.90625 55.328125 \r\nQ 53.90625 49.265625 50.4375 45.09375 \r\nQ 46.96875 40.921875 40.578125 39.3125 \r\nz\r\n\" id=\"DejaVuSans-51\"/>\r\n      </defs>\r\n      <g transform=\"translate(256.429074 239.238437)scale(0.1 -0.1)\">\r\n       <use xlink:href=\"#DejaVuSans-51\"/>\r\n       <use x=\"63.623047\" xlink:href=\"#DejaVuSans-48\"/>\r\n       <use x=\"127.246094\" xlink:href=\"#DejaVuSans-48\"/>\r\n      </g>\r\n     </g>\r\n    </g>\r\n    <g id=\"xtick_5\">\r\n     <g id=\"line2d_5\">\r\n      <g>\r\n       <use style=\"stroke:#000000;stroke-width:0.8;\" x=\"336.341038\" xlink:href=\"#md298dab8d7\" y=\"224.64\"/>\r\n      </g>\r\n     </g>\r\n     <g id=\"text_5\">\r\n      <!-- 400 -->\r\n      <defs>\r\n       <path d=\"M 37.796875 64.3125 \r\nL 12.890625 25.390625 \r\nL 37.796875 25.390625 \r\nz\r\nM 35.203125 72.90625 \r\nL 47.609375 72.90625 \r\nL 47.609375 25.390625 \r\nL 58.015625 25.390625 \r\nL 58.015625 17.1875 \r\nL 47.609375 17.1875 \r\nL 47.609375 0 \r\nL 37.796875 0 \r\nL 37.796875 17.1875 \r\nL 4.890625 17.1875 \r\nL 4.890625 26.703125 \r\nz\r\n\" id=\"DejaVuSans-52\"/>\r\n      </defs>\r\n      <g transform=\"translate(326.797288 239.238437)scale(0.1 -0.1)\">\r\n       <use xlink:href=\"#DejaVuSans-52\"/>\r\n       <use x=\"63.623047\" xlink:href=\"#DejaVuSans-48\"/>\r\n       <use x=\"127.246094\" xlink:href=\"#DejaVuSans-48\"/>\r\n      </g>\r\n     </g>\r\n    </g>\r\n   </g>\r\n   <g id=\"matplotlib.axis_2\">\r\n    <g id=\"ytick_1\">\r\n     <g id=\"line2d_6\">\r\n      <defs>\r\n       <path d=\"M 0 0 \r\nL -3.5 0 \r\n\" id=\"meae9061e40\" style=\"stroke:#000000;stroke-width:0.8;\"/>\r\n      </defs>\r\n      <g>\r\n       <use style=\"stroke:#000000;stroke-width:0.8;\" x=\"39.65\" xlink:href=\"#meae9061e40\" y=\"214.756364\"/>\r\n      </g>\r\n     </g>\r\n     <g id=\"text_6\">\r\n      <!-- 0 -->\r\n      <g transform=\"translate(26.2875 218.555582)scale(0.1 -0.1)\">\r\n       <use xlink:href=\"#DejaVuSans-48\"/>\r\n      </g>\r\n     </g>\r\n    </g>\r\n    <g id=\"ytick_2\">\r\n     <g id=\"line2d_7\">\r\n      <g>\r\n       <use style=\"stroke:#000000;stroke-width:0.8;\" x=\"39.65\" xlink:href=\"#meae9061e40\" y=\"169.707679\"/>\r\n      </g>\r\n     </g>\r\n     <g id=\"text_7\">\r\n      <!-- 500 -->\r\n      <defs>\r\n       <path d=\"M 10.796875 72.90625 \r\nL 49.515625 72.90625 \r\nL 49.515625 64.59375 \r\nL 19.828125 64.59375 \r\nL 19.828125 46.734375 \r\nQ 21.96875 47.46875 24.109375 47.828125 \r\nQ 26.265625 48.1875 28.421875 48.1875 \r\nQ 40.625 48.1875 47.75 41.5 \r\nQ 54.890625 34.8125 54.890625 23.390625 \r\nQ 54.890625 11.625 47.5625 5.09375 \r\nQ 40.234375 -1.421875 26.90625 -1.421875 \r\nQ 22.3125 -1.421875 17.546875 -0.640625 \r\nQ 12.796875 0.140625 7.71875 1.703125 \r\nL 7.71875 11.625 \r\nQ 12.109375 9.234375 16.796875 8.0625 \r\nQ 21.484375 6.890625 26.703125 6.890625 \r\nQ 35.15625 6.890625 40.078125 11.328125 \r\nQ 45.015625 15.765625 45.015625 23.390625 \r\nQ 45.015625 31 40.078125 35.4375 \r\nQ 35.15625 39.890625 26.703125 39.890625 \r\nQ 22.75 39.890625 18.8125 39.015625 \r\nQ 14.890625 38.140625 10.796875 36.28125 \r\nz\r\n\" id=\"DejaVuSans-53\"/>\r\n      </defs>\r\n      <g transform=\"translate(13.5625 173.506898)scale(0.1 -0.1)\">\r\n       <use xlink:href=\"#DejaVuSans-53\"/>\r\n       <use x=\"63.623047\" xlink:href=\"#DejaVuSans-48\"/>\r\n       <use x=\"127.246094\" xlink:href=\"#DejaVuSans-48\"/>\r\n      </g>\r\n     </g>\r\n    </g>\r\n    <g id=\"ytick_3\">\r\n     <g id=\"line2d_8\">\r\n      <g>\r\n       <use style=\"stroke:#000000;stroke-width:0.8;\" x=\"39.65\" xlink:href=\"#meae9061e40\" y=\"124.658994\"/>\r\n      </g>\r\n     </g>\r\n     <g id=\"text_8\">\r\n      <!-- 1000 -->\r\n      <g transform=\"translate(7.2 128.458213)scale(0.1 -0.1)\">\r\n       <use xlink:href=\"#DejaVuSans-49\"/>\r\n       <use x=\"63.623047\" xlink:href=\"#DejaVuSans-48\"/>\r\n       <use x=\"127.246094\" xlink:href=\"#DejaVuSans-48\"/>\r\n       <use x=\"190.869141\" xlink:href=\"#DejaVuSans-48\"/>\r\n      </g>\r\n     </g>\r\n    </g>\r\n    <g id=\"ytick_4\">\r\n     <g id=\"line2d_9\">\r\n      <g>\r\n       <use style=\"stroke:#000000;stroke-width:0.8;\" x=\"39.65\" xlink:href=\"#meae9061e40\" y=\"79.61031\"/>\r\n      </g>\r\n     </g>\r\n     <g id=\"text_9\">\r\n      <!-- 1500 -->\r\n      <g transform=\"translate(7.2 83.409528)scale(0.1 -0.1)\">\r\n       <use xlink:href=\"#DejaVuSans-49\"/>\r\n       <use x=\"63.623047\" xlink:href=\"#DejaVuSans-53\"/>\r\n       <use x=\"127.246094\" xlink:href=\"#DejaVuSans-48\"/>\r\n       <use x=\"190.869141\" xlink:href=\"#DejaVuSans-48\"/>\r\n      </g>\r\n     </g>\r\n    </g>\r\n    <g id=\"ytick_5\">\r\n     <g id=\"line2d_10\">\r\n      <g>\r\n       <use style=\"stroke:#000000;stroke-width:0.8;\" x=\"39.65\" xlink:href=\"#meae9061e40\" y=\"34.561625\"/>\r\n      </g>\r\n     </g>\r\n     <g id=\"text_10\">\r\n      <!-- 2000 -->\r\n      <g transform=\"translate(7.2 38.360844)scale(0.1 -0.1)\">\r\n       <use xlink:href=\"#DejaVuSans-50\"/>\r\n       <use x=\"63.623047\" xlink:href=\"#DejaVuSans-48\"/>\r\n       <use x=\"127.246094\" xlink:href=\"#DejaVuSans-48\"/>\r\n       <use x=\"190.869141\" xlink:href=\"#DejaVuSans-48\"/>\r\n      </g>\r\n     </g>\r\n    </g>\r\n   </g>\r\n   <g id=\"patch_3\">\r\n    <path d=\"M 39.65 224.64 \r\nL 39.65 7.2 \r\n\" style=\"fill:none;stroke:#000000;stroke-linecap:square;stroke-linejoin:miter;stroke-width:0.8;\"/>\r\n   </g>\r\n   <g id=\"patch_4\">\r\n    <path d=\"M 374.45 224.64 \r\nL 374.45 7.2 \r\n\" style=\"fill:none;stroke:#000000;stroke-linecap:square;stroke-linejoin:miter;stroke-width:0.8;\"/>\r\n   </g>\r\n   <g id=\"patch_5\">\r\n    <path d=\"M 39.65 224.64 \r\nL 374.45 224.64 \r\n\" style=\"fill:none;stroke:#000000;stroke-linecap:square;stroke-linejoin:miter;stroke-width:0.8;\"/>\r\n   </g>\r\n   <g id=\"patch_6\">\r\n    <path d=\"M 39.65 7.2 \r\nL 374.45 7.2 \r\n\" style=\"fill:none;stroke:#000000;stroke-linecap:square;stroke-linejoin:miter;stroke-width:0.8;\"/>\r\n   </g>\r\n  </g>\r\n </g>\r\n <defs>\r\n  <clipPath id=\"pfb488b0dc4\">\r\n   <rect height=\"217.44\" width=\"334.8\" x=\"39.65\" y=\"7.2\"/>\r\n  </clipPath>\r\n </defs>\r\n</svg>\r\n",
      "image/png": "[encoded data removed]"
     },
     "metadata": {
      "needs_background": "light"
     }
    }
   ],
   "source": [
    "minx=np.array(healthy.iloc[minimum_index])\n",
    "miny=np.array(cancerous.iloc[minimum_index])\n",
    "pyplot.scatter(minx,miny)\n",
    "pyplot.show()"
   ]
  },
  {
   "cell_type": "code",
   "execution_count": null,
   "metadata": {},
   "outputs": [],
   "source": []
  }
 ]
}