{
 "metadata": {
  "language_info": {
   "codemirror_mode": {
    "name": "ipython",
    "version": 3
   },
   "file_extension": ".py",
   "mimetype": "text/x-python",
   "name": "python",
   "nbconvert_exporter": "python",
   "pygments_lexer": "ipython3",
   "version": "3.8.3-final"
  },
  "orig_nbformat": 2,
  "kernelspec": {
   "name": "python3",
   "display_name": "Python 3",
   "language": "python"
  }
 },
 "nbformat": 4,
 "nbformat_minor": 2,
 "cells": [
  {
   "cell_type": "code",
   "execution_count": 60,
   "metadata": {},
   "outputs": [],
   "source": [
    "import pandas as pd \n",
    "import numpy as np \n",
    "import csv\n",
    "from scipy import stats"
   ]
  },
  {
   "cell_type": "code",
   "execution_count": 22,
   "metadata": {},
   "outputs": [],
   "source": [
    "#conversion of the healty data txt file to column seperated valce (csv) file\n",
    "read_file1 = pd.read_csv(r'F:\\Course\\machine\\ML\\lusc-rsem-fpkm-tcga_paired.txt')\n",
    "read_file1.to_csv(r'F:\\Course\\machine\\ML\\healthy.csv',index=None)"
   ]
  },
  {
   "cell_type": "code",
   "execution_count": 24,
   "metadata": {},
   "outputs": [],
   "source": [
    "read_file2 = pd.read_csv(r'F:\\Course\\machine\\ML\\lusc-rsem-fpkm-tcga-t_paired.txt')\n",
    "read_file2.to_csv(r'F:\\Course\\machine\\ML\\cancerous.csv',index=None)"
   ]
  },
  {
   "cell_type": "code",
   "execution_count": 27,
   "metadata": {},
   "outputs": [],
   "source": [
    "healthy=pd.read_csv('F:\\Course\\machine\\ML\\healthy.csv', sep='\\t', lineterminator='\\r', index_col=0)\n",
    "cancerous=pd.read_csv('F:\\Course\\machine\\ML\\cancerous.csv', sep='\\t', lineterminator='\\r', index_col=0)\n",
    "#healthy.head()\n",
    "#print(healthy.describe())\n"
   ]
  },
  {
   "cell_type": "code",
   "execution_count": 35,
   "metadata": {
    "tags": []
   },
   "outputs": [
    {
     "output_type": "stream",
     "name": "stdout",
     "text": [
      "51\n"
     ]
    }
   ],
   "source": [
    "print(len(cancerous.columns))"
   ]
  },
  {
   "cell_type": "code",
   "execution_count": 28,
   "metadata": {
    "tags": []
   },
   "outputs": [],
   "source": [
    "#from csv\n",
    "with open('healthy.csv', newline='') as csvfile:\n",
    "    datah= list(csv.reader(csvfile))\n",
    "#print(data)"
   ]
  },
  {
   "cell_type": "code",
   "execution_count": 29,
   "metadata": {
    "tags": []
   },
   "outputs": [],
   "source": [
    "with open('cancerous.csv', newline='') as csvfile:\n",
    "    datac= list(csv.reader(csvfile))\n",
    "#print(data)"
   ]
  },
  {
   "cell_type": "code",
   "execution_count": 40,
   "metadata": {
    "tags": []
   },
   "outputs": [],
   "source": [
    "arrayhealth=[]\n",
    "with open('healthy.csv','r') as file:\n",
    "    reader = csv.reader(file,delimiter='\\t')\n",
    "    for row in reader:\n",
    "        arrayhealth.append(row)\n",
    "       "
   ]
  },
  {
   "cell_type": "code",
   "execution_count": 47,
   "metadata": {},
   "outputs": [],
   "source": [
    "arraycancer=[]\n",
    "with open('healthy.csv','r') as file:\n",
    "    reader = csv.reader(file,delimiter='\\t')\n",
    "    for row in reader:\n",
    "        arraycancer.append(row)"
   ]
  },
  {
   "cell_type": "code",
   "execution_count": 74,
   "metadata": {
    "tags": []
   },
   "outputs": [],
   "source": [
    "#r = np.corrcoef(arrayhealth,arraycancer)\n",
    "#arrayhealth.corr(arraycancer, method='spearman')\n",
    "result=[]\n",
    "for row_index in range(len(arrayhealth)):\n",
    "    res=stats.spearmanr(arrayhealth[row_index] , arraycancer[row_index])\n",
    "    result.append(res)\n"
   ]
  },
  {
   "cell_type": "code",
   "execution_count": 75,
   "metadata": {},
   "outputs": [
    {
     "output_type": "stream",
     "name": "stdout",
     "text": [
      "SpearmanrResult(correlation=0.9999999999999999, pvalue=0.0)\n"
     ]
    }
   ],
   "source": [
    "print(res)"
   ]
  },
  {
   "cell_type": "code",
   "execution_count": 106,
   "metadata": {},
   "outputs": [
    {
     "output_type": "stream",
     "name": "stdout",
     "text": [
      "[[1.         0.1585261  0.02381582 ... 0.04676918 0.03095912 0.02398405]\n [0.1585261  1.         0.10349441 ... 0.1200008  0.09875468 0.09823566]\n [0.02381582 0.10349441 1.         ... 0.52423628 0.52372913 0.55857666]\n ...\n [0.04676918 0.1200008  0.52423628 ... 1.         0.51786465 0.49317569]\n [0.03095912 0.09875468 0.52372913 ... 0.51786465 1.         0.5340977 ]\n [0.02398405 0.09823566 0.55857666 ... 0.49317569 0.5340977  1.        ]]\n"
     ]
    }
   ],
   "source": [
    "corr=stats.spearmanr(arrayhealth, arraycancer)\n",
    "final=corr.correlation\n",
    "print(final)"
   ]
  },
  {
   "cell_type": "code",
   "execution_count": 138,
   "metadata": {},
   "outputs": [
    {
     "output_type": "error",
     "ename": "TypeError",
     "evalue": "only size-1 arrays can be converted to Python scalars",
     "traceback": [
      "\u001b[1;31m---------------------------------------------------------------------------\u001b[0m",
      "\u001b[1;31mTypeError\u001b[0m                                 Traceback (most recent call last)",
      "\u001b[1;32m<ipython-input-138-981b50ec1209>\u001b[0m in \u001b[0;36m<module>\u001b[1;34m\u001b[0m\n\u001b[0;32m      1\u001b[0m \u001b[1;32mfor\u001b[0m \u001b[0melement\u001b[0m \u001b[1;32min\u001b[0m \u001b[0mfinal\u001b[0m\u001b[1;33m:\u001b[0m\u001b[1;33m\u001b[0m\u001b[1;33m\u001b[0m\u001b[0m\n\u001b[1;32m----> 2\u001b[1;33m     \u001b[1;32mif\u001b[0m \u001b[0mnp\u001b[0m\u001b[1;33m.\u001b[0m\u001b[0mall\u001b[0m\u001b[1;33m(\u001b[0m\u001b[0mfloat\u001b[0m\u001b[1;33m(\u001b[0m\u001b[0melement\u001b[0m\u001b[1;33m)\u001b[0m \u001b[1;33m>\u001b[0m \u001b[1;36m0\u001b[0m\u001b[1;33m)\u001b[0m\u001b[1;33m:\u001b[0m\u001b[1;33m\u001b[0m\u001b[1;33m\u001b[0m\u001b[0m\n\u001b[0m\u001b[0;32m      3\u001b[0m         \u001b[0mprint\u001b[0m \u001b[1;33m(\u001b[0m\u001b[0melement\u001b[0m\u001b[1;33m)\u001b[0m\u001b[1;33m\u001b[0m\u001b[1;33m\u001b[0m\u001b[0m\n",
      "\u001b[1;31mTypeError\u001b[0m: only size-1 arrays can be converted to Python scalars"
     ]
    }
   ],
   "source": [
    "for element in final:\n",
    "    if np.all(element > 0):\n",
    "        print (element)"
   ]
  },
  {
   "cell_type": "code",
   "execution_count": null,
   "metadata": {},
   "outputs": [],
   "source": []
  },
  {
   "cell_type": "code",
   "execution_count": null,
   "metadata": {},
   "outputs": [],
   "source": []
  }
 ]
}