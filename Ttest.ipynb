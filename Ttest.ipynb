{
 "metadata": {
  "language_info": {
   "codemirror_mode": {
    "name": "ipython",
    "version": 3
   },
   "file_extension": ".py",
   "mimetype": "text/x-python",
   "name": "python",
   "nbconvert_exporter": "python",
   "pygments_lexer": "ipython3",
   "version": "3.8.3-final"
  },
  "orig_nbformat": 2,
  "kernelspec": {
   "name": "python3",
   "display_name": "Python 3",
   "language": "python"
  }
 },
 "nbformat": 4,
 "nbformat_minor": 2,
 "cells": [
  {
   "cell_type": "code",
   "execution_count": 31,
   "metadata": {},
   "outputs": [],
   "source": [
    "#>>>>>>> 1\n",
    "import pandas as pd \n",
    "import numpy as np \n",
    "import csv\n",
    "from scipy.stats import ttest_rel,ttest_ind\n",
    "from statsmodels.stats.multitest import multipletests"
   ]
  },
  {
   "cell_type": "code",
   "execution_count": 32,
   "metadata": {},
   "outputs": [
    {
     "output_type": "execute_result",
     "data": {
      "text/plain": [
       "         Hugo_Symbol  Entrez_Gene_Id  TCGA-43-7657  TCGA-58-8386  \\\n",
       "0           HIST3H2A           92815        336.79        500.46   \n",
       "1              LIN7B           64130        105.15        212.78   \n",
       "2                LXN           56925        848.22        236.21   \n",
       "3             CNKSR2           22866         32.59          8.51   \n",
       "4              SCML1            6322         84.63         74.58   \n",
       "...              ...             ...           ...           ...   \n",
       "19643         HAVCR2           84868         74.58        432.53   \n",
       "19644    RP1-66C13.4               0          0.00          0.00   \n",
       "19645        C3orf79          152118          2.27          1.66   \n",
       "19646  CTD-2116N17.1               0          6.89         10.79   \n",
       "19647           FUT2            2524        105.15         58.30   \n",
       "\n",
       "       TCGA-22-5478  TCGA-22-5472  TCGA-43-5670  TCGA-60-2709  TCGA-22-5489  \\\n",
       "0            703.28        287.01        486.75         70.51        145.02   \n",
       "1            102.25        212.78        172.65        244.57        105.89   \n",
       "2            271.48        759.08         61.25        620.67        329.84   \n",
       "3             45.85          6.16         49.21         11.91         12.27   \n",
       "4             67.12         57.89        102.97        132.44         66.65   \n",
       "...             ...           ...           ...           ...           ...   \n",
       "19643        128.79        208.38         13.93        633.73        348.71   \n",
       "19644          0.00          0.00          0.00          0.00          7.69   \n",
       "19645          0.00          1.22          0.00          0.00          0.00   \n",
       "19646          8.51          6.84          9.13          9.93         14.78   \n",
       "19647         39.79       1059.11        366.09         97.36         46.50   \n",
       "\n",
       "       TCGA-77-8007  ...  TCGA-85-7710  TCGA-56-7580  TCGA-43-6647  \\\n",
       "0             14.03  ...          3.06        420.68        109.66   \n",
       "1            152.28  ...        135.24        135.24        151.22   \n",
       "2            599.49  ...        688.78        204.07        438.59   \n",
       "3             15.00  ...          1.38          6.62          6.11   \n",
       "4             57.08  ...        165.57        119.26         87.65   \n",
       "...             ...  ...           ...           ...           ...   \n",
       "19643        420.68  ...        150.17         57.49        236.21   \n",
       "19644          0.00  ...          0.00         31.00          1.83   \n",
       "19645          0.00  ...          0.00          5.50          0.00   \n",
       "19646         15.56  ...          8.85          6.21          4.94   \n",
       "19647        101.54  ...        106.63         35.50         55.49   \n",
       "\n",
       "       TCGA-90-6837  TCGA-56-8083  TCGA-51-4079  TCGA-56-7222  TCGA-22-4593  \\\n",
       "0            106.63       1233.75        172.65        303.44        228.13   \n",
       "1            395.18        295.11        120.94        114.36         96.68   \n",
       "2            503.95       3039.30        607.87        106.63        507.46   \n",
       "3              1.66         33.54          3.11          0.82          3.32   \n",
       "4             53.57        232.94         67.12         64.80         90.14   \n",
       "...             ...           ...           ...           ...           ...   \n",
       "19643        353.59         29.48        202.66         33.78         73.54   \n",
       "19644          0.00          3.32          5.73          0.00          3.03   \n",
       "19645          0.00          0.00          2.86          0.00          1.04   \n",
       "19646         17.64         28.65         14.78         27.64         15.80   \n",
       "19647        738.29        232.94        244.57         71.50         53.57   \n",
       "\n",
       "       TCGA-51-4081  TCGA-56-8309  \n",
       "0            251.48         23.59  \n",
       "1            277.20        153.34  \n",
       "2            255.00        346.29  \n",
       "3             27.25          6.16  \n",
       "4            198.47        154.42  \n",
       "...             ...           ...  \n",
       "19643         55.89        480.04  \n",
       "19644          0.00          0.00  \n",
       "19645          1.50          0.00  \n",
       "19646         31.00          4.86  \n",
       "19647        332.14         69.52  \n",
       "\n",
       "[19648 rows x 52 columns]"
      ],
      "text/html": "<div>\n<style scoped>\n    .dataframe tbody tr th:only-of-type {\n        vertical-align: middle;\n    }\n\n    .dataframe tbody tr th {\n        vertical-align: top;\n    }\n\n    .dataframe thead th {\n        text-align: right;\n    }\n</style>\n<table border=\"1\" class=\"dataframe\">\n  <thead>\n    <tr style=\"text-align: right;\">\n      <th></th>\n      <th>Hugo_Symbol</th>\n      <th>Entrez_Gene_Id</th>\n      <th>TCGA-43-7657</th>\n      <th>TCGA-58-8386</th>\n      <th>TCGA-22-5478</th>\n      <th>TCGA-22-5472</th>\n      <th>TCGA-43-5670</th>\n      <th>TCGA-60-2709</th>\n      <th>TCGA-22-5489</th>\n      <th>TCGA-77-8007</th>\n      <th>...</th>\n      <th>TCGA-85-7710</th>\n      <th>TCGA-56-7580</th>\n      <th>TCGA-43-6647</th>\n      <th>TCGA-90-6837</th>\n      <th>TCGA-56-8083</th>\n      <th>TCGA-51-4079</th>\n      <th>TCGA-56-7222</th>\n      <th>TCGA-22-4593</th>\n      <th>TCGA-51-4081</th>\n      <th>TCGA-56-8309</th>\n    </tr>\n  </thead>\n  <tbody>\n    <tr>\n      <th>0</th>\n      <td>HIST3H2A</td>\n      <td>92815</td>\n      <td>336.79</td>\n      <td>500.46</td>\n      <td>703.28</td>\n      <td>287.01</td>\n      <td>486.75</td>\n      <td>70.51</td>\n      <td>145.02</td>\n      <td>14.03</td>\n      <td>...</td>\n      <td>3.06</td>\n      <td>420.68</td>\n      <td>109.66</td>\n      <td>106.63</td>\n      <td>1233.75</td>\n      <td>172.65</td>\n      <td>303.44</td>\n      <td>228.13</td>\n      <td>251.48</td>\n      <td>23.59</td>\n    </tr>\n    <tr>\n      <th>1</th>\n      <td>LIN7B</td>\n      <td>64130</td>\n      <td>105.15</td>\n      <td>212.78</td>\n      <td>102.25</td>\n      <td>212.78</td>\n      <td>172.65</td>\n      <td>244.57</td>\n      <td>105.89</td>\n      <td>152.28</td>\n      <td>...</td>\n      <td>135.24</td>\n      <td>135.24</td>\n      <td>151.22</td>\n      <td>395.18</td>\n      <td>295.11</td>\n      <td>120.94</td>\n      <td>114.36</td>\n      <td>96.68</td>\n      <td>277.20</td>\n      <td>153.34</td>\n    </tr>\n    <tr>\n      <th>2</th>\n      <td>LXN</td>\n      <td>56925</td>\n      <td>848.22</td>\n      <td>236.21</td>\n      <td>271.48</td>\n      <td>759.08</td>\n      <td>61.25</td>\n      <td>620.67</td>\n      <td>329.84</td>\n      <td>599.49</td>\n      <td>...</td>\n      <td>688.78</td>\n      <td>204.07</td>\n      <td>438.59</td>\n      <td>503.95</td>\n      <td>3039.30</td>\n      <td>607.87</td>\n      <td>106.63</td>\n      <td>507.46</td>\n      <td>255.00</td>\n      <td>346.29</td>\n    </tr>\n    <tr>\n      <th>3</th>\n      <td>CNKSR2</td>\n      <td>22866</td>\n      <td>32.59</td>\n      <td>8.51</td>\n      <td>45.85</td>\n      <td>6.16</td>\n      <td>49.21</td>\n      <td>11.91</td>\n      <td>12.27</td>\n      <td>15.00</td>\n      <td>...</td>\n      <td>1.38</td>\n      <td>6.62</td>\n      <td>6.11</td>\n      <td>1.66</td>\n      <td>33.54</td>\n      <td>3.11</td>\n      <td>0.82</td>\n      <td>3.32</td>\n      <td>27.25</td>\n      <td>6.16</td>\n    </tr>\n    <tr>\n      <th>4</th>\n      <td>SCML1</td>\n      <td>6322</td>\n      <td>84.63</td>\n      <td>74.58</td>\n      <td>67.12</td>\n      <td>57.89</td>\n      <td>102.97</td>\n      <td>132.44</td>\n      <td>66.65</td>\n      <td>57.08</td>\n      <td>...</td>\n      <td>165.57</td>\n      <td>119.26</td>\n      <td>87.65</td>\n      <td>53.57</td>\n      <td>232.94</td>\n      <td>67.12</td>\n      <td>64.80</td>\n      <td>90.14</td>\n      <td>198.47</td>\n      <td>154.42</td>\n    </tr>\n    <tr>\n      <th>...</th>\n      <td>...</td>\n      <td>...</td>\n      <td>...</td>\n      <td>...</td>\n      <td>...</td>\n      <td>...</td>\n      <td>...</td>\n      <td>...</td>\n      <td>...</td>\n      <td>...</td>\n      <td>...</td>\n      <td>...</td>\n      <td>...</td>\n      <td>...</td>\n      <td>...</td>\n      <td>...</td>\n      <td>...</td>\n      <td>...</td>\n      <td>...</td>\n      <td>...</td>\n      <td>...</td>\n    </tr>\n    <tr>\n      <th>19643</th>\n      <td>HAVCR2</td>\n      <td>84868</td>\n      <td>74.58</td>\n      <td>432.53</td>\n      <td>128.79</td>\n      <td>208.38</td>\n      <td>13.93</td>\n      <td>633.73</td>\n      <td>348.71</td>\n      <td>420.68</td>\n      <td>...</td>\n      <td>150.17</td>\n      <td>57.49</td>\n      <td>236.21</td>\n      <td>353.59</td>\n      <td>29.48</td>\n      <td>202.66</td>\n      <td>33.78</td>\n      <td>73.54</td>\n      <td>55.89</td>\n      <td>480.04</td>\n    </tr>\n    <tr>\n      <th>19644</th>\n      <td>RP1-66C13.4</td>\n      <td>0</td>\n      <td>0.00</td>\n      <td>0.00</td>\n      <td>0.00</td>\n      <td>0.00</td>\n      <td>0.00</td>\n      <td>0.00</td>\n      <td>7.69</td>\n      <td>0.00</td>\n      <td>...</td>\n      <td>0.00</td>\n      <td>31.00</td>\n      <td>1.83</td>\n      <td>0.00</td>\n      <td>3.32</td>\n      <td>5.73</td>\n      <td>0.00</td>\n      <td>3.03</td>\n      <td>0.00</td>\n      <td>0.00</td>\n    </tr>\n    <tr>\n      <th>19645</th>\n      <td>C3orf79</td>\n      <td>152118</td>\n      <td>2.27</td>\n      <td>1.66</td>\n      <td>0.00</td>\n      <td>1.22</td>\n      <td>0.00</td>\n      <td>0.00</td>\n      <td>0.00</td>\n      <td>0.00</td>\n      <td>...</td>\n      <td>0.00</td>\n      <td>5.50</td>\n      <td>0.00</td>\n      <td>0.00</td>\n      <td>0.00</td>\n      <td>2.86</td>\n      <td>0.00</td>\n      <td>1.04</td>\n      <td>1.50</td>\n      <td>0.00</td>\n    </tr>\n    <tr>\n      <th>19646</th>\n      <td>CTD-2116N17.1</td>\n      <td>0</td>\n      <td>6.89</td>\n      <td>10.79</td>\n      <td>8.51</td>\n      <td>6.84</td>\n      <td>9.13</td>\n      <td>9.93</td>\n      <td>14.78</td>\n      <td>15.56</td>\n      <td>...</td>\n      <td>8.85</td>\n      <td>6.21</td>\n      <td>4.94</td>\n      <td>17.64</td>\n      <td>28.65</td>\n      <td>14.78</td>\n      <td>27.64</td>\n      <td>15.80</td>\n      <td>31.00</td>\n      <td>4.86</td>\n    </tr>\n    <tr>\n      <th>19647</th>\n      <td>FUT2</td>\n      <td>2524</td>\n      <td>105.15</td>\n      <td>58.30</td>\n      <td>39.79</td>\n      <td>1059.11</td>\n      <td>366.09</td>\n      <td>97.36</td>\n      <td>46.50</td>\n      <td>101.54</td>\n      <td>...</td>\n      <td>106.63</td>\n      <td>35.50</td>\n      <td>55.49</td>\n      <td>738.29</td>\n      <td>232.94</td>\n      <td>244.57</td>\n      <td>71.50</td>\n      <td>53.57</td>\n      <td>332.14</td>\n      <td>69.52</td>\n    </tr>\n  </tbody>\n</table>\n<p>19648 rows × 52 columns</p>\n</div>"
     },
     "metadata": {},
     "execution_count": 32
    }
   ],
   "source": [
    "#>>>>>>> 2\n",
    "# Reading the healthy and cancerous genes into dataframes\n",
    "healthydf = pd.read_csv('healthy.csv', sep = '\\t', index_col=None)\n",
    "cancerousdf = pd.read_csv('cancerous.csv', sep = '\\t', index_col =None)\n",
    "#healthydf     # from here we knew that the dimensions are ( 19648 rows × 51 columns ) and the structure\n",
    "#cancerousdf     # to make sure that gens are the same in names and id  \n",
    "cancerousdf"
   ]
  },
  {
   "cell_type": "code",
   "execution_count": 33,
   "metadata": {},
   "outputs": [
    {
     "output_type": "execute_result",
     "data": {
      "text/plain": [
       "         Hugo_Symbol  Entrez_Gene_Id  TCGA-43-7657  TCGA-58-8386  \\\n",
       "0           HIST3H2A           92815        336.79        500.46   \n",
       "1              LIN7B           64130        105.15        212.78   \n",
       "2                LXN           56925        848.22        236.21   \n",
       "3             CNKSR2           22866         32.59          8.51   \n",
       "4              SCML1            6322         84.63         74.58   \n",
       "...              ...             ...           ...           ...   \n",
       "19643         HAVCR2           84868         74.58        432.53   \n",
       "19644    RP1-66C13.4               0          0.00          0.00   \n",
       "19645        C3orf79          152118          2.27          1.66   \n",
       "19646  CTD-2116N17.1               0          6.89         10.79   \n",
       "19647           FUT2            2524        105.15         58.30   \n",
       "\n",
       "       TCGA-22-5478  TCGA-22-5472  TCGA-43-5670  TCGA-60-2709  TCGA-22-5489  \\\n",
       "0            703.28        287.01        486.75         70.51        145.02   \n",
       "1            102.25        212.78        172.65        244.57        105.89   \n",
       "2            271.48        759.08         61.25        620.67        329.84   \n",
       "3             45.85          6.16         49.21         11.91         12.27   \n",
       "4             67.12         57.89        102.97        132.44         66.65   \n",
       "...             ...           ...           ...           ...           ...   \n",
       "19643        128.79        208.38         13.93        633.73        348.71   \n",
       "19644          0.00          0.00          0.00          0.00          7.69   \n",
       "19645          0.00          1.22          0.00          0.00          0.00   \n",
       "19646          8.51          6.84          9.13          9.93         14.78   \n",
       "19647         39.79       1059.11        366.09         97.36         46.50   \n",
       "\n",
       "       TCGA-77-8007  ...  TCGA-85-7710  TCGA-56-7580  TCGA-43-6647  \\\n",
       "0             14.03  ...          3.06        420.68        109.66   \n",
       "1            152.28  ...        135.24        135.24        151.22   \n",
       "2            599.49  ...        688.78        204.07        438.59   \n",
       "3             15.00  ...          1.38          6.62          6.11   \n",
       "4             57.08  ...        165.57        119.26         87.65   \n",
       "...             ...  ...           ...           ...           ...   \n",
       "19643        420.68  ...        150.17         57.49        236.21   \n",
       "19644          0.00  ...          0.00         31.00          1.83   \n",
       "19645          0.00  ...          0.00          5.50          0.00   \n",
       "19646         15.56  ...          8.85          6.21          4.94   \n",
       "19647        101.54  ...        106.63         35.50         55.49   \n",
       "\n",
       "       TCGA-90-6837  TCGA-56-8083  TCGA-51-4079  TCGA-56-7222  TCGA-22-4593  \\\n",
       "0            106.63       1233.75        172.65        303.44        228.13   \n",
       "1            395.18        295.11        120.94        114.36         96.68   \n",
       "2            503.95       3039.30        607.87        106.63        507.46   \n",
       "3              1.66         33.54          3.11          0.82          3.32   \n",
       "4             53.57        232.94         67.12         64.80         90.14   \n",
       "...             ...           ...           ...           ...           ...   \n",
       "19643        353.59         29.48        202.66         33.78         73.54   \n",
       "19644          0.00          3.32          5.73          0.00          3.03   \n",
       "19645          0.00          0.00          2.86          0.00          1.04   \n",
       "19646         17.64         28.65         14.78         27.64         15.80   \n",
       "19647        738.29        232.94        244.57         71.50         53.57   \n",
       "\n",
       "       TCGA-51-4081  TCGA-56-8309  \n",
       "0            251.48         23.59  \n",
       "1            277.20        153.34  \n",
       "2            255.00        346.29  \n",
       "3             27.25          6.16  \n",
       "4            198.47        154.42  \n",
       "...             ...           ...  \n",
       "19643         55.89        480.04  \n",
       "19644          0.00          0.00  \n",
       "19645          1.50          0.00  \n",
       "19646         31.00          4.86  \n",
       "19647        332.14         69.52  \n",
       "\n",
       "[19590 rows x 52 columns]"
      ],
      "text/html": "<div>\n<style scoped>\n    .dataframe tbody tr th:only-of-type {\n        vertical-align: middle;\n    }\n\n    .dataframe tbody tr th {\n        vertical-align: top;\n    }\n\n    .dataframe thead th {\n        text-align: right;\n    }\n</style>\n<table border=\"1\" class=\"dataframe\">\n  <thead>\n    <tr style=\"text-align: right;\">\n      <th></th>\n      <th>Hugo_Symbol</th>\n      <th>Entrez_Gene_Id</th>\n      <th>TCGA-43-7657</th>\n      <th>TCGA-58-8386</th>\n      <th>TCGA-22-5478</th>\n      <th>TCGA-22-5472</th>\n      <th>TCGA-43-5670</th>\n      <th>TCGA-60-2709</th>\n      <th>TCGA-22-5489</th>\n      <th>TCGA-77-8007</th>\n      <th>...</th>\n      <th>TCGA-85-7710</th>\n      <th>TCGA-56-7580</th>\n      <th>TCGA-43-6647</th>\n      <th>TCGA-90-6837</th>\n      <th>TCGA-56-8083</th>\n      <th>TCGA-51-4079</th>\n      <th>TCGA-56-7222</th>\n      <th>TCGA-22-4593</th>\n      <th>TCGA-51-4081</th>\n      <th>TCGA-56-8309</th>\n    </tr>\n  </thead>\n  <tbody>\n    <tr>\n      <th>0</th>\n      <td>HIST3H2A</td>\n      <td>92815</td>\n      <td>336.79</td>\n      <td>500.46</td>\n      <td>703.28</td>\n      <td>287.01</td>\n      <td>486.75</td>\n      <td>70.51</td>\n      <td>145.02</td>\n      <td>14.03</td>\n      <td>...</td>\n      <td>3.06</td>\n      <td>420.68</td>\n      <td>109.66</td>\n      <td>106.63</td>\n      <td>1233.75</td>\n      <td>172.65</td>\n      <td>303.44</td>\n      <td>228.13</td>\n      <td>251.48</td>\n      <td>23.59</td>\n    </tr>\n    <tr>\n      <th>1</th>\n      <td>LIN7B</td>\n      <td>64130</td>\n      <td>105.15</td>\n      <td>212.78</td>\n      <td>102.25</td>\n      <td>212.78</td>\n      <td>172.65</td>\n      <td>244.57</td>\n      <td>105.89</td>\n      <td>152.28</td>\n      <td>...</td>\n      <td>135.24</td>\n      <td>135.24</td>\n      <td>151.22</td>\n      <td>395.18</td>\n      <td>295.11</td>\n      <td>120.94</td>\n      <td>114.36</td>\n      <td>96.68</td>\n      <td>277.20</td>\n      <td>153.34</td>\n    </tr>\n    <tr>\n      <th>2</th>\n      <td>LXN</td>\n      <td>56925</td>\n      <td>848.22</td>\n      <td>236.21</td>\n      <td>271.48</td>\n      <td>759.08</td>\n      <td>61.25</td>\n      <td>620.67</td>\n      <td>329.84</td>\n      <td>599.49</td>\n      <td>...</td>\n      <td>688.78</td>\n      <td>204.07</td>\n      <td>438.59</td>\n      <td>503.95</td>\n      <td>3039.30</td>\n      <td>607.87</td>\n      <td>106.63</td>\n      <td>507.46</td>\n      <td>255.00</td>\n      <td>346.29</td>\n    </tr>\n    <tr>\n      <th>3</th>\n      <td>CNKSR2</td>\n      <td>22866</td>\n      <td>32.59</td>\n      <td>8.51</td>\n      <td>45.85</td>\n      <td>6.16</td>\n      <td>49.21</td>\n      <td>11.91</td>\n      <td>12.27</td>\n      <td>15.00</td>\n      <td>...</td>\n      <td>1.38</td>\n      <td>6.62</td>\n      <td>6.11</td>\n      <td>1.66</td>\n      <td>33.54</td>\n      <td>3.11</td>\n      <td>0.82</td>\n      <td>3.32</td>\n      <td>27.25</td>\n      <td>6.16</td>\n    </tr>\n    <tr>\n      <th>4</th>\n      <td>SCML1</td>\n      <td>6322</td>\n      <td>84.63</td>\n      <td>74.58</td>\n      <td>67.12</td>\n      <td>57.89</td>\n      <td>102.97</td>\n      <td>132.44</td>\n      <td>66.65</td>\n      <td>57.08</td>\n      <td>...</td>\n      <td>165.57</td>\n      <td>119.26</td>\n      <td>87.65</td>\n      <td>53.57</td>\n      <td>232.94</td>\n      <td>67.12</td>\n      <td>64.80</td>\n      <td>90.14</td>\n      <td>198.47</td>\n      <td>154.42</td>\n    </tr>\n    <tr>\n      <th>...</th>\n      <td>...</td>\n      <td>...</td>\n      <td>...</td>\n      <td>...</td>\n      <td>...</td>\n      <td>...</td>\n      <td>...</td>\n      <td>...</td>\n      <td>...</td>\n      <td>...</td>\n      <td>...</td>\n      <td>...</td>\n      <td>...</td>\n      <td>...</td>\n      <td>...</td>\n      <td>...</td>\n      <td>...</td>\n      <td>...</td>\n      <td>...</td>\n      <td>...</td>\n      <td>...</td>\n    </tr>\n    <tr>\n      <th>19643</th>\n      <td>HAVCR2</td>\n      <td>84868</td>\n      <td>74.58</td>\n      <td>432.53</td>\n      <td>128.79</td>\n      <td>208.38</td>\n      <td>13.93</td>\n      <td>633.73</td>\n      <td>348.71</td>\n      <td>420.68</td>\n      <td>...</td>\n      <td>150.17</td>\n      <td>57.49</td>\n      <td>236.21</td>\n      <td>353.59</td>\n      <td>29.48</td>\n      <td>202.66</td>\n      <td>33.78</td>\n      <td>73.54</td>\n      <td>55.89</td>\n      <td>480.04</td>\n    </tr>\n    <tr>\n      <th>19644</th>\n      <td>RP1-66C13.4</td>\n      <td>0</td>\n      <td>0.00</td>\n      <td>0.00</td>\n      <td>0.00</td>\n      <td>0.00</td>\n      <td>0.00</td>\n      <td>0.00</td>\n      <td>7.69</td>\n      <td>0.00</td>\n      <td>...</td>\n      <td>0.00</td>\n      <td>31.00</td>\n      <td>1.83</td>\n      <td>0.00</td>\n      <td>3.32</td>\n      <td>5.73</td>\n      <td>0.00</td>\n      <td>3.03</td>\n      <td>0.00</td>\n      <td>0.00</td>\n    </tr>\n    <tr>\n      <th>19645</th>\n      <td>C3orf79</td>\n      <td>152118</td>\n      <td>2.27</td>\n      <td>1.66</td>\n      <td>0.00</td>\n      <td>1.22</td>\n      <td>0.00</td>\n      <td>0.00</td>\n      <td>0.00</td>\n      <td>0.00</td>\n      <td>...</td>\n      <td>0.00</td>\n      <td>5.50</td>\n      <td>0.00</td>\n      <td>0.00</td>\n      <td>0.00</td>\n      <td>2.86</td>\n      <td>0.00</td>\n      <td>1.04</td>\n      <td>1.50</td>\n      <td>0.00</td>\n    </tr>\n    <tr>\n      <th>19646</th>\n      <td>CTD-2116N17.1</td>\n      <td>0</td>\n      <td>6.89</td>\n      <td>10.79</td>\n      <td>8.51</td>\n      <td>6.84</td>\n      <td>9.13</td>\n      <td>9.93</td>\n      <td>14.78</td>\n      <td>15.56</td>\n      <td>...</td>\n      <td>8.85</td>\n      <td>6.21</td>\n      <td>4.94</td>\n      <td>17.64</td>\n      <td>28.65</td>\n      <td>14.78</td>\n      <td>27.64</td>\n      <td>15.80</td>\n      <td>31.00</td>\n      <td>4.86</td>\n    </tr>\n    <tr>\n      <th>19647</th>\n      <td>FUT2</td>\n      <td>2524</td>\n      <td>105.15</td>\n      <td>58.30</td>\n      <td>39.79</td>\n      <td>1059.11</td>\n      <td>366.09</td>\n      <td>97.36</td>\n      <td>46.50</td>\n      <td>101.54</td>\n      <td>...</td>\n      <td>106.63</td>\n      <td>35.50</td>\n      <td>55.49</td>\n      <td>738.29</td>\n      <td>232.94</td>\n      <td>244.57</td>\n      <td>71.50</td>\n      <td>53.57</td>\n      <td>332.14</td>\n      <td>69.52</td>\n    </tr>\n  </tbody>\n</table>\n<p>19590 rows × 52 columns</p>\n</div>"
     },
     "metadata": {},
     "execution_count": 33
    }
   ],
   "source": [
    "#>>>>>>> 3 \n",
    "# Data cleaning phase (1)\n",
    "zero_index = []\n",
    "for index in range(healthydf.shape[0]):\n",
    "    if (healthydf.iloc[index][1:] == 0).all():\n",
    "        zero_index.append(index)\n",
    "\n",
    "healthy = healthydf.drop(healthydf.index[zero_index])\n",
    "cancerous = cancerousdf.drop(cancerousdf.index[zero_index])\n",
    "cancerous"
   ]
  },
  {
   "cell_type": "code",
   "execution_count": 34,
   "metadata": {},
   "outputs": [
    {
     "output_type": "execute_result",
     "data": {
      "text/plain": [
       "         Hugo_Symbol  Entrez_Gene_Id  TCGA-43-7657  TCGA-58-8386  \\\n",
       "0           HIST3H2A           92815        336.79        500.46   \n",
       "1              LIN7B           64130        105.15        212.78   \n",
       "2                LXN           56925        848.22        236.21   \n",
       "3             CNKSR2           22866         32.59          8.51   \n",
       "4              SCML1            6322         84.63         74.58   \n",
       "...              ...             ...           ...           ...   \n",
       "19641         ZNF521           25925         37.32         76.71   \n",
       "19642         SPINT2           10653      56265.94       3901.01   \n",
       "19643         HAVCR2           84868         74.58        432.53   \n",
       "19646  CTD-2116N17.1               0          6.89         10.79   \n",
       "19647           FUT2            2524        105.15         58.30   \n",
       "\n",
       "       TCGA-22-5478  TCGA-22-5472  TCGA-43-5670  TCGA-60-2709  TCGA-22-5489  \\\n",
       "0            703.28        287.01        486.75         70.51        145.02   \n",
       "1            102.25        212.78        172.65        244.57        105.89   \n",
       "2            271.48        759.08         61.25        620.67        329.84   \n",
       "3             45.85          6.16         49.21         11.91         12.27   \n",
       "4             67.12         57.89        102.97        132.44         66.65   \n",
       "...             ...           ...           ...           ...           ...   \n",
       "19641         59.97         84.04         14.24        202.66        435.55   \n",
       "19642      16843.62      12244.81      37901.36       8479.89       9606.86   \n",
       "19643        128.79        208.38         13.93        633.73        348.71   \n",
       "19646          8.51          6.84          9.13          9.93         14.78   \n",
       "19647         39.79       1059.11        366.09         97.36         46.50   \n",
       "\n",
       "       TCGA-77-8007  ...  TCGA-85-7710  TCGA-56-7580  TCGA-43-6647  \\\n",
       "0             14.03  ...          3.06        420.68        109.66   \n",
       "1            152.28  ...        135.24        135.24        151.22   \n",
       "2            599.49  ...        688.78        204.07        438.59   \n",
       "3             15.00  ...          1.38          6.62          6.11   \n",
       "4             57.08  ...        165.57        119.26         87.65   \n",
       "...             ...  ...           ...           ...           ...   \n",
       "19641         59.55  ...         22.59         33.78        148.09   \n",
       "19642      10959.30  ...      18052.61      15392.14      20030.74   \n",
       "19643        420.68  ...        150.17         57.49        236.21   \n",
       "19646         15.56  ...          8.85          6.21          4.94   \n",
       "19647        101.54  ...        106.63         35.50         55.49   \n",
       "\n",
       "       TCGA-90-6837  TCGA-56-8083  TCGA-51-4079  TCGA-56-7222  TCGA-22-4593  \\\n",
       "0            106.63       1233.75        172.65        303.44        228.13   \n",
       "1            395.18        295.11        120.94        114.36         96.68   \n",
       "2            503.95       3039.30        607.87        106.63        507.46   \n",
       "3              1.66         33.54          3.11          0.82          3.32   \n",
       "4             53.57        232.94         67.12         64.80         90.14   \n",
       "...             ...           ...           ...           ...           ...   \n",
       "19641        106.63        297.17         22.26         25.72        106.63   \n",
       "19642      20593.91       9808.75      11189.60      10733.74      10014.87   \n",
       "19643        353.59         29.48        202.66         33.78         73.54   \n",
       "19646         17.64         28.65         14.78         27.64         15.80   \n",
       "19647        738.29        232.94        244.57         71.50         53.57   \n",
       "\n",
       "       TCGA-51-4081  TCGA-56-8309  \n",
       "0            251.48         23.59  \n",
       "1            277.20        153.34  \n",
       "2            255.00        346.29  \n",
       "3             27.25          6.16  \n",
       "4            198.47        154.42  \n",
       "...             ...           ...  \n",
       "19641         71.00         37.05  \n",
       "19642       6983.79      23169.48  \n",
       "19643         55.89        480.04  \n",
       "19646         31.00          4.86  \n",
       "19647        332.14         69.52  \n",
       "\n",
       "[17212 rows x 52 columns]"
      ],
      "text/html": "<div>\n<style scoped>\n    .dataframe tbody tr th:only-of-type {\n        vertical-align: middle;\n    }\n\n    .dataframe tbody tr th {\n        vertical-align: top;\n    }\n\n    .dataframe thead th {\n        text-align: right;\n    }\n</style>\n<table border=\"1\" class=\"dataframe\">\n  <thead>\n    <tr style=\"text-align: right;\">\n      <th></th>\n      <th>Hugo_Symbol</th>\n      <th>Entrez_Gene_Id</th>\n      <th>TCGA-43-7657</th>\n      <th>TCGA-58-8386</th>\n      <th>TCGA-22-5478</th>\n      <th>TCGA-22-5472</th>\n      <th>TCGA-43-5670</th>\n      <th>TCGA-60-2709</th>\n      <th>TCGA-22-5489</th>\n      <th>TCGA-77-8007</th>\n      <th>...</th>\n      <th>TCGA-85-7710</th>\n      <th>TCGA-56-7580</th>\n      <th>TCGA-43-6647</th>\n      <th>TCGA-90-6837</th>\n      <th>TCGA-56-8083</th>\n      <th>TCGA-51-4079</th>\n      <th>TCGA-56-7222</th>\n      <th>TCGA-22-4593</th>\n      <th>TCGA-51-4081</th>\n      <th>TCGA-56-8309</th>\n    </tr>\n  </thead>\n  <tbody>\n    <tr>\n      <th>0</th>\n      <td>HIST3H2A</td>\n      <td>92815</td>\n      <td>336.79</td>\n      <td>500.46</td>\n      <td>703.28</td>\n      <td>287.01</td>\n      <td>486.75</td>\n      <td>70.51</td>\n      <td>145.02</td>\n      <td>14.03</td>\n      <td>...</td>\n      <td>3.06</td>\n      <td>420.68</td>\n      <td>109.66</td>\n      <td>106.63</td>\n      <td>1233.75</td>\n      <td>172.65</td>\n      <td>303.44</td>\n      <td>228.13</td>\n      <td>251.48</td>\n      <td>23.59</td>\n    </tr>\n    <tr>\n      <th>1</th>\n      <td>LIN7B</td>\n      <td>64130</td>\n      <td>105.15</td>\n      <td>212.78</td>\n      <td>102.25</td>\n      <td>212.78</td>\n      <td>172.65</td>\n      <td>244.57</td>\n      <td>105.89</td>\n      <td>152.28</td>\n      <td>...</td>\n      <td>135.24</td>\n      <td>135.24</td>\n      <td>151.22</td>\n      <td>395.18</td>\n      <td>295.11</td>\n      <td>120.94</td>\n      <td>114.36</td>\n      <td>96.68</td>\n      <td>277.20</td>\n      <td>153.34</td>\n    </tr>\n    <tr>\n      <th>2</th>\n      <td>LXN</td>\n      <td>56925</td>\n      <td>848.22</td>\n      <td>236.21</td>\n      <td>271.48</td>\n      <td>759.08</td>\n      <td>61.25</td>\n      <td>620.67</td>\n      <td>329.84</td>\n      <td>599.49</td>\n      <td>...</td>\n      <td>688.78</td>\n      <td>204.07</td>\n      <td>438.59</td>\n      <td>503.95</td>\n      <td>3039.30</td>\n      <td>607.87</td>\n      <td>106.63</td>\n      <td>507.46</td>\n      <td>255.00</td>\n      <td>346.29</td>\n    </tr>\n    <tr>\n      <th>3</th>\n      <td>CNKSR2</td>\n      <td>22866</td>\n      <td>32.59</td>\n      <td>8.51</td>\n      <td>45.85</td>\n      <td>6.16</td>\n      <td>49.21</td>\n      <td>11.91</td>\n      <td>12.27</td>\n      <td>15.00</td>\n      <td>...</td>\n      <td>1.38</td>\n      <td>6.62</td>\n      <td>6.11</td>\n      <td>1.66</td>\n      <td>33.54</td>\n      <td>3.11</td>\n      <td>0.82</td>\n      <td>3.32</td>\n      <td>27.25</td>\n      <td>6.16</td>\n    </tr>\n    <tr>\n      <th>4</th>\n      <td>SCML1</td>\n      <td>6322</td>\n      <td>84.63</td>\n      <td>74.58</td>\n      <td>67.12</td>\n      <td>57.89</td>\n      <td>102.97</td>\n      <td>132.44</td>\n      <td>66.65</td>\n      <td>57.08</td>\n      <td>...</td>\n      <td>165.57</td>\n      <td>119.26</td>\n      <td>87.65</td>\n      <td>53.57</td>\n      <td>232.94</td>\n      <td>67.12</td>\n      <td>64.80</td>\n      <td>90.14</td>\n      <td>198.47</td>\n      <td>154.42</td>\n    </tr>\n    <tr>\n      <th>...</th>\n      <td>...</td>\n      <td>...</td>\n      <td>...</td>\n      <td>...</td>\n      <td>...</td>\n      <td>...</td>\n      <td>...</td>\n      <td>...</td>\n      <td>...</td>\n      <td>...</td>\n      <td>...</td>\n      <td>...</td>\n      <td>...</td>\n      <td>...</td>\n      <td>...</td>\n      <td>...</td>\n      <td>...</td>\n      <td>...</td>\n      <td>...</td>\n      <td>...</td>\n      <td>...</td>\n    </tr>\n    <tr>\n      <th>19641</th>\n      <td>ZNF521</td>\n      <td>25925</td>\n      <td>37.32</td>\n      <td>76.71</td>\n      <td>59.97</td>\n      <td>84.04</td>\n      <td>14.24</td>\n      <td>202.66</td>\n      <td>435.55</td>\n      <td>59.55</td>\n      <td>...</td>\n      <td>22.59</td>\n      <td>33.78</td>\n      <td>148.09</td>\n      <td>106.63</td>\n      <td>297.17</td>\n      <td>22.26</td>\n      <td>25.72</td>\n      <td>106.63</td>\n      <td>71.00</td>\n      <td>37.05</td>\n    </tr>\n    <tr>\n      <th>19642</th>\n      <td>SPINT2</td>\n      <td>10653</td>\n      <td>56265.94</td>\n      <td>3901.01</td>\n      <td>16843.62</td>\n      <td>12244.81</td>\n      <td>37901.36</td>\n      <td>8479.89</td>\n      <td>9606.86</td>\n      <td>10959.30</td>\n      <td>...</td>\n      <td>18052.61</td>\n      <td>15392.14</td>\n      <td>20030.74</td>\n      <td>20593.91</td>\n      <td>9808.75</td>\n      <td>11189.60</td>\n      <td>10733.74</td>\n      <td>10014.87</td>\n      <td>6983.79</td>\n      <td>23169.48</td>\n    </tr>\n    <tr>\n      <th>19643</th>\n      <td>HAVCR2</td>\n      <td>84868</td>\n      <td>74.58</td>\n      <td>432.53</td>\n      <td>128.79</td>\n      <td>208.38</td>\n      <td>13.93</td>\n      <td>633.73</td>\n      <td>348.71</td>\n      <td>420.68</td>\n      <td>...</td>\n      <td>150.17</td>\n      <td>57.49</td>\n      <td>236.21</td>\n      <td>353.59</td>\n      <td>29.48</td>\n      <td>202.66</td>\n      <td>33.78</td>\n      <td>73.54</td>\n      <td>55.89</td>\n      <td>480.04</td>\n    </tr>\n    <tr>\n      <th>19646</th>\n      <td>CTD-2116N17.1</td>\n      <td>0</td>\n      <td>6.89</td>\n      <td>10.79</td>\n      <td>8.51</td>\n      <td>6.84</td>\n      <td>9.13</td>\n      <td>9.93</td>\n      <td>14.78</td>\n      <td>15.56</td>\n      <td>...</td>\n      <td>8.85</td>\n      <td>6.21</td>\n      <td>4.94</td>\n      <td>17.64</td>\n      <td>28.65</td>\n      <td>14.78</td>\n      <td>27.64</td>\n      <td>15.80</td>\n      <td>31.00</td>\n      <td>4.86</td>\n    </tr>\n    <tr>\n      <th>19647</th>\n      <td>FUT2</td>\n      <td>2524</td>\n      <td>105.15</td>\n      <td>58.30</td>\n      <td>39.79</td>\n      <td>1059.11</td>\n      <td>366.09</td>\n      <td>97.36</td>\n      <td>46.50</td>\n      <td>101.54</td>\n      <td>...</td>\n      <td>106.63</td>\n      <td>35.50</td>\n      <td>55.49</td>\n      <td>738.29</td>\n      <td>232.94</td>\n      <td>244.57</td>\n      <td>71.50</td>\n      <td>53.57</td>\n      <td>332.14</td>\n      <td>69.52</td>\n    </tr>\n  </tbody>\n</table>\n<p>17212 rows × 52 columns</p>\n</div>"
     },
     "metadata": {},
     "execution_count": 34
    }
   ],
   "source": [
    "#>>>>>>> 4 \n",
    "# Data cleaning phase (1)\n",
    "num=0\n",
    "drop_index = []\n",
    "rows = healthy.shape[0]\n",
    "for row in range (rows):\n",
    "    x=healthy.iloc[row,2:]\n",
    "    for index in x:\n",
    "        if index ==0:\n",
    "            num=num+1\n",
    "    if num > 15:\n",
    "        drop_index.append(row)\n",
    "    num=0\n",
    "healthy = healthy.drop(healthy.index[drop_index])\n",
    "cancerous = cancerous.drop(cancerous.index[drop_index])\n",
    "cancerous"
   ]
  },
  {
   "cell_type": "code",
   "execution_count": 35,
   "metadata": {},
   "outputs": [
    {
     "output_type": "execute_result",
     "data": {
      "text/plain": [
       "         Hugo_Symbol  Entrez_Gene_Id  TCGA-43-7657  TCGA-58-8386  \\\n",
       "0           HIST3H2A           92815        336.79        500.46   \n",
       "1              LIN7B           64130        105.15        212.78   \n",
       "2                LXN           56925        848.22        236.21   \n",
       "3             CNKSR2           22866         32.59          8.51   \n",
       "4              SCML1            6322         84.63         74.58   \n",
       "...              ...             ...           ...           ...   \n",
       "19641         ZNF521           25925         37.32         76.71   \n",
       "19642         SPINT2           10653      56265.94       3901.01   \n",
       "19643         HAVCR2           84868         74.58        432.53   \n",
       "19646  CTD-2116N17.1               0          6.89         10.79   \n",
       "19647           FUT2            2524        105.15         58.30   \n",
       "\n",
       "       TCGA-22-5478  TCGA-22-5472  TCGA-43-5670  TCGA-60-2709  TCGA-22-5489  \\\n",
       "0            703.28        287.01        486.75         70.51        145.02   \n",
       "1            102.25        212.78        172.65        244.57        105.89   \n",
       "2            271.48        759.08         61.25        620.67        329.84   \n",
       "3             45.85          6.16         49.21         11.91         12.27   \n",
       "4             67.12         57.89        102.97        132.44         66.65   \n",
       "...             ...           ...           ...           ...           ...   \n",
       "19641         59.97         84.04         14.24        202.66        435.55   \n",
       "19642      16843.62      12244.81      37901.36       8479.89       9606.86   \n",
       "19643        128.79        208.38         13.93        633.73        348.71   \n",
       "19646          8.51          6.84          9.13          9.93         14.78   \n",
       "19647         39.79       1059.11        366.09         97.36         46.50   \n",
       "\n",
       "       TCGA-77-8007  ...  TCGA-85-7710  TCGA-56-7580  TCGA-43-6647  \\\n",
       "0             14.03  ...          3.06        420.68        109.66   \n",
       "1            152.28  ...        135.24        135.24        151.22   \n",
       "2            599.49  ...        688.78        204.07        438.59   \n",
       "3             15.00  ...          1.38          6.62          6.11   \n",
       "4             57.08  ...        165.57        119.26         87.65   \n",
       "...             ...  ...           ...           ...           ...   \n",
       "19641         59.55  ...         22.59         33.78        148.09   \n",
       "19642      10959.30  ...      18052.61      15392.14      20030.74   \n",
       "19643        420.68  ...        150.17         57.49        236.21   \n",
       "19646         15.56  ...          8.85          6.21          4.94   \n",
       "19647        101.54  ...        106.63         35.50         55.49   \n",
       "\n",
       "       TCGA-90-6837  TCGA-56-8083  TCGA-51-4079  TCGA-56-7222  TCGA-22-4593  \\\n",
       "0            106.63       1233.75        172.65        303.44        228.13   \n",
       "1            395.18        295.11        120.94        114.36         96.68   \n",
       "2            503.95       3039.30        607.87        106.63        507.46   \n",
       "3              1.66         33.54          3.11          0.82          3.32   \n",
       "4             53.57        232.94         67.12         64.80         90.14   \n",
       "...             ...           ...           ...           ...           ...   \n",
       "19641        106.63        297.17         22.26         25.72        106.63   \n",
       "19642      20593.91       9808.75      11189.60      10733.74      10014.87   \n",
       "19643        353.59         29.48        202.66         33.78         73.54   \n",
       "19646         17.64         28.65         14.78         27.64         15.80   \n",
       "19647        738.29        232.94        244.57         71.50         53.57   \n",
       "\n",
       "       TCGA-51-4081  TCGA-56-8309  \n",
       "0            251.48         23.59  \n",
       "1            277.20        153.34  \n",
       "2            255.00        346.29  \n",
       "3             27.25          6.16  \n",
       "4            198.47        154.42  \n",
       "...             ...           ...  \n",
       "19641         71.00         37.05  \n",
       "19642       6983.79      23169.48  \n",
       "19643         55.89        480.04  \n",
       "19646         31.00          4.86  \n",
       "19647        332.14         69.52  \n",
       "\n",
       "[17212 rows x 52 columns]"
      ],
      "text/html": "<div>\n<style scoped>\n    .dataframe tbody tr th:only-of-type {\n        vertical-align: middle;\n    }\n\n    .dataframe tbody tr th {\n        vertical-align: top;\n    }\n\n    .dataframe thead th {\n        text-align: right;\n    }\n</style>\n<table border=\"1\" class=\"dataframe\">\n  <thead>\n    <tr style=\"text-align: right;\">\n      <th></th>\n      <th>Hugo_Symbol</th>\n      <th>Entrez_Gene_Id</th>\n      <th>TCGA-43-7657</th>\n      <th>TCGA-58-8386</th>\n      <th>TCGA-22-5478</th>\n      <th>TCGA-22-5472</th>\n      <th>TCGA-43-5670</th>\n      <th>TCGA-60-2709</th>\n      <th>TCGA-22-5489</th>\n      <th>TCGA-77-8007</th>\n      <th>...</th>\n      <th>TCGA-85-7710</th>\n      <th>TCGA-56-7580</th>\n      <th>TCGA-43-6647</th>\n      <th>TCGA-90-6837</th>\n      <th>TCGA-56-8083</th>\n      <th>TCGA-51-4079</th>\n      <th>TCGA-56-7222</th>\n      <th>TCGA-22-4593</th>\n      <th>TCGA-51-4081</th>\n      <th>TCGA-56-8309</th>\n    </tr>\n  </thead>\n  <tbody>\n    <tr>\n      <th>0</th>\n      <td>HIST3H2A</td>\n      <td>92815</td>\n      <td>336.79</td>\n      <td>500.46</td>\n      <td>703.28</td>\n      <td>287.01</td>\n      <td>486.75</td>\n      <td>70.51</td>\n      <td>145.02</td>\n      <td>14.03</td>\n      <td>...</td>\n      <td>3.06</td>\n      <td>420.68</td>\n      <td>109.66</td>\n      <td>106.63</td>\n      <td>1233.75</td>\n      <td>172.65</td>\n      <td>303.44</td>\n      <td>228.13</td>\n      <td>251.48</td>\n      <td>23.59</td>\n    </tr>\n    <tr>\n      <th>1</th>\n      <td>LIN7B</td>\n      <td>64130</td>\n      <td>105.15</td>\n      <td>212.78</td>\n      <td>102.25</td>\n      <td>212.78</td>\n      <td>172.65</td>\n      <td>244.57</td>\n      <td>105.89</td>\n      <td>152.28</td>\n      <td>...</td>\n      <td>135.24</td>\n      <td>135.24</td>\n      <td>151.22</td>\n      <td>395.18</td>\n      <td>295.11</td>\n      <td>120.94</td>\n      <td>114.36</td>\n      <td>96.68</td>\n      <td>277.20</td>\n      <td>153.34</td>\n    </tr>\n    <tr>\n      <th>2</th>\n      <td>LXN</td>\n      <td>56925</td>\n      <td>848.22</td>\n      <td>236.21</td>\n      <td>271.48</td>\n      <td>759.08</td>\n      <td>61.25</td>\n      <td>620.67</td>\n      <td>329.84</td>\n      <td>599.49</td>\n      <td>...</td>\n      <td>688.78</td>\n      <td>204.07</td>\n      <td>438.59</td>\n      <td>503.95</td>\n      <td>3039.30</td>\n      <td>607.87</td>\n      <td>106.63</td>\n      <td>507.46</td>\n      <td>255.00</td>\n      <td>346.29</td>\n    </tr>\n    <tr>\n      <th>3</th>\n      <td>CNKSR2</td>\n      <td>22866</td>\n      <td>32.59</td>\n      <td>8.51</td>\n      <td>45.85</td>\n      <td>6.16</td>\n      <td>49.21</td>\n      <td>11.91</td>\n      <td>12.27</td>\n      <td>15.00</td>\n      <td>...</td>\n      <td>1.38</td>\n      <td>6.62</td>\n      <td>6.11</td>\n      <td>1.66</td>\n      <td>33.54</td>\n      <td>3.11</td>\n      <td>0.82</td>\n      <td>3.32</td>\n      <td>27.25</td>\n      <td>6.16</td>\n    </tr>\n    <tr>\n      <th>4</th>\n      <td>SCML1</td>\n      <td>6322</td>\n      <td>84.63</td>\n      <td>74.58</td>\n      <td>67.12</td>\n      <td>57.89</td>\n      <td>102.97</td>\n      <td>132.44</td>\n      <td>66.65</td>\n      <td>57.08</td>\n      <td>...</td>\n      <td>165.57</td>\n      <td>119.26</td>\n      <td>87.65</td>\n      <td>53.57</td>\n      <td>232.94</td>\n      <td>67.12</td>\n      <td>64.80</td>\n      <td>90.14</td>\n      <td>198.47</td>\n      <td>154.42</td>\n    </tr>\n    <tr>\n      <th>...</th>\n      <td>...</td>\n      <td>...</td>\n      <td>...</td>\n      <td>...</td>\n      <td>...</td>\n      <td>...</td>\n      <td>...</td>\n      <td>...</td>\n      <td>...</td>\n      <td>...</td>\n      <td>...</td>\n      <td>...</td>\n      <td>...</td>\n      <td>...</td>\n      <td>...</td>\n      <td>...</td>\n      <td>...</td>\n      <td>...</td>\n      <td>...</td>\n      <td>...</td>\n      <td>...</td>\n    </tr>\n    <tr>\n      <th>19641</th>\n      <td>ZNF521</td>\n      <td>25925</td>\n      <td>37.32</td>\n      <td>76.71</td>\n      <td>59.97</td>\n      <td>84.04</td>\n      <td>14.24</td>\n      <td>202.66</td>\n      <td>435.55</td>\n      <td>59.55</td>\n      <td>...</td>\n      <td>22.59</td>\n      <td>33.78</td>\n      <td>148.09</td>\n      <td>106.63</td>\n      <td>297.17</td>\n      <td>22.26</td>\n      <td>25.72</td>\n      <td>106.63</td>\n      <td>71.00</td>\n      <td>37.05</td>\n    </tr>\n    <tr>\n      <th>19642</th>\n      <td>SPINT2</td>\n      <td>10653</td>\n      <td>56265.94</td>\n      <td>3901.01</td>\n      <td>16843.62</td>\n      <td>12244.81</td>\n      <td>37901.36</td>\n      <td>8479.89</td>\n      <td>9606.86</td>\n      <td>10959.30</td>\n      <td>...</td>\n      <td>18052.61</td>\n      <td>15392.14</td>\n      <td>20030.74</td>\n      <td>20593.91</td>\n      <td>9808.75</td>\n      <td>11189.60</td>\n      <td>10733.74</td>\n      <td>10014.87</td>\n      <td>6983.79</td>\n      <td>23169.48</td>\n    </tr>\n    <tr>\n      <th>19643</th>\n      <td>HAVCR2</td>\n      <td>84868</td>\n      <td>74.58</td>\n      <td>432.53</td>\n      <td>128.79</td>\n      <td>208.38</td>\n      <td>13.93</td>\n      <td>633.73</td>\n      <td>348.71</td>\n      <td>420.68</td>\n      <td>...</td>\n      <td>150.17</td>\n      <td>57.49</td>\n      <td>236.21</td>\n      <td>353.59</td>\n      <td>29.48</td>\n      <td>202.66</td>\n      <td>33.78</td>\n      <td>73.54</td>\n      <td>55.89</td>\n      <td>480.04</td>\n    </tr>\n    <tr>\n      <th>19646</th>\n      <td>CTD-2116N17.1</td>\n      <td>0</td>\n      <td>6.89</td>\n      <td>10.79</td>\n      <td>8.51</td>\n      <td>6.84</td>\n      <td>9.13</td>\n      <td>9.93</td>\n      <td>14.78</td>\n      <td>15.56</td>\n      <td>...</td>\n      <td>8.85</td>\n      <td>6.21</td>\n      <td>4.94</td>\n      <td>17.64</td>\n      <td>28.65</td>\n      <td>14.78</td>\n      <td>27.64</td>\n      <td>15.80</td>\n      <td>31.00</td>\n      <td>4.86</td>\n    </tr>\n    <tr>\n      <th>19647</th>\n      <td>FUT2</td>\n      <td>2524</td>\n      <td>105.15</td>\n      <td>58.30</td>\n      <td>39.79</td>\n      <td>1059.11</td>\n      <td>366.09</td>\n      <td>97.36</td>\n      <td>46.50</td>\n      <td>101.54</td>\n      <td>...</td>\n      <td>106.63</td>\n      <td>35.50</td>\n      <td>55.49</td>\n      <td>738.29</td>\n      <td>232.94</td>\n      <td>244.57</td>\n      <td>71.50</td>\n      <td>53.57</td>\n      <td>332.14</td>\n      <td>69.52</td>\n    </tr>\n  </tbody>\n</table>\n<p>17212 rows × 52 columns</p>\n</div>"
     },
     "metadata": {},
     "execution_count": 35
    }
   ],
   "source": [
    "#>>>>>>> 5\n",
    "# GET DEGs (differentially expressed genes )\n",
    "# Compare every row for float equality\n",
    "# (rtol:Relative tolerance,atol:Absolute tolerance,equal_nan:If True, nans will be considered equal to nans)\n",
    "common_index = []\n",
    "close_options = {\"rtol\": 0.01, \"atol\": 0.01, \"equal_nan\": True}\n",
    "for index in range(healthy.shape[0]):\n",
    "    if np.allclose(np.float64(healthy.iloc[index][1:]),np.float64(cancerous.iloc[index][1:]), **close_options):\n",
    "        common_index.append(index)\n",
    "\n",
    "# Drop similarily-expressed genes\n",
    "healthy = healthy.drop(healthy.index[common_index])\n",
    "cancerous = cancerous.drop(cancerous.index[common_index])\n",
    "cancerous"
   ]
  },
  {
   "cell_type": "code",
   "execution_count": 36,
   "metadata": {},
   "outputs": [
    {
     "output_type": "execute_result",
     "data": {
      "text/plain": [
       "         Hugo_Symbol  Entrez_Gene_Id  TCGA-43-7657  TCGA-58-8386  \\\n",
       "0           HIST3H2A           92815         62.12        130.60   \n",
       "1              LIN7B           64130        185.11        283.05   \n",
       "2                LXN           56925        909.17        819.30   \n",
       "3             CNKSR2           22866         41.81         18.29   \n",
       "4              SCML1            6322        133.36        214.27   \n",
       "...              ...             ...           ...           ...   \n",
       "19641         ZNF521           25925        215.77        148.09   \n",
       "19642         SPINT2           10653       6792.79       5441.30   \n",
       "19643         HAVCR2           84868        423.61        529.06   \n",
       "19646  CTD-2116N17.1               0          0.00          0.00   \n",
       "19647           FUT2            2524         64.34        101.54   \n",
       "\n",
       "       TCGA-22-5478  TCGA-22-5472  TCGA-43-5670  TCGA-60-2709  TCGA-22-5489  \\\n",
       "0             33.06         35.50         73.03         60.39         92.05   \n",
       "1            119.26        169.07        165.57        161.02        131.51   \n",
       "2            412.00        743.43       1340.84        607.87       1709.26   \n",
       "3             40.93         67.12         54.72         29.27         20.26   \n",
       "4            108.14        109.66        190.34        211.31         96.01   \n",
       "...             ...           ...           ...           ...           ...   \n",
       "19641         83.45        232.94        167.90         80.01        161.02   \n",
       "19642       5831.91       5329.30       5711.87       6164.49       8134.41   \n",
       "19643        660.68        620.67        518.15        848.22        366.09   \n",
       "19646          0.99          3.59          2.23          3.35          0.00   \n",
       "19647         14.45         69.52        110.43         36.53         60.82   \n",
       "\n",
       "       TCGA-77-8007  ...  TCGA-85-7710  TCGA-56-7580  TCGA-43-6647  \\\n",
       "0             66.65  ...         90.77         59.55         40.07   \n",
       "1            198.47  ...        185.11        119.26        102.97   \n",
       "2           1709.26  ...        813.63       2400.97        543.96   \n",
       "3             23.76  ...         34.51         70.01         57.49   \n",
       "4            208.38  ...        251.48        209.84        120.10   \n",
       "...             ...  ...           ...           ...           ...   \n",
       "19641        104.42  ...        145.02        202.66        111.99   \n",
       "19642       6516.03  ...       3955.48       4869.99       6935.54   \n",
       "19643       1073.91  ...        559.28        579.04        420.68   \n",
       "19646          7.34  ...          6.94          1.00          0.00   \n",
       "19647        116.78  ...         38.12         17.64         14.56   \n",
       "\n",
       "       TCGA-90-6837  TCGA-56-8083  TCGA-51-4079  TCGA-56-7222  TCGA-22-4593  \\\n",
       "0             22.92         29.91         82.29          4.70         37.32   \n",
       "1            123.50        264.03        194.36        166.73        105.15   \n",
       "2           2193.99        540.19        521.76        253.23        764.36   \n",
       "3             57.89         67.12         34.51         22.10         31.90   \n",
       "4            109.66        155.50        162.14        277.20         86.43   \n",
       "...             ...           ...           ...           ...           ...   \n",
       "19641        371.22        154.42        289.02         32.59        191.67   \n",
       "19642       4836.35       7230.10       6250.56       6840.04       5292.48   \n",
       "19643        366.09        334.46        258.57        329.84       1030.12   \n",
       "19646          4.58          0.96          3.06          1.83          1.77   \n",
       "19647         14.35          5.77         24.28         21.78         16.27   \n",
       "\n",
       "       TCGA-51-4081  TCGA-56-8309  \n",
       "0             43.63         77.25  \n",
       "1            185.11        356.05  \n",
       "2            518.15        878.17  \n",
       "3             28.24         49.91  \n",
       "4            164.42        155.50  \n",
       "...             ...           ...  \n",
       "19641        204.07         88.26  \n",
       "19642       3928.15       7130.55  \n",
       "19643        665.29        633.73  \n",
       "19646          3.63          2.56  \n",
       "19647         73.54         88.26  \n",
       "\n",
       "[17212 rows x 52 columns]"
      ],
      "text/html": "<div>\n<style scoped>\n    .dataframe tbody tr th:only-of-type {\n        vertical-align: middle;\n    }\n\n    .dataframe tbody tr th {\n        vertical-align: top;\n    }\n\n    .dataframe thead th {\n        text-align: right;\n    }\n</style>\n<table border=\"1\" class=\"dataframe\">\n  <thead>\n    <tr style=\"text-align: right;\">\n      <th></th>\n      <th>Hugo_Symbol</th>\n      <th>Entrez_Gene_Id</th>\n      <th>TCGA-43-7657</th>\n      <th>TCGA-58-8386</th>\n      <th>TCGA-22-5478</th>\n      <th>TCGA-22-5472</th>\n      <th>TCGA-43-5670</th>\n      <th>TCGA-60-2709</th>\n      <th>TCGA-22-5489</th>\n      <th>TCGA-77-8007</th>\n      <th>...</th>\n      <th>TCGA-85-7710</th>\n      <th>TCGA-56-7580</th>\n      <th>TCGA-43-6647</th>\n      <th>TCGA-90-6837</th>\n      <th>TCGA-56-8083</th>\n      <th>TCGA-51-4079</th>\n      <th>TCGA-56-7222</th>\n      <th>TCGA-22-4593</th>\n      <th>TCGA-51-4081</th>\n      <th>TCGA-56-8309</th>\n    </tr>\n  </thead>\n  <tbody>\n    <tr>\n      <th>0</th>\n      <td>HIST3H2A</td>\n      <td>92815</td>\n      <td>62.12</td>\n      <td>130.60</td>\n      <td>33.06</td>\n      <td>35.50</td>\n      <td>73.03</td>\n      <td>60.39</td>\n      <td>92.05</td>\n      <td>66.65</td>\n      <td>...</td>\n      <td>90.77</td>\n      <td>59.55</td>\n      <td>40.07</td>\n      <td>22.92</td>\n      <td>29.91</td>\n      <td>82.29</td>\n      <td>4.70</td>\n      <td>37.32</td>\n      <td>43.63</td>\n      <td>77.25</td>\n    </tr>\n    <tr>\n      <th>1</th>\n      <td>LIN7B</td>\n      <td>64130</td>\n      <td>185.11</td>\n      <td>283.05</td>\n      <td>119.26</td>\n      <td>169.07</td>\n      <td>165.57</td>\n      <td>161.02</td>\n      <td>131.51</td>\n      <td>198.47</td>\n      <td>...</td>\n      <td>185.11</td>\n      <td>119.26</td>\n      <td>102.97</td>\n      <td>123.50</td>\n      <td>264.03</td>\n      <td>194.36</td>\n      <td>166.73</td>\n      <td>105.15</td>\n      <td>185.11</td>\n      <td>356.05</td>\n    </tr>\n    <tr>\n      <th>2</th>\n      <td>LXN</td>\n      <td>56925</td>\n      <td>909.17</td>\n      <td>819.30</td>\n      <td>412.00</td>\n      <td>743.43</td>\n      <td>1340.84</td>\n      <td>607.87</td>\n      <td>1709.26</td>\n      <td>1709.26</td>\n      <td>...</td>\n      <td>813.63</td>\n      <td>2400.97</td>\n      <td>543.96</td>\n      <td>2193.99</td>\n      <td>540.19</td>\n      <td>521.76</td>\n      <td>253.23</td>\n      <td>764.36</td>\n      <td>518.15</td>\n      <td>878.17</td>\n    </tr>\n    <tr>\n      <th>3</th>\n      <td>CNKSR2</td>\n      <td>22866</td>\n      <td>41.81</td>\n      <td>18.29</td>\n      <td>40.93</td>\n      <td>67.12</td>\n      <td>54.72</td>\n      <td>29.27</td>\n      <td>20.26</td>\n      <td>23.76</td>\n      <td>...</td>\n      <td>34.51</td>\n      <td>70.01</td>\n      <td>57.49</td>\n      <td>57.89</td>\n      <td>67.12</td>\n      <td>34.51</td>\n      <td>22.10</td>\n      <td>31.90</td>\n      <td>28.24</td>\n      <td>49.91</td>\n    </tr>\n    <tr>\n      <th>4</th>\n      <td>SCML1</td>\n      <td>6322</td>\n      <td>133.36</td>\n      <td>214.27</td>\n      <td>108.14</td>\n      <td>109.66</td>\n      <td>190.34</td>\n      <td>211.31</td>\n      <td>96.01</td>\n      <td>208.38</td>\n      <td>...</td>\n      <td>251.48</td>\n      <td>209.84</td>\n      <td>120.10</td>\n      <td>109.66</td>\n      <td>155.50</td>\n      <td>162.14</td>\n      <td>277.20</td>\n      <td>86.43</td>\n      <td>164.42</td>\n      <td>155.50</td>\n    </tr>\n    <tr>\n      <th>...</th>\n      <td>...</td>\n      <td>...</td>\n      <td>...</td>\n      <td>...</td>\n      <td>...</td>\n      <td>...</td>\n      <td>...</td>\n      <td>...</td>\n      <td>...</td>\n      <td>...</td>\n      <td>...</td>\n      <td>...</td>\n      <td>...</td>\n      <td>...</td>\n      <td>...</td>\n      <td>...</td>\n      <td>...</td>\n      <td>...</td>\n      <td>...</td>\n      <td>...</td>\n      <td>...</td>\n    </tr>\n    <tr>\n      <th>19641</th>\n      <td>ZNF521</td>\n      <td>25925</td>\n      <td>215.77</td>\n      <td>148.09</td>\n      <td>83.45</td>\n      <td>232.94</td>\n      <td>167.90</td>\n      <td>80.01</td>\n      <td>161.02</td>\n      <td>104.42</td>\n      <td>...</td>\n      <td>145.02</td>\n      <td>202.66</td>\n      <td>111.99</td>\n      <td>371.22</td>\n      <td>154.42</td>\n      <td>289.02</td>\n      <td>32.59</td>\n      <td>191.67</td>\n      <td>204.07</td>\n      <td>88.26</td>\n    </tr>\n    <tr>\n      <th>19642</th>\n      <td>SPINT2</td>\n      <td>10653</td>\n      <td>6792.79</td>\n      <td>5441.30</td>\n      <td>5831.91</td>\n      <td>5329.30</td>\n      <td>5711.87</td>\n      <td>6164.49</td>\n      <td>8134.41</td>\n      <td>6516.03</td>\n      <td>...</td>\n      <td>3955.48</td>\n      <td>4869.99</td>\n      <td>6935.54</td>\n      <td>4836.35</td>\n      <td>7230.10</td>\n      <td>6250.56</td>\n      <td>6840.04</td>\n      <td>5292.48</td>\n      <td>3928.15</td>\n      <td>7130.55</td>\n    </tr>\n    <tr>\n      <th>19643</th>\n      <td>HAVCR2</td>\n      <td>84868</td>\n      <td>423.61</td>\n      <td>529.06</td>\n      <td>660.68</td>\n      <td>620.67</td>\n      <td>518.15</td>\n      <td>848.22</td>\n      <td>366.09</td>\n      <td>1073.91</td>\n      <td>...</td>\n      <td>559.28</td>\n      <td>579.04</td>\n      <td>420.68</td>\n      <td>366.09</td>\n      <td>334.46</td>\n      <td>258.57</td>\n      <td>329.84</td>\n      <td>1030.12</td>\n      <td>665.29</td>\n      <td>633.73</td>\n    </tr>\n    <tr>\n      <th>19646</th>\n      <td>CTD-2116N17.1</td>\n      <td>0</td>\n      <td>0.00</td>\n      <td>0.00</td>\n      <td>0.99</td>\n      <td>3.59</td>\n      <td>2.23</td>\n      <td>3.35</td>\n      <td>0.00</td>\n      <td>7.34</td>\n      <td>...</td>\n      <td>6.94</td>\n      <td>1.00</td>\n      <td>0.00</td>\n      <td>4.58</td>\n      <td>0.96</td>\n      <td>3.06</td>\n      <td>1.83</td>\n      <td>1.77</td>\n      <td>3.63</td>\n      <td>2.56</td>\n    </tr>\n    <tr>\n      <th>19647</th>\n      <td>FUT2</td>\n      <td>2524</td>\n      <td>64.34</td>\n      <td>101.54</td>\n      <td>14.45</td>\n      <td>69.52</td>\n      <td>110.43</td>\n      <td>36.53</td>\n      <td>60.82</td>\n      <td>116.78</td>\n      <td>...</td>\n      <td>38.12</td>\n      <td>17.64</td>\n      <td>14.56</td>\n      <td>14.35</td>\n      <td>5.77</td>\n      <td>24.28</td>\n      <td>21.78</td>\n      <td>16.27</td>\n      <td>73.54</td>\n      <td>88.26</td>\n    </tr>\n  </tbody>\n</table>\n<p>17212 rows × 52 columns</p>\n</div>"
     },
     "metadata": {},
     "execution_count": 36
    }
   ],
   "source": [
    "healthy"
   ]
  },
  {
   "cell_type": "code",
   "execution_count": 37,
   "metadata": {
    "tags": []
   },
   "outputs": [],
   "source": [
    "#>>>>>>> 6\n",
    "############################# 1.Test in case samples are paired (related) #####################################\n",
    "paired=[]\n",
    "rows = healthy.shape[0]\n",
    "# EDIT HERE, i -> row\n",
    "for row in range (rows):\n",
    "    pv=ttest_rel(healthy.iloc[row,2:],cancerous.iloc[row,2:]).pvalue\n",
    "    paired.append(pv)"
   ]
  },
  {
   "cell_type": "code",
   "execution_count": 38,
   "metadata": {},
   "outputs": [
    {
     "output_type": "execute_result",
     "data": {
      "text/plain": [
       "array([1.43531775e-07, 3.36108930e-01, 4.53718343e-04, ...,\n",
       "       2.15161050e-12, 2.40612340e-10, 3.29367975e-06])"
      ]
     },
     "metadata": {},
     "execution_count": 38
    }
   ],
   "source": [
    "#>>>>>>> 7\n",
    "# FDR Correction \n",
    "corrected_paired=multipletests(paired, alpha=0.05, method='fdr_bh')[1]\n",
    "corrected_paired"
   ]
  },
  {
   "cell_type": "code",
   "execution_count": 39,
   "metadata": {},
   "outputs": [
    {
     "output_type": "execute_result",
     "data": {
      "text/plain": [
       "           Gene_name      p-values  p-values_fdr\n",
       "0           HIST3H2A  4.043607e-08  1.435318e-07\n",
       "1              LIN7B  2.891646e-01  3.361089e-01\n",
       "2                LXN  2.322367e-04  4.537183e-04\n",
       "3             CNKSR2  3.420577e-12  2.434863e-11\n",
       "4              SCML1  6.251346e-02  8.331256e-02\n",
       "...              ...           ...           ...\n",
       "19641         ZNF521  4.142164e-06  1.070816e-05\n",
       "19642         SPINT2  2.452619e-07  7.685140e-07\n",
       "19643         HAVCR2  2.435125e-13  2.151610e-12\n",
       "19646  CTD-2116N17.1  4.129496e-11  2.406123e-10\n",
       "19647           FUT2  1.166719e-06  3.293680e-06\n",
       "\n",
       "[17212 rows x 3 columns]"
      ],
      "text/html": "<div>\n<style scoped>\n    .dataframe tbody tr th:only-of-type {\n        vertical-align: middle;\n    }\n\n    .dataframe tbody tr th {\n        vertical-align: top;\n    }\n\n    .dataframe thead th {\n        text-align: right;\n    }\n</style>\n<table border=\"1\" class=\"dataframe\">\n  <thead>\n    <tr style=\"text-align: right;\">\n      <th></th>\n      <th>Gene_name</th>\n      <th>p-values</th>\n      <th>p-values_fdr</th>\n    </tr>\n  </thead>\n  <tbody>\n    <tr>\n      <th>0</th>\n      <td>HIST3H2A</td>\n      <td>4.043607e-08</td>\n      <td>1.435318e-07</td>\n    </tr>\n    <tr>\n      <th>1</th>\n      <td>LIN7B</td>\n      <td>2.891646e-01</td>\n      <td>3.361089e-01</td>\n    </tr>\n    <tr>\n      <th>2</th>\n      <td>LXN</td>\n      <td>2.322367e-04</td>\n      <td>4.537183e-04</td>\n    </tr>\n    <tr>\n      <th>3</th>\n      <td>CNKSR2</td>\n      <td>3.420577e-12</td>\n      <td>2.434863e-11</td>\n    </tr>\n    <tr>\n      <th>4</th>\n      <td>SCML1</td>\n      <td>6.251346e-02</td>\n      <td>8.331256e-02</td>\n    </tr>\n    <tr>\n      <th>...</th>\n      <td>...</td>\n      <td>...</td>\n      <td>...</td>\n    </tr>\n    <tr>\n      <th>19641</th>\n      <td>ZNF521</td>\n      <td>4.142164e-06</td>\n      <td>1.070816e-05</td>\n    </tr>\n    <tr>\n      <th>19642</th>\n      <td>SPINT2</td>\n      <td>2.452619e-07</td>\n      <td>7.685140e-07</td>\n    </tr>\n    <tr>\n      <th>19643</th>\n      <td>HAVCR2</td>\n      <td>2.435125e-13</td>\n      <td>2.151610e-12</td>\n    </tr>\n    <tr>\n      <th>19646</th>\n      <td>CTD-2116N17.1</td>\n      <td>4.129496e-11</td>\n      <td>2.406123e-10</td>\n    </tr>\n    <tr>\n      <th>19647</th>\n      <td>FUT2</td>\n      <td>1.166719e-06</td>\n      <td>3.293680e-06</td>\n    </tr>\n  </tbody>\n</table>\n<p>17212 rows × 3 columns</p>\n</div>"
     },
     "metadata": {},
     "execution_count": 39
    }
   ],
   "source": [
    "#>>>>>>> 8\n",
    "# DEGs before and after the FDR correction in a data frame\n",
    "significance_genes = pd.DataFrame({'Gene_name':healthy.iloc[:,0], 'p-values':paired, 'p-values_fdr':corrected_paired})\n",
    "significance_genes"
   ]
  },
  {
   "cell_type": "code",
   "execution_count": 40,
   "metadata": {},
   "outputs": [
    {
     "output_type": "execute_result",
     "data": {
      "text/plain": [
       "           Gene_name      p-values  p-values_fdr  significance:p_vlaue  \\\n",
       "0           HIST3H2A  4.043607e-08  1.435318e-07                  True   \n",
       "1              LIN7B  2.891646e-01  3.361089e-01                 False   \n",
       "2                LXN  2.322367e-04  4.537183e-04                  True   \n",
       "3             CNKSR2  3.420577e-12  2.434863e-11                  True   \n",
       "4              SCML1  6.251346e-02  8.331256e-02                 False   \n",
       "...              ...           ...           ...                   ...   \n",
       "19641         ZNF521  4.142164e-06  1.070816e-05                  True   \n",
       "19642         SPINT2  2.452619e-07  7.685140e-07                  True   \n",
       "19643         HAVCR2  2.435125e-13  2.151610e-12                  True   \n",
       "19646  CTD-2116N17.1  4.129496e-11  2.406123e-10                  True   \n",
       "19647           FUT2  1.166719e-06  3.293680e-06                  True   \n",
       "\n",
       "       significance:p_vlaue_fdr  \n",
       "0                          True  \n",
       "1                         False  \n",
       "2                          True  \n",
       "3                          True  \n",
       "4                         False  \n",
       "...                         ...  \n",
       "19641                      True  \n",
       "19642                      True  \n",
       "19643                      True  \n",
       "19646                      True  \n",
       "19647                      True  \n",
       "\n",
       "[17212 rows x 5 columns]"
      ],
      "text/html": "<div>\n<style scoped>\n    .dataframe tbody tr th:only-of-type {\n        vertical-align: middle;\n    }\n\n    .dataframe tbody tr th {\n        vertical-align: top;\n    }\n\n    .dataframe thead th {\n        text-align: right;\n    }\n</style>\n<table border=\"1\" class=\"dataframe\">\n  <thead>\n    <tr style=\"text-align: right;\">\n      <th></th>\n      <th>Gene_name</th>\n      <th>p-values</th>\n      <th>p-values_fdr</th>\n      <th>significance:p_vlaue</th>\n      <th>significance:p_vlaue_fdr</th>\n    </tr>\n  </thead>\n  <tbody>\n    <tr>\n      <th>0</th>\n      <td>HIST3H2A</td>\n      <td>4.043607e-08</td>\n      <td>1.435318e-07</td>\n      <td>True</td>\n      <td>True</td>\n    </tr>\n    <tr>\n      <th>1</th>\n      <td>LIN7B</td>\n      <td>2.891646e-01</td>\n      <td>3.361089e-01</td>\n      <td>False</td>\n      <td>False</td>\n    </tr>\n    <tr>\n      <th>2</th>\n      <td>LXN</td>\n      <td>2.322367e-04</td>\n      <td>4.537183e-04</td>\n      <td>True</td>\n      <td>True</td>\n    </tr>\n    <tr>\n      <th>3</th>\n      <td>CNKSR2</td>\n      <td>3.420577e-12</td>\n      <td>2.434863e-11</td>\n      <td>True</td>\n      <td>True</td>\n    </tr>\n    <tr>\n      <th>4</th>\n      <td>SCML1</td>\n      <td>6.251346e-02</td>\n      <td>8.331256e-02</td>\n      <td>False</td>\n      <td>False</td>\n    </tr>\n    <tr>\n      <th>...</th>\n      <td>...</td>\n      <td>...</td>\n      <td>...</td>\n      <td>...</td>\n      <td>...</td>\n    </tr>\n    <tr>\n      <th>19641</th>\n      <td>ZNF521</td>\n      <td>4.142164e-06</td>\n      <td>1.070816e-05</td>\n      <td>True</td>\n      <td>True</td>\n    </tr>\n    <tr>\n      <th>19642</th>\n      <td>SPINT2</td>\n      <td>2.452619e-07</td>\n      <td>7.685140e-07</td>\n      <td>True</td>\n      <td>True</td>\n    </tr>\n    <tr>\n      <th>19643</th>\n      <td>HAVCR2</td>\n      <td>2.435125e-13</td>\n      <td>2.151610e-12</td>\n      <td>True</td>\n      <td>True</td>\n    </tr>\n    <tr>\n      <th>19646</th>\n      <td>CTD-2116N17.1</td>\n      <td>4.129496e-11</td>\n      <td>2.406123e-10</td>\n      <td>True</td>\n      <td>True</td>\n    </tr>\n    <tr>\n      <th>19647</th>\n      <td>FUT2</td>\n      <td>1.166719e-06</td>\n      <td>3.293680e-06</td>\n      <td>True</td>\n      <td>True</td>\n    </tr>\n  </tbody>\n</table>\n<p>17212 rows × 5 columns</p>\n</div>"
     },
     "metadata": {},
     "execution_count": 40
    }
   ],
   "source": [
    "#>>>>>>> 9\n",
    "#Compare the two DEGs sets \n",
    "significance_genes['significance:p_vlaue'] = significance_genes['p-values'].apply(lambda x: x < 0.05)\n",
    "significance_genes['significance:p_vlaue_fdr'] = significance_genes['p-values_fdr'].apply(lambda x: x < 0.05)\n",
    "significance_genes\n"
   ]
  },
  {
   "cell_type": "code",
   "execution_count": 41,
   "metadata": {},
   "outputs": [
    {
     "output_type": "execute_result",
     "data": {
      "text/plain": [
       "           Gene_name      p-values  p-values_fdr  significance:p_vlaue  \\\n",
       "0           HIST3H2A  4.043607e-08  1.435318e-07                  True   \n",
       "2                LXN  2.322367e-04  4.537183e-04                  True   \n",
       "3             CNKSR2  3.420577e-12  2.434863e-11                  True   \n",
       "6              GSDMD  3.041721e-06  8.037167e-06                  True   \n",
       "7             AKR1C1  1.938575e-05  4.499899e-05                  True   \n",
       "...              ...           ...           ...                   ...   \n",
       "19641         ZNF521  4.142164e-06  1.070816e-05                  True   \n",
       "19642         SPINT2  2.452619e-07  7.685140e-07                  True   \n",
       "19643         HAVCR2  2.435125e-13  2.151610e-12                  True   \n",
       "19646  CTD-2116N17.1  4.129496e-11  2.406123e-10                  True   \n",
       "19647           FUT2  1.166719e-06  3.293680e-06                  True   \n",
       "\n",
       "       significance:p_vlaue_fdr  \n",
       "0                          True  \n",
       "2                          True  \n",
       "3                          True  \n",
       "6                          True  \n",
       "7                          True  \n",
       "...                         ...  \n",
       "19641                      True  \n",
       "19642                      True  \n",
       "19643                      True  \n",
       "19646                      True  \n",
       "19647                      True  \n",
       "\n",
       "[12393 rows x 5 columns]"
      ],
      "text/html": "<div>\n<style scoped>\n    .dataframe tbody tr th:only-of-type {\n        vertical-align: middle;\n    }\n\n    .dataframe tbody tr th {\n        vertical-align: top;\n    }\n\n    .dataframe thead th {\n        text-align: right;\n    }\n</style>\n<table border=\"1\" class=\"dataframe\">\n  <thead>\n    <tr style=\"text-align: right;\">\n      <th></th>\n      <th>Gene_name</th>\n      <th>p-values</th>\n      <th>p-values_fdr</th>\n      <th>significance:p_vlaue</th>\n      <th>significance:p_vlaue_fdr</th>\n    </tr>\n  </thead>\n  <tbody>\n    <tr>\n      <th>0</th>\n      <td>HIST3H2A</td>\n      <td>4.043607e-08</td>\n      <td>1.435318e-07</td>\n      <td>True</td>\n      <td>True</td>\n    </tr>\n    <tr>\n      <th>2</th>\n      <td>LXN</td>\n      <td>2.322367e-04</td>\n      <td>4.537183e-04</td>\n      <td>True</td>\n      <td>True</td>\n    </tr>\n    <tr>\n      <th>3</th>\n      <td>CNKSR2</td>\n      <td>3.420577e-12</td>\n      <td>2.434863e-11</td>\n      <td>True</td>\n      <td>True</td>\n    </tr>\n    <tr>\n      <th>6</th>\n      <td>GSDMD</td>\n      <td>3.041721e-06</td>\n      <td>8.037167e-06</td>\n      <td>True</td>\n      <td>True</td>\n    </tr>\n    <tr>\n      <th>7</th>\n      <td>AKR1C1</td>\n      <td>1.938575e-05</td>\n      <td>4.499899e-05</td>\n      <td>True</td>\n      <td>True</td>\n    </tr>\n    <tr>\n      <th>...</th>\n      <td>...</td>\n      <td>...</td>\n      <td>...</td>\n      <td>...</td>\n      <td>...</td>\n    </tr>\n    <tr>\n      <th>19641</th>\n      <td>ZNF521</td>\n      <td>4.142164e-06</td>\n      <td>1.070816e-05</td>\n      <td>True</td>\n      <td>True</td>\n    </tr>\n    <tr>\n      <th>19642</th>\n      <td>SPINT2</td>\n      <td>2.452619e-07</td>\n      <td>7.685140e-07</td>\n      <td>True</td>\n      <td>True</td>\n    </tr>\n    <tr>\n      <th>19643</th>\n      <td>HAVCR2</td>\n      <td>2.435125e-13</td>\n      <td>2.151610e-12</td>\n      <td>True</td>\n      <td>True</td>\n    </tr>\n    <tr>\n      <th>19646</th>\n      <td>CTD-2116N17.1</td>\n      <td>4.129496e-11</td>\n      <td>2.406123e-10</td>\n      <td>True</td>\n      <td>True</td>\n    </tr>\n    <tr>\n      <th>19647</th>\n      <td>FUT2</td>\n      <td>1.166719e-06</td>\n      <td>3.293680e-06</td>\n      <td>True</td>\n      <td>True</td>\n    </tr>\n  </tbody>\n</table>\n<p>12393 rows × 5 columns</p>\n</div>"
     },
     "metadata": {},
     "execution_count": 41
    }
   ],
   "source": [
    "#>>>>>>> 10\n",
    "diffrentially_genes = significance_genes[significance_genes['significance:p_vlaue_fdr']== True]\n",
    "diffrentially_genes"
   ]
  },
  {
   "cell_type": "code",
   "execution_count": 49,
   "metadata": {},
   "outputs": [
    {
     "output_type": "execute_result",
     "data": {
      "text/plain": [
       "12393"
      ]
     },
     "metadata": {},
     "execution_count": 49
    }
   ],
   "source": [
    "#>>>>>>> 11\n",
    "Gens=diffrentially_genes['Gene_name'].to_list()\n",
    "len(Gens)\n",
    "#print(Gens)"
   ]
  },
  {
   "cell_type": "code",
   "execution_count": 43,
   "metadata": {},
   "outputs": [],
   "source": [
    "#>>>>>>> 12\n",
    "#################################### 2.Test in case samples are independent #############################################\n",
    "independent=[]\n",
    "rows = healthy.shape[0]\n",
    "# EDIT HERE, i -> row\n",
    "for row in range (rows):\n",
    "    pv=ttest_ind(healthy.iloc[row,2:],cancerous.iloc[row,2:]).pvalue\n",
    "    independent.append(pv)"
   ]
  },
  {
   "cell_type": "code",
   "execution_count": 44,
   "metadata": {},
   "outputs": [
    {
     "output_type": "execute_result",
     "data": {
      "text/plain": [
       "array([1.36094028e-08, 3.63452634e-01, 1.70306047e-04, ...,\n",
       "       9.26766153e-14, 6.24144436e-12, 6.37027912e-07])"
      ]
     },
     "metadata": {},
     "execution_count": 44
    }
   ],
   "source": [
    "#>>>>>>> 13\n",
    "# FDR Correction \n",
    "corrected_ind=multipletests(independent, alpha=0.05, method='fdr_bh')[1]\n",
    "corrected_ind"
   ]
  },
  {
   "cell_type": "code",
   "execution_count": 45,
   "metadata": {},
   "outputs": [
    {
     "output_type": "execute_result",
     "data": {
      "text/plain": [
       "           Gene_name      p-values  p-values_fdr\n",
       "0           HIST3H2A  3.607140e-09  1.360940e-08\n",
       "1              LIN7B  3.138295e-01  3.634526e-01\n",
       "2                LXN  8.164044e-05  1.703060e-04\n",
       "3             CNKSR2  6.374652e-15  4.996380e-14\n",
       "4              SCML1  4.726590e-02  6.481879e-02\n",
       "...              ...           ...           ...\n",
       "19641         ZNF521  2.273493e-06  5.917339e-06\n",
       "19642         SPINT2  5.250215e-08  1.699581e-07\n",
       "19643         HAVCR2  1.228186e-14  9.267662e-14\n",
       "19646  CTD-2116N17.1  1.068283e-12  6.241444e-12\n",
       "19647           FUT2  2.133666e-07  6.370279e-07\n",
       "\n",
       "[17212 rows x 3 columns]"
      ],
      "text/html": "<div>\n<style scoped>\n    .dataframe tbody tr th:only-of-type {\n        vertical-align: middle;\n    }\n\n    .dataframe tbody tr th {\n        vertical-align: top;\n    }\n\n    .dataframe thead th {\n        text-align: right;\n    }\n</style>\n<table border=\"1\" class=\"dataframe\">\n  <thead>\n    <tr style=\"text-align: right;\">\n      <th></th>\n      <th>Gene_name</th>\n      <th>p-values</th>\n      <th>p-values_fdr</th>\n    </tr>\n  </thead>\n  <tbody>\n    <tr>\n      <th>0</th>\n      <td>HIST3H2A</td>\n      <td>3.607140e-09</td>\n      <td>1.360940e-08</td>\n    </tr>\n    <tr>\n      <th>1</th>\n      <td>LIN7B</td>\n      <td>3.138295e-01</td>\n      <td>3.634526e-01</td>\n    </tr>\n    <tr>\n      <th>2</th>\n      <td>LXN</td>\n      <td>8.164044e-05</td>\n      <td>1.703060e-04</td>\n    </tr>\n    <tr>\n      <th>3</th>\n      <td>CNKSR2</td>\n      <td>6.374652e-15</td>\n      <td>4.996380e-14</td>\n    </tr>\n    <tr>\n      <th>4</th>\n      <td>SCML1</td>\n      <td>4.726590e-02</td>\n      <td>6.481879e-02</td>\n    </tr>\n    <tr>\n      <th>...</th>\n      <td>...</td>\n      <td>...</td>\n      <td>...</td>\n    </tr>\n    <tr>\n      <th>19641</th>\n      <td>ZNF521</td>\n      <td>2.273493e-06</td>\n      <td>5.917339e-06</td>\n    </tr>\n    <tr>\n      <th>19642</th>\n      <td>SPINT2</td>\n      <td>5.250215e-08</td>\n      <td>1.699581e-07</td>\n    </tr>\n    <tr>\n      <th>19643</th>\n      <td>HAVCR2</td>\n      <td>1.228186e-14</td>\n      <td>9.267662e-14</td>\n    </tr>\n    <tr>\n      <th>19646</th>\n      <td>CTD-2116N17.1</td>\n      <td>1.068283e-12</td>\n      <td>6.241444e-12</td>\n    </tr>\n    <tr>\n      <th>19647</th>\n      <td>FUT2</td>\n      <td>2.133666e-07</td>\n      <td>6.370279e-07</td>\n    </tr>\n  </tbody>\n</table>\n<p>17212 rows × 3 columns</p>\n</div>"
     },
     "metadata": {},
     "execution_count": 45
    }
   ],
   "source": [
    "#>>>>>>> 14\n",
    "# DEGs before and after the FDR correction in a data frame\n",
    "significance_genes_ind = pd.DataFrame({'Gene_name':healthy.iloc[:,0], 'p-values':independent, 'p-values_fdr':corrected_ind})\n",
    "significance_genes_ind"
   ]
  },
  {
   "cell_type": "code",
   "execution_count": 46,
   "metadata": {},
   "outputs": [
    {
     "output_type": "execute_result",
     "data": {
      "text/plain": [
       "           Gene_name      p-values  p-values_fdr  significance:p_vlaue  \\\n",
       "0           HIST3H2A  3.607140e-09  1.360940e-08                  True   \n",
       "1              LIN7B  3.138295e-01  3.634526e-01                 False   \n",
       "2                LXN  8.164044e-05  1.703060e-04                  True   \n",
       "3             CNKSR2  6.374652e-15  4.996380e-14                  True   \n",
       "4              SCML1  4.726590e-02  6.481879e-02                  True   \n",
       "...              ...           ...           ...                   ...   \n",
       "19641         ZNF521  2.273493e-06  5.917339e-06                  True   \n",
       "19642         SPINT2  5.250215e-08  1.699581e-07                  True   \n",
       "19643         HAVCR2  1.228186e-14  9.267662e-14                  True   \n",
       "19646  CTD-2116N17.1  1.068283e-12  6.241444e-12                  True   \n",
       "19647           FUT2  2.133666e-07  6.370279e-07                  True   \n",
       "\n",
       "       significance:p_vlaue_fdr  \n",
       "0                          True  \n",
       "1                         False  \n",
       "2                          True  \n",
       "3                          True  \n",
       "4                         False  \n",
       "...                         ...  \n",
       "19641                      True  \n",
       "19642                      True  \n",
       "19643                      True  \n",
       "19646                      True  \n",
       "19647                      True  \n",
       "\n",
       "[17212 rows x 5 columns]"
      ],
      "text/html": "<div>\n<style scoped>\n    .dataframe tbody tr th:only-of-type {\n        vertical-align: middle;\n    }\n\n    .dataframe tbody tr th {\n        vertical-align: top;\n    }\n\n    .dataframe thead th {\n        text-align: right;\n    }\n</style>\n<table border=\"1\" class=\"dataframe\">\n  <thead>\n    <tr style=\"text-align: right;\">\n      <th></th>\n      <th>Gene_name</th>\n      <th>p-values</th>\n      <th>p-values_fdr</th>\n      <th>significance:p_vlaue</th>\n      <th>significance:p_vlaue_fdr</th>\n    </tr>\n  </thead>\n  <tbody>\n    <tr>\n      <th>0</th>\n      <td>HIST3H2A</td>\n      <td>3.607140e-09</td>\n      <td>1.360940e-08</td>\n      <td>True</td>\n      <td>True</td>\n    </tr>\n    <tr>\n      <th>1</th>\n      <td>LIN7B</td>\n      <td>3.138295e-01</td>\n      <td>3.634526e-01</td>\n      <td>False</td>\n      <td>False</td>\n    </tr>\n    <tr>\n      <th>2</th>\n      <td>LXN</td>\n      <td>8.164044e-05</td>\n      <td>1.703060e-04</td>\n      <td>True</td>\n      <td>True</td>\n    </tr>\n    <tr>\n      <th>3</th>\n      <td>CNKSR2</td>\n      <td>6.374652e-15</td>\n      <td>4.996380e-14</td>\n      <td>True</td>\n      <td>True</td>\n    </tr>\n    <tr>\n      <th>4</th>\n      <td>SCML1</td>\n      <td>4.726590e-02</td>\n      <td>6.481879e-02</td>\n      <td>True</td>\n      <td>False</td>\n    </tr>\n    <tr>\n      <th>...</th>\n      <td>...</td>\n      <td>...</td>\n      <td>...</td>\n      <td>...</td>\n      <td>...</td>\n    </tr>\n    <tr>\n      <th>19641</th>\n      <td>ZNF521</td>\n      <td>2.273493e-06</td>\n      <td>5.917339e-06</td>\n      <td>True</td>\n      <td>True</td>\n    </tr>\n    <tr>\n      <th>19642</th>\n      <td>SPINT2</td>\n      <td>5.250215e-08</td>\n      <td>1.699581e-07</td>\n      <td>True</td>\n      <td>True</td>\n    </tr>\n    <tr>\n      <th>19643</th>\n      <td>HAVCR2</td>\n      <td>1.228186e-14</td>\n      <td>9.267662e-14</td>\n      <td>True</td>\n      <td>True</td>\n    </tr>\n    <tr>\n      <th>19646</th>\n      <td>CTD-2116N17.1</td>\n      <td>1.068283e-12</td>\n      <td>6.241444e-12</td>\n      <td>True</td>\n      <td>True</td>\n    </tr>\n    <tr>\n      <th>19647</th>\n      <td>FUT2</td>\n      <td>2.133666e-07</td>\n      <td>6.370279e-07</td>\n      <td>True</td>\n      <td>True</td>\n    </tr>\n  </tbody>\n</table>\n<p>17212 rows × 5 columns</p>\n</div>"
     },
     "metadata": {},
     "execution_count": 46
    }
   ],
   "source": [
    "#>>>>>>> 15\n",
    "#Compare the two DEGs sets \n",
    "significance_genes_ind['significance:p_vlaue'] = significance_genes_ind['p-values'].apply(lambda x: x < 0.05)\n",
    "significance_genes_ind['significance:p_vlaue_fdr'] = significance_genes_ind['p-values_fdr'].apply(lambda x: x < 0.05)\n",
    "significance_genes_ind"
   ]
  },
  {
   "cell_type": "code",
   "execution_count": 47,
   "metadata": {},
   "outputs": [
    {
     "output_type": "execute_result",
     "data": {
      "text/plain": [
       "           Gene_name      p-values  p-values_fdr  significance:p_vlaue  \\\n",
       "0           HIST3H2A  3.607140e-09  1.360940e-08                  True   \n",
       "2                LXN  8.164044e-05  1.703060e-04                  True   \n",
       "3             CNKSR2  6.374652e-15  4.996380e-14                  True   \n",
       "6              GSDMD  5.344289e-06  1.321447e-05                  True   \n",
       "7             AKR1C1  7.857877e-06  1.899042e-05                  True   \n",
       "...              ...           ...           ...                   ...   \n",
       "19641         ZNF521  2.273493e-06  5.917339e-06                  True   \n",
       "19642         SPINT2  5.250215e-08  1.699581e-07                  True   \n",
       "19643         HAVCR2  1.228186e-14  9.267662e-14                  True   \n",
       "19646  CTD-2116N17.1  1.068283e-12  6.241444e-12                  True   \n",
       "19647           FUT2  2.133666e-07  6.370279e-07                  True   \n",
       "\n",
       "       significance:p_vlaue_fdr  \n",
       "0                          True  \n",
       "2                          True  \n",
       "3                          True  \n",
       "6                          True  \n",
       "7                          True  \n",
       "...                         ...  \n",
       "19641                      True  \n",
       "19642                      True  \n",
       "19643                      True  \n",
       "19646                      True  \n",
       "19647                      True  \n",
       "\n",
       "[12297 rows x 5 columns]"
      ],
      "text/html": "<div>\n<style scoped>\n    .dataframe tbody tr th:only-of-type {\n        vertical-align: middle;\n    }\n\n    .dataframe tbody tr th {\n        vertical-align: top;\n    }\n\n    .dataframe thead th {\n        text-align: right;\n    }\n</style>\n<table border=\"1\" class=\"dataframe\">\n  <thead>\n    <tr style=\"text-align: right;\">\n      <th></th>\n      <th>Gene_name</th>\n      <th>p-values</th>\n      <th>p-values_fdr</th>\n      <th>significance:p_vlaue</th>\n      <th>significance:p_vlaue_fdr</th>\n    </tr>\n  </thead>\n  <tbody>\n    <tr>\n      <th>0</th>\n      <td>HIST3H2A</td>\n      <td>3.607140e-09</td>\n      <td>1.360940e-08</td>\n      <td>True</td>\n      <td>True</td>\n    </tr>\n    <tr>\n      <th>2</th>\n      <td>LXN</td>\n      <td>8.164044e-05</td>\n      <td>1.703060e-04</td>\n      <td>True</td>\n      <td>True</td>\n    </tr>\n    <tr>\n      <th>3</th>\n      <td>CNKSR2</td>\n      <td>6.374652e-15</td>\n      <td>4.996380e-14</td>\n      <td>True</td>\n      <td>True</td>\n    </tr>\n    <tr>\n      <th>6</th>\n      <td>GSDMD</td>\n      <td>5.344289e-06</td>\n      <td>1.321447e-05</td>\n      <td>True</td>\n      <td>True</td>\n    </tr>\n    <tr>\n      <th>7</th>\n      <td>AKR1C1</td>\n      <td>7.857877e-06</td>\n      <td>1.899042e-05</td>\n      <td>True</td>\n      <td>True</td>\n    </tr>\n    <tr>\n      <th>...</th>\n      <td>...</td>\n      <td>...</td>\n      <td>...</td>\n      <td>...</td>\n      <td>...</td>\n    </tr>\n    <tr>\n      <th>19641</th>\n      <td>ZNF521</td>\n      <td>2.273493e-06</td>\n      <td>5.917339e-06</td>\n      <td>True</td>\n      <td>True</td>\n    </tr>\n    <tr>\n      <th>19642</th>\n      <td>SPINT2</td>\n      <td>5.250215e-08</td>\n      <td>1.699581e-07</td>\n      <td>True</td>\n      <td>True</td>\n    </tr>\n    <tr>\n      <th>19643</th>\n      <td>HAVCR2</td>\n      <td>1.228186e-14</td>\n      <td>9.267662e-14</td>\n      <td>True</td>\n      <td>True</td>\n    </tr>\n    <tr>\n      <th>19646</th>\n      <td>CTD-2116N17.1</td>\n      <td>1.068283e-12</td>\n      <td>6.241444e-12</td>\n      <td>True</td>\n      <td>True</td>\n    </tr>\n    <tr>\n      <th>19647</th>\n      <td>FUT2</td>\n      <td>2.133666e-07</td>\n      <td>6.370279e-07</td>\n      <td>True</td>\n      <td>True</td>\n    </tr>\n  </tbody>\n</table>\n<p>12297 rows × 5 columns</p>\n</div>"
     },
     "metadata": {},
     "execution_count": 47
    }
   ],
   "source": [
    "#>>>>>>> 16\n",
    "#the common and distinct genes\n",
    "diffrentially_indep = significance_genes_ind[significance_genes_ind['significance:p_vlaue_fdr']== True]\n",
    "diffrentially_indep"
   ]
  },
  {
   "cell_type": "code",
   "execution_count": 48,
   "metadata": {},
   "outputs": [
    {
     "output_type": "execute_result",
     "data": {
      "text/plain": [
       "12297"
      ]
     },
     "metadata": {},
     "execution_count": 48
    }
   ],
   "source": [
    "#>>>>>>> 17\n",
    "Gens=diffrentially_indep['Gene_name'].to_list()\n",
    "len(Gens)\n",
    "#print(Gens)"
   ]
  }
 ]
}