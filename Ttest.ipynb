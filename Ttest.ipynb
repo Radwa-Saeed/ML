{
 "metadata": {
  "language_info": {
   "codemirror_mode": {
    "name": "ipython",
    "version": 3
   },
   "file_extension": ".py",
   "mimetype": "text/x-python",
   "name": "python",
   "nbconvert_exporter": "python",
   "pygments_lexer": "ipython3",
   "version": "3.8.3-final"
  },
  "orig_nbformat": 2,
  "kernelspec": {
   "name": "python3",
   "display_name": "Python 3",
   "language": "python"
  }
 },
 "nbformat": 4,
 "nbformat_minor": 2,
 "cells": [
  {
   "cell_type": "code",
   "execution_count": 70,
   "metadata": {},
   "outputs": [],
   "source": [
    "import pandas as pd \n",
    "import numpy as np \n",
    "import csv\n",
    "from scipy.stats import ttest_rel\n",
    "from statsmodels.stats.multitest import multipletests\n",
    "import math"
   ]
  },
  {
   "cell_type": "code",
   "execution_count": 104,
   "metadata": {},
   "outputs": [
    {
     "output_type": "execute_result",
     "data": {
      "text/plain": [
       "         Hugo_Symbol  Entrez_Gene_Id  TCGA-43-7657  TCGA-58-8386  \\\n",
       "0           HIST3H2A           92815         62.12        130.60   \n",
       "1              LIN7B           64130        185.11        283.05   \n",
       "2                LXN           56925        909.17        819.30   \n",
       "3             CNKSR2           22866         41.81         18.29   \n",
       "4              SCML1            6322        133.36        214.27   \n",
       "...              ...             ...           ...           ...   \n",
       "19643         HAVCR2           84868        423.61        529.06   \n",
       "19644    RP1-66C13.4               0          0.00          0.00   \n",
       "19645        C3orf79          152118          0.00          0.00   \n",
       "19646  CTD-2116N17.1               0          0.00          0.00   \n",
       "19647           FUT2            2524         64.34        101.54   \n",
       "\n",
       "       TCGA-22-5478  TCGA-22-5472  TCGA-43-5670  TCGA-60-2709  TCGA-22-5489  \\\n",
       "0             33.06         35.50         73.03         60.39         92.05   \n",
       "1            119.26        169.07        165.57        161.02        131.51   \n",
       "2            412.00        743.43       1340.84        607.87       1709.26   \n",
       "3             40.93         67.12         54.72         29.27         20.26   \n",
       "4            108.14        109.66        190.34        211.31         96.01   \n",
       "...             ...           ...           ...           ...           ...   \n",
       "19643        660.68        620.67        518.15        848.22        366.09   \n",
       "19644          1.79          3.32          0.00          0.00          1.79   \n",
       "19645          0.00          0.00          0.00          0.00          0.00   \n",
       "19646          0.99          3.59          2.23          3.35          0.00   \n",
       "19647         14.45         69.52        110.43         36.53         60.82   \n",
       "\n",
       "       TCGA-77-8007  ...  TCGA-85-7710  TCGA-56-7580  TCGA-43-6647  \\\n",
       "0             66.65  ...         90.77         59.55         40.07   \n",
       "1            198.47  ...        185.11        119.26        102.97   \n",
       "2           1709.26  ...        813.63       2400.97        543.96   \n",
       "3             23.76  ...         34.51         70.01         57.49   \n",
       "4            208.38  ...        251.48        209.84        120.10   \n",
       "...             ...  ...           ...           ...           ...   \n",
       "19643       1073.91  ...        559.28        579.04        420.68   \n",
       "19644          0.00  ...          0.00          4.86          0.00   \n",
       "19645          0.00  ...          0.00          0.00          0.00   \n",
       "19646          7.34  ...          6.94          1.00          0.00   \n",
       "19647        116.78  ...         38.12         17.64         14.56   \n",
       "\n",
       "       TCGA-90-6837  TCGA-56-8083  TCGA-51-4079  TCGA-56-7222  TCGA-22-4593  \\\n",
       "0             22.92         29.91         82.29          4.70         37.32   \n",
       "1            123.50        264.03        194.36        166.73        105.15   \n",
       "2           2193.99        540.19        521.76        253.23        764.36   \n",
       "3             57.89         67.12         34.51         22.10         31.90   \n",
       "4            109.66        155.50        162.14        277.20         86.43   \n",
       "...             ...           ...           ...           ...           ...   \n",
       "19643        366.09        334.46        258.57        329.84       1030.12   \n",
       "19644          0.00          2.81          2.84          0.00          0.00   \n",
       "19645          0.00          0.00          0.00          0.00          1.07   \n",
       "19646          4.58          0.96          3.06          1.83          1.77   \n",
       "19647         14.35          5.77         24.28         21.78         16.27   \n",
       "\n",
       "       TCGA-51-4081  TCGA-56-8309  \n",
       "0             43.63         77.25  \n",
       "1            185.11        356.05  \n",
       "2            518.15        878.17  \n",
       "3             28.24         49.91  \n",
       "4            164.42        155.50  \n",
       "...             ...           ...  \n",
       "19643        665.29        633.73  \n",
       "19644          1.08          0.00  \n",
       "19645          0.00          0.00  \n",
       "19646          3.63          2.56  \n",
       "19647         73.54         88.26  \n",
       "\n",
       "[19648 rows x 52 columns]"
      ],
      "text/html": "<div>\n<style scoped>\n    .dataframe tbody tr th:only-of-type {\n        vertical-align: middle;\n    }\n\n    .dataframe tbody tr th {\n        vertical-align: top;\n    }\n\n    .dataframe thead th {\n        text-align: right;\n    }\n</style>\n<table border=\"1\" class=\"dataframe\">\n  <thead>\n    <tr style=\"text-align: right;\">\n      <th></th>\n      <th>Hugo_Symbol</th>\n      <th>Entrez_Gene_Id</th>\n      <th>TCGA-43-7657</th>\n      <th>TCGA-58-8386</th>\n      <th>TCGA-22-5478</th>\n      <th>TCGA-22-5472</th>\n      <th>TCGA-43-5670</th>\n      <th>TCGA-60-2709</th>\n      <th>TCGA-22-5489</th>\n      <th>TCGA-77-8007</th>\n      <th>...</th>\n      <th>TCGA-85-7710</th>\n      <th>TCGA-56-7580</th>\n      <th>TCGA-43-6647</th>\n      <th>TCGA-90-6837</th>\n      <th>TCGA-56-8083</th>\n      <th>TCGA-51-4079</th>\n      <th>TCGA-56-7222</th>\n      <th>TCGA-22-4593</th>\n      <th>TCGA-51-4081</th>\n      <th>TCGA-56-8309</th>\n    </tr>\n  </thead>\n  <tbody>\n    <tr>\n      <th>0</th>\n      <td>HIST3H2A</td>\n      <td>92815</td>\n      <td>62.12</td>\n      <td>130.60</td>\n      <td>33.06</td>\n      <td>35.50</td>\n      <td>73.03</td>\n      <td>60.39</td>\n      <td>92.05</td>\n      <td>66.65</td>\n      <td>...</td>\n      <td>90.77</td>\n      <td>59.55</td>\n      <td>40.07</td>\n      <td>22.92</td>\n      <td>29.91</td>\n      <td>82.29</td>\n      <td>4.70</td>\n      <td>37.32</td>\n      <td>43.63</td>\n      <td>77.25</td>\n    </tr>\n    <tr>\n      <th>1</th>\n      <td>LIN7B</td>\n      <td>64130</td>\n      <td>185.11</td>\n      <td>283.05</td>\n      <td>119.26</td>\n      <td>169.07</td>\n      <td>165.57</td>\n      <td>161.02</td>\n      <td>131.51</td>\n      <td>198.47</td>\n      <td>...</td>\n      <td>185.11</td>\n      <td>119.26</td>\n      <td>102.97</td>\n      <td>123.50</td>\n      <td>264.03</td>\n      <td>194.36</td>\n      <td>166.73</td>\n      <td>105.15</td>\n      <td>185.11</td>\n      <td>356.05</td>\n    </tr>\n    <tr>\n      <th>2</th>\n      <td>LXN</td>\n      <td>56925</td>\n      <td>909.17</td>\n      <td>819.30</td>\n      <td>412.00</td>\n      <td>743.43</td>\n      <td>1340.84</td>\n      <td>607.87</td>\n      <td>1709.26</td>\n      <td>1709.26</td>\n      <td>...</td>\n      <td>813.63</td>\n      <td>2400.97</td>\n      <td>543.96</td>\n      <td>2193.99</td>\n      <td>540.19</td>\n      <td>521.76</td>\n      <td>253.23</td>\n      <td>764.36</td>\n      <td>518.15</td>\n      <td>878.17</td>\n    </tr>\n    <tr>\n      <th>3</th>\n      <td>CNKSR2</td>\n      <td>22866</td>\n      <td>41.81</td>\n      <td>18.29</td>\n      <td>40.93</td>\n      <td>67.12</td>\n      <td>54.72</td>\n      <td>29.27</td>\n      <td>20.26</td>\n      <td>23.76</td>\n      <td>...</td>\n      <td>34.51</td>\n      <td>70.01</td>\n      <td>57.49</td>\n      <td>57.89</td>\n      <td>67.12</td>\n      <td>34.51</td>\n      <td>22.10</td>\n      <td>31.90</td>\n      <td>28.24</td>\n      <td>49.91</td>\n    </tr>\n    <tr>\n      <th>4</th>\n      <td>SCML1</td>\n      <td>6322</td>\n      <td>133.36</td>\n      <td>214.27</td>\n      <td>108.14</td>\n      <td>109.66</td>\n      <td>190.34</td>\n      <td>211.31</td>\n      <td>96.01</td>\n      <td>208.38</td>\n      <td>...</td>\n      <td>251.48</td>\n      <td>209.84</td>\n      <td>120.10</td>\n      <td>109.66</td>\n      <td>155.50</td>\n      <td>162.14</td>\n      <td>277.20</td>\n      <td>86.43</td>\n      <td>164.42</td>\n      <td>155.50</td>\n    </tr>\n    <tr>\n      <th>...</th>\n      <td>...</td>\n      <td>...</td>\n      <td>...</td>\n      <td>...</td>\n      <td>...</td>\n      <td>...</td>\n      <td>...</td>\n      <td>...</td>\n      <td>...</td>\n      <td>...</td>\n      <td>...</td>\n      <td>...</td>\n      <td>...</td>\n      <td>...</td>\n      <td>...</td>\n      <td>...</td>\n      <td>...</td>\n      <td>...</td>\n      <td>...</td>\n      <td>...</td>\n      <td>...</td>\n    </tr>\n    <tr>\n      <th>19643</th>\n      <td>HAVCR2</td>\n      <td>84868</td>\n      <td>423.61</td>\n      <td>529.06</td>\n      <td>660.68</td>\n      <td>620.67</td>\n      <td>518.15</td>\n      <td>848.22</td>\n      <td>366.09</td>\n      <td>1073.91</td>\n      <td>...</td>\n      <td>559.28</td>\n      <td>579.04</td>\n      <td>420.68</td>\n      <td>366.09</td>\n      <td>334.46</td>\n      <td>258.57</td>\n      <td>329.84</td>\n      <td>1030.12</td>\n      <td>665.29</td>\n      <td>633.73</td>\n    </tr>\n    <tr>\n      <th>19644</th>\n      <td>RP1-66C13.4</td>\n      <td>0</td>\n      <td>0.00</td>\n      <td>0.00</td>\n      <td>1.79</td>\n      <td>3.32</td>\n      <td>0.00</td>\n      <td>0.00</td>\n      <td>1.79</td>\n      <td>0.00</td>\n      <td>...</td>\n      <td>0.00</td>\n      <td>4.86</td>\n      <td>0.00</td>\n      <td>0.00</td>\n      <td>2.81</td>\n      <td>2.84</td>\n      <td>0.00</td>\n      <td>0.00</td>\n      <td>1.08</td>\n      <td>0.00</td>\n    </tr>\n    <tr>\n      <th>19645</th>\n      <td>C3orf79</td>\n      <td>152118</td>\n      <td>0.00</td>\n      <td>0.00</td>\n      <td>0.00</td>\n      <td>0.00</td>\n      <td>0.00</td>\n      <td>0.00</td>\n      <td>0.00</td>\n      <td>0.00</td>\n      <td>...</td>\n      <td>0.00</td>\n      <td>0.00</td>\n      <td>0.00</td>\n      <td>0.00</td>\n      <td>0.00</td>\n      <td>0.00</td>\n      <td>0.00</td>\n      <td>1.07</td>\n      <td>0.00</td>\n      <td>0.00</td>\n    </tr>\n    <tr>\n      <th>19646</th>\n      <td>CTD-2116N17.1</td>\n      <td>0</td>\n      <td>0.00</td>\n      <td>0.00</td>\n      <td>0.99</td>\n      <td>3.59</td>\n      <td>2.23</td>\n      <td>3.35</td>\n      <td>0.00</td>\n      <td>7.34</td>\n      <td>...</td>\n      <td>6.94</td>\n      <td>1.00</td>\n      <td>0.00</td>\n      <td>4.58</td>\n      <td>0.96</td>\n      <td>3.06</td>\n      <td>1.83</td>\n      <td>1.77</td>\n      <td>3.63</td>\n      <td>2.56</td>\n    </tr>\n    <tr>\n      <th>19647</th>\n      <td>FUT2</td>\n      <td>2524</td>\n      <td>64.34</td>\n      <td>101.54</td>\n      <td>14.45</td>\n      <td>69.52</td>\n      <td>110.43</td>\n      <td>36.53</td>\n      <td>60.82</td>\n      <td>116.78</td>\n      <td>...</td>\n      <td>38.12</td>\n      <td>17.64</td>\n      <td>14.56</td>\n      <td>14.35</td>\n      <td>5.77</td>\n      <td>24.28</td>\n      <td>21.78</td>\n      <td>16.27</td>\n      <td>73.54</td>\n      <td>88.26</td>\n    </tr>\n  </tbody>\n</table>\n<p>19648 rows × 52 columns</p>\n</div>"
     },
     "metadata": {},
     "execution_count": 104
    }
   ],
   "source": [
    "# Reading the healthy and cancerous genes into dataframes\n",
    "healthy = pd.read_csv('healthy.csv', sep = '\\t', index_col=None)\n",
    "cancerous = pd.read_csv('cancerous.csv', sep = '\\t', index_col =None)\n",
    "healthy     # from here we knew that the dimensions are ( 19648 rows × 51 columns ) and the structure\n",
    "#cancerous      # to make sure that gens are the same in names and id     \n",
    "#healthy=healthydf[(healthydf != 0).all(1)]\n",
    "#cancerous=cancerousdf[(cancerousdf != 0).all(1)]"
   ]
  },
  {
   "cell_type": "code",
   "execution_count": 105,
   "metadata": {},
   "outputs": [
    {
     "output_type": "error",
     "ename": "IndexError",
     "evalue": "single positional indexer is out-of-bounds",
     "traceback": [
      "\u001b[1;31m---------------------------------------------------------------------------\u001b[0m",
      "\u001b[1;31mIndexError\u001b[0m                                Traceback (most recent call last)",
      "\u001b[1;32m<ipython-input-105-6951b4f254ca>\u001b[0m in \u001b[0;36m<module>\u001b[1;34m\u001b[0m\n\u001b[0;32m      1\u001b[0m \u001b[0mnum\u001b[0m\u001b[1;33m=\u001b[0m\u001b[1;36m0\u001b[0m\u001b[1;33m\u001b[0m\u001b[1;33m\u001b[0m\u001b[0m\n\u001b[0;32m      2\u001b[0m \u001b[1;32mfor\u001b[0m \u001b[0mrow\u001b[0m \u001b[1;32min\u001b[0m \u001b[0mrange\u001b[0m \u001b[1;33m(\u001b[0m\u001b[0mlen\u001b[0m\u001b[1;33m(\u001b[0m\u001b[0mhealthy\u001b[0m\u001b[1;33m)\u001b[0m\u001b[1;33m)\u001b[0m\u001b[1;33m:\u001b[0m\u001b[1;33m\u001b[0m\u001b[1;33m\u001b[0m\u001b[0m\n\u001b[1;32m----> 3\u001b[1;33m     \u001b[0mx\u001b[0m\u001b[1;33m=\u001b[0m\u001b[0mhealthy\u001b[0m\u001b[1;33m.\u001b[0m\u001b[0miloc\u001b[0m\u001b[1;33m[\u001b[0m\u001b[0mrow\u001b[0m\u001b[1;33m,\u001b[0m\u001b[1;36m2\u001b[0m\u001b[1;33m:\u001b[0m\u001b[1;33m]\u001b[0m\u001b[1;33m\u001b[0m\u001b[1;33m\u001b[0m\u001b[0m\n\u001b[0m\u001b[0;32m      4\u001b[0m     \u001b[1;32mfor\u001b[0m \u001b[0mindex\u001b[0m \u001b[1;32min\u001b[0m \u001b[0mx\u001b[0m\u001b[1;33m:\u001b[0m\u001b[1;33m\u001b[0m\u001b[1;33m\u001b[0m\u001b[0m\n\u001b[0;32m      5\u001b[0m         \u001b[1;32mif\u001b[0m \u001b[0mindex\u001b[0m \u001b[1;33m==\u001b[0m\u001b[1;36m0\u001b[0m\u001b[1;33m:\u001b[0m\u001b[1;33m\u001b[0m\u001b[1;33m\u001b[0m\u001b[0m\n",
      "\u001b[1;32m~\\anaconda3\\lib\\site-packages\\pandas\\core\\indexing.py\u001b[0m in \u001b[0;36m__getitem__\u001b[1;34m(self, key)\u001b[0m\n\u001b[0;32m   1760\u001b[0m                 \u001b[1;32mexcept\u001b[0m \u001b[1;33m(\u001b[0m\u001b[0mKeyError\u001b[0m\u001b[1;33m,\u001b[0m \u001b[0mIndexError\u001b[0m\u001b[1;33m,\u001b[0m \u001b[0mAttributeError\u001b[0m\u001b[1;33m)\u001b[0m\u001b[1;33m:\u001b[0m\u001b[1;33m\u001b[0m\u001b[1;33m\u001b[0m\u001b[0m\n\u001b[0;32m   1761\u001b[0m                     \u001b[1;32mpass\u001b[0m\u001b[1;33m\u001b[0m\u001b[1;33m\u001b[0m\u001b[0m\n\u001b[1;32m-> 1762\u001b[1;33m             \u001b[1;32mreturn\u001b[0m \u001b[0mself\u001b[0m\u001b[1;33m.\u001b[0m\u001b[0m_getitem_tuple\u001b[0m\u001b[1;33m(\u001b[0m\u001b[0mkey\u001b[0m\u001b[1;33m)\u001b[0m\u001b[1;33m\u001b[0m\u001b[1;33m\u001b[0m\u001b[0m\n\u001b[0m\u001b[0;32m   1763\u001b[0m         \u001b[1;32melse\u001b[0m\u001b[1;33m:\u001b[0m\u001b[1;33m\u001b[0m\u001b[1;33m\u001b[0m\u001b[0m\n\u001b[0;32m   1764\u001b[0m             \u001b[1;31m# we by definition only have the 0th axis\u001b[0m\u001b[1;33m\u001b[0m\u001b[1;33m\u001b[0m\u001b[1;33m\u001b[0m\u001b[0m\n",
      "\u001b[1;32m~\\anaconda3\\lib\\site-packages\\pandas\\core\\indexing.py\u001b[0m in \u001b[0;36m_getitem_tuple\u001b[1;34m(self, tup)\u001b[0m\n\u001b[0;32m   2065\u001b[0m     \u001b[1;32mdef\u001b[0m \u001b[0m_getitem_tuple\u001b[0m\u001b[1;33m(\u001b[0m\u001b[0mself\u001b[0m\u001b[1;33m,\u001b[0m \u001b[0mtup\u001b[0m\u001b[1;33m:\u001b[0m \u001b[0mTuple\u001b[0m\u001b[1;33m)\u001b[0m\u001b[1;33m:\u001b[0m\u001b[1;33m\u001b[0m\u001b[1;33m\u001b[0m\u001b[0m\n\u001b[0;32m   2066\u001b[0m \u001b[1;33m\u001b[0m\u001b[0m\n\u001b[1;32m-> 2067\u001b[1;33m         \u001b[0mself\u001b[0m\u001b[1;33m.\u001b[0m\u001b[0m_has_valid_tuple\u001b[0m\u001b[1;33m(\u001b[0m\u001b[0mtup\u001b[0m\u001b[1;33m)\u001b[0m\u001b[1;33m\u001b[0m\u001b[1;33m\u001b[0m\u001b[0m\n\u001b[0m\u001b[0;32m   2068\u001b[0m         \u001b[1;32mtry\u001b[0m\u001b[1;33m:\u001b[0m\u001b[1;33m\u001b[0m\u001b[1;33m\u001b[0m\u001b[0m\n\u001b[0;32m   2069\u001b[0m             \u001b[1;32mreturn\u001b[0m \u001b[0mself\u001b[0m\u001b[1;33m.\u001b[0m\u001b[0m_getitem_lowerdim\u001b[0m\u001b[1;33m(\u001b[0m\u001b[0mtup\u001b[0m\u001b[1;33m)\u001b[0m\u001b[1;33m\u001b[0m\u001b[1;33m\u001b[0m\u001b[0m\n",
      "\u001b[1;32m~\\anaconda3\\lib\\site-packages\\pandas\\core\\indexing.py\u001b[0m in \u001b[0;36m_has_valid_tuple\u001b[1;34m(self, key)\u001b[0m\n\u001b[0;32m    701\u001b[0m                 \u001b[1;32mraise\u001b[0m \u001b[0mIndexingError\u001b[0m\u001b[1;33m(\u001b[0m\u001b[1;34m\"Too many indexers\"\u001b[0m\u001b[1;33m)\u001b[0m\u001b[1;33m\u001b[0m\u001b[1;33m\u001b[0m\u001b[0m\n\u001b[0;32m    702\u001b[0m             \u001b[1;32mtry\u001b[0m\u001b[1;33m:\u001b[0m\u001b[1;33m\u001b[0m\u001b[1;33m\u001b[0m\u001b[0m\n\u001b[1;32m--> 703\u001b[1;33m                 \u001b[0mself\u001b[0m\u001b[1;33m.\u001b[0m\u001b[0m_validate_key\u001b[0m\u001b[1;33m(\u001b[0m\u001b[0mk\u001b[0m\u001b[1;33m,\u001b[0m \u001b[0mi\u001b[0m\u001b[1;33m)\u001b[0m\u001b[1;33m\u001b[0m\u001b[1;33m\u001b[0m\u001b[0m\n\u001b[0m\u001b[0;32m    704\u001b[0m             \u001b[1;32mexcept\u001b[0m \u001b[0mValueError\u001b[0m\u001b[1;33m:\u001b[0m\u001b[1;33m\u001b[0m\u001b[1;33m\u001b[0m\u001b[0m\n\u001b[0;32m    705\u001b[0m                 raise ValueError(\n",
      "\u001b[1;32m~\\anaconda3\\lib\\site-packages\\pandas\\core\\indexing.py\u001b[0m in \u001b[0;36m_validate_key\u001b[1;34m(self, key, axis)\u001b[0m\n\u001b[0;32m   1992\u001b[0m             \u001b[1;32mreturn\u001b[0m\u001b[1;33m\u001b[0m\u001b[1;33m\u001b[0m\u001b[0m\n\u001b[0;32m   1993\u001b[0m         \u001b[1;32melif\u001b[0m \u001b[0mis_integer\u001b[0m\u001b[1;33m(\u001b[0m\u001b[0mkey\u001b[0m\u001b[1;33m)\u001b[0m\u001b[1;33m:\u001b[0m\u001b[1;33m\u001b[0m\u001b[1;33m\u001b[0m\u001b[0m\n\u001b[1;32m-> 1994\u001b[1;33m             \u001b[0mself\u001b[0m\u001b[1;33m.\u001b[0m\u001b[0m_validate_integer\u001b[0m\u001b[1;33m(\u001b[0m\u001b[0mkey\u001b[0m\u001b[1;33m,\u001b[0m \u001b[0maxis\u001b[0m\u001b[1;33m)\u001b[0m\u001b[1;33m\u001b[0m\u001b[1;33m\u001b[0m\u001b[0m\n\u001b[0m\u001b[0;32m   1995\u001b[0m         \u001b[1;32melif\u001b[0m \u001b[0misinstance\u001b[0m\u001b[1;33m(\u001b[0m\u001b[0mkey\u001b[0m\u001b[1;33m,\u001b[0m \u001b[0mtuple\u001b[0m\u001b[1;33m)\u001b[0m\u001b[1;33m:\u001b[0m\u001b[1;33m\u001b[0m\u001b[1;33m\u001b[0m\u001b[0m\n\u001b[0;32m   1996\u001b[0m             \u001b[1;31m# a tuple should already have been caught by this point\u001b[0m\u001b[1;33m\u001b[0m\u001b[1;33m\u001b[0m\u001b[1;33m\u001b[0m\u001b[0m\n",
      "\u001b[1;32m~\\anaconda3\\lib\\site-packages\\pandas\\core\\indexing.py\u001b[0m in \u001b[0;36m_validate_integer\u001b[1;34m(self, key, axis)\u001b[0m\n\u001b[0;32m   2061\u001b[0m         \u001b[0mlen_axis\u001b[0m \u001b[1;33m=\u001b[0m \u001b[0mlen\u001b[0m\u001b[1;33m(\u001b[0m\u001b[0mself\u001b[0m\u001b[1;33m.\u001b[0m\u001b[0mobj\u001b[0m\u001b[1;33m.\u001b[0m\u001b[0m_get_axis\u001b[0m\u001b[1;33m(\u001b[0m\u001b[0maxis\u001b[0m\u001b[1;33m)\u001b[0m\u001b[1;33m)\u001b[0m\u001b[1;33m\u001b[0m\u001b[1;33m\u001b[0m\u001b[0m\n\u001b[0;32m   2062\u001b[0m         \u001b[1;32mif\u001b[0m \u001b[0mkey\u001b[0m \u001b[1;33m>=\u001b[0m \u001b[0mlen_axis\u001b[0m \u001b[1;32mor\u001b[0m \u001b[0mkey\u001b[0m \u001b[1;33m<\u001b[0m \u001b[1;33m-\u001b[0m\u001b[0mlen_axis\u001b[0m\u001b[1;33m:\u001b[0m\u001b[1;33m\u001b[0m\u001b[1;33m\u001b[0m\u001b[0m\n\u001b[1;32m-> 2063\u001b[1;33m             \u001b[1;32mraise\u001b[0m \u001b[0mIndexError\u001b[0m\u001b[1;33m(\u001b[0m\u001b[1;34m\"single positional indexer is out-of-bounds\"\u001b[0m\u001b[1;33m)\u001b[0m\u001b[1;33m\u001b[0m\u001b[1;33m\u001b[0m\u001b[0m\n\u001b[0m\u001b[0;32m   2064\u001b[0m \u001b[1;33m\u001b[0m\u001b[0m\n\u001b[0;32m   2065\u001b[0m     \u001b[1;32mdef\u001b[0m \u001b[0m_getitem_tuple\u001b[0m\u001b[1;33m(\u001b[0m\u001b[0mself\u001b[0m\u001b[1;33m,\u001b[0m \u001b[0mtup\u001b[0m\u001b[1;33m:\u001b[0m \u001b[0mTuple\u001b[0m\u001b[1;33m)\u001b[0m\u001b[1;33m:\u001b[0m\u001b[1;33m\u001b[0m\u001b[1;33m\u001b[0m\u001b[0m\n",
      "\u001b[1;31mIndexError\u001b[0m: single positional indexer is out-of-bounds"
     ]
    }
   ],
   "source": [
    "num=0\n",
    "for row in range (len(healthy)):\n",
    "    x=healthy.iloc[row,2:]\n",
    "    for index in x:\n",
    "        if index ==0:\n",
    "            num=num+1\n",
    "    if num>25:\n",
    "        healthy=healthy.drop(row)\n",
    "        num=0        "
   ]
  },
  {
   "cell_type": "code",
   "execution_count": 106,
   "metadata": {},
   "outputs": [
    {
     "output_type": "execute_result",
     "data": {
      "text/plain": [
       "         Hugo_Symbol  Entrez_Gene_Id  TCGA-43-7657  TCGA-58-8386  \\\n",
       "0           HIST3H2A           92815         62.12        130.60   \n",
       "1              LIN7B           64130        185.11        283.05   \n",
       "2                LXN           56925        909.17        819.30   \n",
       "3             CNKSR2           22866         41.81         18.29   \n",
       "4              SCML1            6322        133.36        214.27   \n",
       "...              ...             ...           ...           ...   \n",
       "19643         HAVCR2           84868        423.61        529.06   \n",
       "19644    RP1-66C13.4               0          0.00          0.00   \n",
       "19645        C3orf79          152118          0.00          0.00   \n",
       "19646  CTD-2116N17.1               0          0.00          0.00   \n",
       "19647           FUT2            2524         64.34        101.54   \n",
       "\n",
       "       TCGA-22-5478  TCGA-22-5472  TCGA-43-5670  TCGA-60-2709  TCGA-22-5489  \\\n",
       "0             33.06         35.50         73.03         60.39         92.05   \n",
       "1            119.26        169.07        165.57        161.02        131.51   \n",
       "2            412.00        743.43       1340.84        607.87       1709.26   \n",
       "3             40.93         67.12         54.72         29.27         20.26   \n",
       "4            108.14        109.66        190.34        211.31         96.01   \n",
       "...             ...           ...           ...           ...           ...   \n",
       "19643        660.68        620.67        518.15        848.22        366.09   \n",
       "19644          1.79          3.32          0.00          0.00          1.79   \n",
       "19645          0.00          0.00          0.00          0.00          0.00   \n",
       "19646          0.99          3.59          2.23          3.35          0.00   \n",
       "19647         14.45         69.52        110.43         36.53         60.82   \n",
       "\n",
       "       TCGA-77-8007  ...  TCGA-85-7710  TCGA-56-7580  TCGA-43-6647  \\\n",
       "0             66.65  ...         90.77         59.55         40.07   \n",
       "1            198.47  ...        185.11        119.26        102.97   \n",
       "2           1709.26  ...        813.63       2400.97        543.96   \n",
       "3             23.76  ...         34.51         70.01         57.49   \n",
       "4            208.38  ...        251.48        209.84        120.10   \n",
       "...             ...  ...           ...           ...           ...   \n",
       "19643       1073.91  ...        559.28        579.04        420.68   \n",
       "19644          0.00  ...          0.00          4.86          0.00   \n",
       "19645          0.00  ...          0.00          0.00          0.00   \n",
       "19646          7.34  ...          6.94          1.00          0.00   \n",
       "19647        116.78  ...         38.12         17.64         14.56   \n",
       "\n",
       "       TCGA-90-6837  TCGA-56-8083  TCGA-51-4079  TCGA-56-7222  TCGA-22-4593  \\\n",
       "0             22.92         29.91         82.29          4.70         37.32   \n",
       "1            123.50        264.03        194.36        166.73        105.15   \n",
       "2           2193.99        540.19        521.76        253.23        764.36   \n",
       "3             57.89         67.12         34.51         22.10         31.90   \n",
       "4            109.66        155.50        162.14        277.20         86.43   \n",
       "...             ...           ...           ...           ...           ...   \n",
       "19643        366.09        334.46        258.57        329.84       1030.12   \n",
       "19644          0.00          2.81          2.84          0.00          0.00   \n",
       "19645          0.00          0.00          0.00          0.00          1.07   \n",
       "19646          4.58          0.96          3.06          1.83          1.77   \n",
       "19647         14.35          5.77         24.28         21.78         16.27   \n",
       "\n",
       "       TCGA-51-4081  TCGA-56-8309  \n",
       "0             43.63         77.25  \n",
       "1            185.11        356.05  \n",
       "2            518.15        878.17  \n",
       "3             28.24         49.91  \n",
       "4            164.42        155.50  \n",
       "...             ...           ...  \n",
       "19643        665.29        633.73  \n",
       "19644          1.08          0.00  \n",
       "19645          0.00          0.00  \n",
       "19646          3.63          2.56  \n",
       "19647         73.54         88.26  \n",
       "\n",
       "[17643 rows x 52 columns]"
      ],
      "text/html": "<div>\n<style scoped>\n    .dataframe tbody tr th:only-of-type {\n        vertical-align: middle;\n    }\n\n    .dataframe tbody tr th {\n        vertical-align: top;\n    }\n\n    .dataframe thead th {\n        text-align: right;\n    }\n</style>\n<table border=\"1\" class=\"dataframe\">\n  <thead>\n    <tr style=\"text-align: right;\">\n      <th></th>\n      <th>Hugo_Symbol</th>\n      <th>Entrez_Gene_Id</th>\n      <th>TCGA-43-7657</th>\n      <th>TCGA-58-8386</th>\n      <th>TCGA-22-5478</th>\n      <th>TCGA-22-5472</th>\n      <th>TCGA-43-5670</th>\n      <th>TCGA-60-2709</th>\n      <th>TCGA-22-5489</th>\n      <th>TCGA-77-8007</th>\n      <th>...</th>\n      <th>TCGA-85-7710</th>\n      <th>TCGA-56-7580</th>\n      <th>TCGA-43-6647</th>\n      <th>TCGA-90-6837</th>\n      <th>TCGA-56-8083</th>\n      <th>TCGA-51-4079</th>\n      <th>TCGA-56-7222</th>\n      <th>TCGA-22-4593</th>\n      <th>TCGA-51-4081</th>\n      <th>TCGA-56-8309</th>\n    </tr>\n  </thead>\n  <tbody>\n    <tr>\n      <th>0</th>\n      <td>HIST3H2A</td>\n      <td>92815</td>\n      <td>62.12</td>\n      <td>130.60</td>\n      <td>33.06</td>\n      <td>35.50</td>\n      <td>73.03</td>\n      <td>60.39</td>\n      <td>92.05</td>\n      <td>66.65</td>\n      <td>...</td>\n      <td>90.77</td>\n      <td>59.55</td>\n      <td>40.07</td>\n      <td>22.92</td>\n      <td>29.91</td>\n      <td>82.29</td>\n      <td>4.70</td>\n      <td>37.32</td>\n      <td>43.63</td>\n      <td>77.25</td>\n    </tr>\n    <tr>\n      <th>1</th>\n      <td>LIN7B</td>\n      <td>64130</td>\n      <td>185.11</td>\n      <td>283.05</td>\n      <td>119.26</td>\n      <td>169.07</td>\n      <td>165.57</td>\n      <td>161.02</td>\n      <td>131.51</td>\n      <td>198.47</td>\n      <td>...</td>\n      <td>185.11</td>\n      <td>119.26</td>\n      <td>102.97</td>\n      <td>123.50</td>\n      <td>264.03</td>\n      <td>194.36</td>\n      <td>166.73</td>\n      <td>105.15</td>\n      <td>185.11</td>\n      <td>356.05</td>\n    </tr>\n    <tr>\n      <th>2</th>\n      <td>LXN</td>\n      <td>56925</td>\n      <td>909.17</td>\n      <td>819.30</td>\n      <td>412.00</td>\n      <td>743.43</td>\n      <td>1340.84</td>\n      <td>607.87</td>\n      <td>1709.26</td>\n      <td>1709.26</td>\n      <td>...</td>\n      <td>813.63</td>\n      <td>2400.97</td>\n      <td>543.96</td>\n      <td>2193.99</td>\n      <td>540.19</td>\n      <td>521.76</td>\n      <td>253.23</td>\n      <td>764.36</td>\n      <td>518.15</td>\n      <td>878.17</td>\n    </tr>\n    <tr>\n      <th>3</th>\n      <td>CNKSR2</td>\n      <td>22866</td>\n      <td>41.81</td>\n      <td>18.29</td>\n      <td>40.93</td>\n      <td>67.12</td>\n      <td>54.72</td>\n      <td>29.27</td>\n      <td>20.26</td>\n      <td>23.76</td>\n      <td>...</td>\n      <td>34.51</td>\n      <td>70.01</td>\n      <td>57.49</td>\n      <td>57.89</td>\n      <td>67.12</td>\n      <td>34.51</td>\n      <td>22.10</td>\n      <td>31.90</td>\n      <td>28.24</td>\n      <td>49.91</td>\n    </tr>\n    <tr>\n      <th>4</th>\n      <td>SCML1</td>\n      <td>6322</td>\n      <td>133.36</td>\n      <td>214.27</td>\n      <td>108.14</td>\n      <td>109.66</td>\n      <td>190.34</td>\n      <td>211.31</td>\n      <td>96.01</td>\n      <td>208.38</td>\n      <td>...</td>\n      <td>251.48</td>\n      <td>209.84</td>\n      <td>120.10</td>\n      <td>109.66</td>\n      <td>155.50</td>\n      <td>162.14</td>\n      <td>277.20</td>\n      <td>86.43</td>\n      <td>164.42</td>\n      <td>155.50</td>\n    </tr>\n    <tr>\n      <th>...</th>\n      <td>...</td>\n      <td>...</td>\n      <td>...</td>\n      <td>...</td>\n      <td>...</td>\n      <td>...</td>\n      <td>...</td>\n      <td>...</td>\n      <td>...</td>\n      <td>...</td>\n      <td>...</td>\n      <td>...</td>\n      <td>...</td>\n      <td>...</td>\n      <td>...</td>\n      <td>...</td>\n      <td>...</td>\n      <td>...</td>\n      <td>...</td>\n      <td>...</td>\n      <td>...</td>\n    </tr>\n    <tr>\n      <th>19643</th>\n      <td>HAVCR2</td>\n      <td>84868</td>\n      <td>423.61</td>\n      <td>529.06</td>\n      <td>660.68</td>\n      <td>620.67</td>\n      <td>518.15</td>\n      <td>848.22</td>\n      <td>366.09</td>\n      <td>1073.91</td>\n      <td>...</td>\n      <td>559.28</td>\n      <td>579.04</td>\n      <td>420.68</td>\n      <td>366.09</td>\n      <td>334.46</td>\n      <td>258.57</td>\n      <td>329.84</td>\n      <td>1030.12</td>\n      <td>665.29</td>\n      <td>633.73</td>\n    </tr>\n    <tr>\n      <th>19644</th>\n      <td>RP1-66C13.4</td>\n      <td>0</td>\n      <td>0.00</td>\n      <td>0.00</td>\n      <td>1.79</td>\n      <td>3.32</td>\n      <td>0.00</td>\n      <td>0.00</td>\n      <td>1.79</td>\n      <td>0.00</td>\n      <td>...</td>\n      <td>0.00</td>\n      <td>4.86</td>\n      <td>0.00</td>\n      <td>0.00</td>\n      <td>2.81</td>\n      <td>2.84</td>\n      <td>0.00</td>\n      <td>0.00</td>\n      <td>1.08</td>\n      <td>0.00</td>\n    </tr>\n    <tr>\n      <th>19645</th>\n      <td>C3orf79</td>\n      <td>152118</td>\n      <td>0.00</td>\n      <td>0.00</td>\n      <td>0.00</td>\n      <td>0.00</td>\n      <td>0.00</td>\n      <td>0.00</td>\n      <td>0.00</td>\n      <td>0.00</td>\n      <td>...</td>\n      <td>0.00</td>\n      <td>0.00</td>\n      <td>0.00</td>\n      <td>0.00</td>\n      <td>0.00</td>\n      <td>0.00</td>\n      <td>0.00</td>\n      <td>1.07</td>\n      <td>0.00</td>\n      <td>0.00</td>\n    </tr>\n    <tr>\n      <th>19646</th>\n      <td>CTD-2116N17.1</td>\n      <td>0</td>\n      <td>0.00</td>\n      <td>0.00</td>\n      <td>0.99</td>\n      <td>3.59</td>\n      <td>2.23</td>\n      <td>3.35</td>\n      <td>0.00</td>\n      <td>7.34</td>\n      <td>...</td>\n      <td>6.94</td>\n      <td>1.00</td>\n      <td>0.00</td>\n      <td>4.58</td>\n      <td>0.96</td>\n      <td>3.06</td>\n      <td>1.83</td>\n      <td>1.77</td>\n      <td>3.63</td>\n      <td>2.56</td>\n    </tr>\n    <tr>\n      <th>19647</th>\n      <td>FUT2</td>\n      <td>2524</td>\n      <td>64.34</td>\n      <td>101.54</td>\n      <td>14.45</td>\n      <td>69.52</td>\n      <td>110.43</td>\n      <td>36.53</td>\n      <td>60.82</td>\n      <td>116.78</td>\n      <td>...</td>\n      <td>38.12</td>\n      <td>17.64</td>\n      <td>14.56</td>\n      <td>14.35</td>\n      <td>5.77</td>\n      <td>24.28</td>\n      <td>21.78</td>\n      <td>16.27</td>\n      <td>73.54</td>\n      <td>88.26</td>\n    </tr>\n  </tbody>\n</table>\n<p>17643 rows × 52 columns</p>\n</div>"
     },
     "metadata": {},
     "execution_count": 106
    }
   ],
   "source": [
    "healthy"
   ]
  },
  {
   "cell_type": "code",
   "execution_count": 107,
   "metadata": {
    "tags": []
   },
   "outputs": [
    {
     "output_type": "execute_result",
     "data": {
      "text/plain": [
       "17643"
      ]
     },
     "metadata": {},
     "execution_count": 107
    }
   ],
   "source": [
    "############################# 1.Test in case samples are paired (related) #####################################\n",
    "paired=[]\n",
    "for i in range (len(healthy)):\n",
    "    pv=ttest_rel(healthy.iloc[i,2:],cancerous.iloc[i,2:]).pvalue\n",
    "    paired.append(pv)\n",
    "paired\n",
    "len(paired)"
   ]
  },
  {
   "cell_type": "code",
   "execution_count": 109,
   "metadata": {},
   "outputs": [
    {
     "output_type": "execute_result",
     "data": {
      "text/plain": [
       "array([5.55401729e-08, 3.00349169e-01, 2.77185268e-04, ...,\n",
       "       2.90682352e-01, 7.58268996e-06, 1.10465640e-22])"
      ]
     },
     "metadata": {},
     "execution_count": 109
    }
   ],
   "source": [
    "# FDR Correction \n",
    "# multipletests on the list result Nan so I converted it to an array and used the mask property to get finit numbers\n",
    "\n",
    "corrected_paired=multipletests(paired, alpha=0.05, method='fdr_bh')[1]\n",
    "corrected_paired"
   ]
  },
  {
   "cell_type": "code",
   "execution_count": 110,
   "metadata": {},
   "outputs": [
    {
     "output_type": "execute_result",
     "data": {
      "text/plain": [
       "           Gene_name      p-values  p-values_fdr\n",
       "0           HIST3H2A  4.043607e-08  5.554017e-08\n",
       "1              LIN7B  2.891646e-01  3.003492e-01\n",
       "2                LXN  2.322367e-04  2.771853e-04\n",
       "3             CNKSR2  3.420577e-12  5.489789e-12\n",
       "4              SCML1  6.251346e-02  6.751500e-02\n",
       "...              ...           ...           ...\n",
       "19643         HAVCR2  8.644836e-21  2.155772e-20\n",
       "19644    RP1-66C13.4  4.081896e-03  4.642358e-03\n",
       "19645        C3orf79  2.796271e-01  2.906824e-01\n",
       "19646  CTD-2116N17.1  5.990768e-06  7.582690e-06\n",
       "19647           FUT2  3.638986e-23  1.104656e-22\n",
       "\n",
       "[17643 rows x 3 columns]"
      ],
      "text/html": "<div>\n<style scoped>\n    .dataframe tbody tr th:only-of-type {\n        vertical-align: middle;\n    }\n\n    .dataframe tbody tr th {\n        vertical-align: top;\n    }\n\n    .dataframe thead th {\n        text-align: right;\n    }\n</style>\n<table border=\"1\" class=\"dataframe\">\n  <thead>\n    <tr style=\"text-align: right;\">\n      <th></th>\n      <th>Gene_name</th>\n      <th>p-values</th>\n      <th>p-values_fdr</th>\n    </tr>\n  </thead>\n  <tbody>\n    <tr>\n      <th>0</th>\n      <td>HIST3H2A</td>\n      <td>4.043607e-08</td>\n      <td>5.554017e-08</td>\n    </tr>\n    <tr>\n      <th>1</th>\n      <td>LIN7B</td>\n      <td>2.891646e-01</td>\n      <td>3.003492e-01</td>\n    </tr>\n    <tr>\n      <th>2</th>\n      <td>LXN</td>\n      <td>2.322367e-04</td>\n      <td>2.771853e-04</td>\n    </tr>\n    <tr>\n      <th>3</th>\n      <td>CNKSR2</td>\n      <td>3.420577e-12</td>\n      <td>5.489789e-12</td>\n    </tr>\n    <tr>\n      <th>4</th>\n      <td>SCML1</td>\n      <td>6.251346e-02</td>\n      <td>6.751500e-02</td>\n    </tr>\n    <tr>\n      <th>...</th>\n      <td>...</td>\n      <td>...</td>\n      <td>...</td>\n    </tr>\n    <tr>\n      <th>19643</th>\n      <td>HAVCR2</td>\n      <td>8.644836e-21</td>\n      <td>2.155772e-20</td>\n    </tr>\n    <tr>\n      <th>19644</th>\n      <td>RP1-66C13.4</td>\n      <td>4.081896e-03</td>\n      <td>4.642358e-03</td>\n    </tr>\n    <tr>\n      <th>19645</th>\n      <td>C3orf79</td>\n      <td>2.796271e-01</td>\n      <td>2.906824e-01</td>\n    </tr>\n    <tr>\n      <th>19646</th>\n      <td>CTD-2116N17.1</td>\n      <td>5.990768e-06</td>\n      <td>7.582690e-06</td>\n    </tr>\n    <tr>\n      <th>19647</th>\n      <td>FUT2</td>\n      <td>3.638986e-23</td>\n      <td>1.104656e-22</td>\n    </tr>\n  </tbody>\n</table>\n<p>17643 rows × 3 columns</p>\n</div>"
     },
     "metadata": {},
     "execution_count": 110
    }
   ],
   "source": [
    "# DEGs before and after the FDR correction in a data frame\n",
    "significance_genes = pd.DataFrame({'Gene_name':healthy.iloc[:,0], 'p-values':paired, 'p-values_fdr':corrected_paired})\n",
    "significance_genes"
   ]
  },
  {
   "cell_type": "code",
   "execution_count": 111,
   "metadata": {},
   "outputs": [
    {
     "output_type": "execute_result",
     "data": {
      "text/plain": [
       "           Gene_name      p-values  p-values_fdr  significance:p_vlaue  \\\n",
       "0           HIST3H2A  4.043607e-08  5.554017e-08                  True   \n",
       "1              LIN7B  2.891646e-01  3.003492e-01                 False   \n",
       "2                LXN  2.322367e-04  2.771853e-04                  True   \n",
       "3             CNKSR2  3.420577e-12  5.489789e-12                  True   \n",
       "4              SCML1  6.251346e-02  6.751500e-02                 False   \n",
       "...              ...           ...           ...                   ...   \n",
       "19643         HAVCR2  8.644836e-21  2.155772e-20                  True   \n",
       "19644    RP1-66C13.4  4.081896e-03  4.642358e-03                  True   \n",
       "19645        C3orf79  2.796271e-01  2.906824e-01                 False   \n",
       "19646  CTD-2116N17.1  5.990768e-06  7.582690e-06                  True   \n",
       "19647           FUT2  3.638986e-23  1.104656e-22                  True   \n",
       "\n",
       "       significance:p_vlaue_fdr  \n",
       "0                          True  \n",
       "1                         False  \n",
       "2                          True  \n",
       "3                          True  \n",
       "4                         False  \n",
       "...                         ...  \n",
       "19643                      True  \n",
       "19644                      True  \n",
       "19645                     False  \n",
       "19646                      True  \n",
       "19647                      True  \n",
       "\n",
       "[17643 rows x 5 columns]"
      ],
      "text/html": "<div>\n<style scoped>\n    .dataframe tbody tr th:only-of-type {\n        vertical-align: middle;\n    }\n\n    .dataframe tbody tr th {\n        vertical-align: top;\n    }\n\n    .dataframe thead th {\n        text-align: right;\n    }\n</style>\n<table border=\"1\" class=\"dataframe\">\n  <thead>\n    <tr style=\"text-align: right;\">\n      <th></th>\n      <th>Gene_name</th>\n      <th>p-values</th>\n      <th>p-values_fdr</th>\n      <th>significance:p_vlaue</th>\n      <th>significance:p_vlaue_fdr</th>\n    </tr>\n  </thead>\n  <tbody>\n    <tr>\n      <th>0</th>\n      <td>HIST3H2A</td>\n      <td>4.043607e-08</td>\n      <td>5.554017e-08</td>\n      <td>True</td>\n      <td>True</td>\n    </tr>\n    <tr>\n      <th>1</th>\n      <td>LIN7B</td>\n      <td>2.891646e-01</td>\n      <td>3.003492e-01</td>\n      <td>False</td>\n      <td>False</td>\n    </tr>\n    <tr>\n      <th>2</th>\n      <td>LXN</td>\n      <td>2.322367e-04</td>\n      <td>2.771853e-04</td>\n      <td>True</td>\n      <td>True</td>\n    </tr>\n    <tr>\n      <th>3</th>\n      <td>CNKSR2</td>\n      <td>3.420577e-12</td>\n      <td>5.489789e-12</td>\n      <td>True</td>\n      <td>True</td>\n    </tr>\n    <tr>\n      <th>4</th>\n      <td>SCML1</td>\n      <td>6.251346e-02</td>\n      <td>6.751500e-02</td>\n      <td>False</td>\n      <td>False</td>\n    </tr>\n    <tr>\n      <th>...</th>\n      <td>...</td>\n      <td>...</td>\n      <td>...</td>\n      <td>...</td>\n      <td>...</td>\n    </tr>\n    <tr>\n      <th>19643</th>\n      <td>HAVCR2</td>\n      <td>8.644836e-21</td>\n      <td>2.155772e-20</td>\n      <td>True</td>\n      <td>True</td>\n    </tr>\n    <tr>\n      <th>19644</th>\n      <td>RP1-66C13.4</td>\n      <td>4.081896e-03</td>\n      <td>4.642358e-03</td>\n      <td>True</td>\n      <td>True</td>\n    </tr>\n    <tr>\n      <th>19645</th>\n      <td>C3orf79</td>\n      <td>2.796271e-01</td>\n      <td>2.906824e-01</td>\n      <td>False</td>\n      <td>False</td>\n    </tr>\n    <tr>\n      <th>19646</th>\n      <td>CTD-2116N17.1</td>\n      <td>5.990768e-06</td>\n      <td>7.582690e-06</td>\n      <td>True</td>\n      <td>True</td>\n    </tr>\n    <tr>\n      <th>19647</th>\n      <td>FUT2</td>\n      <td>3.638986e-23</td>\n      <td>1.104656e-22</td>\n      <td>True</td>\n      <td>True</td>\n    </tr>\n  </tbody>\n</table>\n<p>17643 rows × 5 columns</p>\n</div>"
     },
     "metadata": {},
     "execution_count": 111
    }
   ],
   "source": [
    "#Compare the two DEGs sets \n",
    "significance_genes['significance:p_vlaue'] = significance_genes['p-values'].apply(lambda x: x < 0.05)\n",
    "significance_genes['significance:p_vlaue_fdr'] = significance_genes['p-values_fdr'].apply(lambda x: x < 0.05)\n",
    "significance_genes"
   ]
  },
  {
   "cell_type": "code",
   "execution_count": 112,
   "metadata": {},
   "outputs": [
    {
     "output_type": "execute_result",
     "data": {
      "text/plain": [
       "           Gene_name      p-values  p-values_fdr  significance:p_vlaue  \\\n",
       "0           HIST3H2A  4.043607e-08  5.554017e-08                  True   \n",
       "2                LXN  2.322367e-04  2.771853e-04                  True   \n",
       "3             CNKSR2  3.420577e-12  5.489789e-12                  True   \n",
       "6              GSDMD  3.041721e-06  3.890466e-06                  True   \n",
       "7             AKR1C1  1.938575e-05  2.406408e-05                  True   \n",
       "...              ...           ...           ...                   ...   \n",
       "19642         SPINT2  3.034629e-34  3.244846e-33                  True   \n",
       "19643         HAVCR2  8.644836e-21  2.155772e-20                  True   \n",
       "19644    RP1-66C13.4  4.081896e-03  4.642358e-03                  True   \n",
       "19646  CTD-2116N17.1  5.990768e-06  7.582690e-06                  True   \n",
       "19647           FUT2  3.638986e-23  1.104656e-22                  True   \n",
       "\n",
       "       significance:p_vlaue_fdr  \n",
       "0                          True  \n",
       "2                          True  \n",
       "3                          True  \n",
       "6                          True  \n",
       "7                          True  \n",
       "...                         ...  \n",
       "19642                      True  \n",
       "19643                      True  \n",
       "19644                      True  \n",
       "19646                      True  \n",
       "19647                      True  \n",
       "\n",
       "[16245 rows x 5 columns]"
      ],
      "text/html": "<div>\n<style scoped>\n    .dataframe tbody tr th:only-of-type {\n        vertical-align: middle;\n    }\n\n    .dataframe tbody tr th {\n        vertical-align: top;\n    }\n\n    .dataframe thead th {\n        text-align: right;\n    }\n</style>\n<table border=\"1\" class=\"dataframe\">\n  <thead>\n    <tr style=\"text-align: right;\">\n      <th></th>\n      <th>Gene_name</th>\n      <th>p-values</th>\n      <th>p-values_fdr</th>\n      <th>significance:p_vlaue</th>\n      <th>significance:p_vlaue_fdr</th>\n    </tr>\n  </thead>\n  <tbody>\n    <tr>\n      <th>0</th>\n      <td>HIST3H2A</td>\n      <td>4.043607e-08</td>\n      <td>5.554017e-08</td>\n      <td>True</td>\n      <td>True</td>\n    </tr>\n    <tr>\n      <th>2</th>\n      <td>LXN</td>\n      <td>2.322367e-04</td>\n      <td>2.771853e-04</td>\n      <td>True</td>\n      <td>True</td>\n    </tr>\n    <tr>\n      <th>3</th>\n      <td>CNKSR2</td>\n      <td>3.420577e-12</td>\n      <td>5.489789e-12</td>\n      <td>True</td>\n      <td>True</td>\n    </tr>\n    <tr>\n      <th>6</th>\n      <td>GSDMD</td>\n      <td>3.041721e-06</td>\n      <td>3.890466e-06</td>\n      <td>True</td>\n      <td>True</td>\n    </tr>\n    <tr>\n      <th>7</th>\n      <td>AKR1C1</td>\n      <td>1.938575e-05</td>\n      <td>2.406408e-05</td>\n      <td>True</td>\n      <td>True</td>\n    </tr>\n    <tr>\n      <th>...</th>\n      <td>...</td>\n      <td>...</td>\n      <td>...</td>\n      <td>...</td>\n      <td>...</td>\n    </tr>\n    <tr>\n      <th>19642</th>\n      <td>SPINT2</td>\n      <td>3.034629e-34</td>\n      <td>3.244846e-33</td>\n      <td>True</td>\n      <td>True</td>\n    </tr>\n    <tr>\n      <th>19643</th>\n      <td>HAVCR2</td>\n      <td>8.644836e-21</td>\n      <td>2.155772e-20</td>\n      <td>True</td>\n      <td>True</td>\n    </tr>\n    <tr>\n      <th>19644</th>\n      <td>RP1-66C13.4</td>\n      <td>4.081896e-03</td>\n      <td>4.642358e-03</td>\n      <td>True</td>\n      <td>True</td>\n    </tr>\n    <tr>\n      <th>19646</th>\n      <td>CTD-2116N17.1</td>\n      <td>5.990768e-06</td>\n      <td>7.582690e-06</td>\n      <td>True</td>\n      <td>True</td>\n    </tr>\n    <tr>\n      <th>19647</th>\n      <td>FUT2</td>\n      <td>3.638986e-23</td>\n      <td>1.104656e-22</td>\n      <td>True</td>\n      <td>True</td>\n    </tr>\n  </tbody>\n</table>\n<p>16245 rows × 5 columns</p>\n</div>"
     },
     "metadata": {},
     "execution_count": 112
    }
   ],
   "source": [
    "#the common and distinct genes\n",
    "diffrentially_genes = significance_genes[significance_genes['significance:p_vlaue_fdr']== True]\n",
    "diffrentially_genes"
   ]
  },
  {
   "cell_type": "code",
   "execution_count": 113,
   "metadata": {},
   "outputs": [
    {
     "output_type": "execute_result",
     "data": {
      "text/plain": [
       "16245"
      ]
     },
     "metadata": {},
     "execution_count": 113
    }
   ],
   "source": [
    "Gens=diffrentially_genes['Gene_name'].to_list()\n",
    "len(Gens)\n",
    "#print(Gens)"
   ]
  },
  {
   "cell_type": "code",
   "execution_count": 117,
   "metadata": {},
   "outputs": [
    {
     "output_type": "execute_result",
     "data": {
      "text/plain": [
       "17643"
      ]
     },
     "metadata": {},
     "execution_count": 117
    }
   ],
   "source": [
    "#################################### 2.Test in case samples are independent #############################################\n",
    "indep=[]\n",
    "for i in range (len(healthy)):\n",
    "    pv=ttest_rel(healthy.iloc[i,2:],cancerous.iloc[i,2:]).pvalue\n",
    "    indep.append(pv)\n",
    "#indep\n",
    "len(healthy)"
   ]
  },
  {
   "cell_type": "code",
   "execution_count": 118,
   "metadata": {},
   "outputs": [
    {
     "output_type": "execute_result",
     "data": {
      "text/plain": [
       "array([5.55401729e-08, 3.00349169e-01, 2.77185268e-04, ...,\n",
       "       2.90682352e-01, 7.58268996e-06, 1.10465640e-22])"
      ]
     },
     "metadata": {},
     "execution_count": 118
    }
   ],
   "source": [
    "# FDR Correction \n",
    "# multipletests on the list result Nan so I converted it to an array and used the mask property to get finit numbers\n",
    "indep_array=np.array(indep)\n",
    "corrected_indep=multipletests(indep, alpha=0.05, method='fdr_bh')[1]\n",
    "corrected_indep"
   ]
  },
  {
   "cell_type": "code",
   "execution_count": 119,
   "metadata": {},
   "outputs": [
    {
     "output_type": "execute_result",
     "data": {
      "text/plain": [
       "           Gene_name      p-values  p-values_fdr\n",
       "0           HIST3H2A  4.043607e-08  5.554017e-08\n",
       "1              LIN7B  2.891646e-01  3.003492e-01\n",
       "2                LXN  2.322367e-04  2.771853e-04\n",
       "3             CNKSR2  3.420577e-12  5.489789e-12\n",
       "4              SCML1  6.251346e-02  6.751500e-02\n",
       "...              ...           ...           ...\n",
       "19643         HAVCR2  8.644836e-21  2.155772e-20\n",
       "19644    RP1-66C13.4  4.081896e-03  4.642358e-03\n",
       "19645        C3orf79  2.796271e-01  2.906824e-01\n",
       "19646  CTD-2116N17.1  5.990768e-06  7.582690e-06\n",
       "19647           FUT2  3.638986e-23  1.104656e-22\n",
       "\n",
       "[17643 rows x 3 columns]"
      ],
      "text/html": "<div>\n<style scoped>\n    .dataframe tbody tr th:only-of-type {\n        vertical-align: middle;\n    }\n\n    .dataframe tbody tr th {\n        vertical-align: top;\n    }\n\n    .dataframe thead th {\n        text-align: right;\n    }\n</style>\n<table border=\"1\" class=\"dataframe\">\n  <thead>\n    <tr style=\"text-align: right;\">\n      <th></th>\n      <th>Gene_name</th>\n      <th>p-values</th>\n      <th>p-values_fdr</th>\n    </tr>\n  </thead>\n  <tbody>\n    <tr>\n      <th>0</th>\n      <td>HIST3H2A</td>\n      <td>4.043607e-08</td>\n      <td>5.554017e-08</td>\n    </tr>\n    <tr>\n      <th>1</th>\n      <td>LIN7B</td>\n      <td>2.891646e-01</td>\n      <td>3.003492e-01</td>\n    </tr>\n    <tr>\n      <th>2</th>\n      <td>LXN</td>\n      <td>2.322367e-04</td>\n      <td>2.771853e-04</td>\n    </tr>\n    <tr>\n      <th>3</th>\n      <td>CNKSR2</td>\n      <td>3.420577e-12</td>\n      <td>5.489789e-12</td>\n    </tr>\n    <tr>\n      <th>4</th>\n      <td>SCML1</td>\n      <td>6.251346e-02</td>\n      <td>6.751500e-02</td>\n    </tr>\n    <tr>\n      <th>...</th>\n      <td>...</td>\n      <td>...</td>\n      <td>...</td>\n    </tr>\n    <tr>\n      <th>19643</th>\n      <td>HAVCR2</td>\n      <td>8.644836e-21</td>\n      <td>2.155772e-20</td>\n    </tr>\n    <tr>\n      <th>19644</th>\n      <td>RP1-66C13.4</td>\n      <td>4.081896e-03</td>\n      <td>4.642358e-03</td>\n    </tr>\n    <tr>\n      <th>19645</th>\n      <td>C3orf79</td>\n      <td>2.796271e-01</td>\n      <td>2.906824e-01</td>\n    </tr>\n    <tr>\n      <th>19646</th>\n      <td>CTD-2116N17.1</td>\n      <td>5.990768e-06</td>\n      <td>7.582690e-06</td>\n    </tr>\n    <tr>\n      <th>19647</th>\n      <td>FUT2</td>\n      <td>3.638986e-23</td>\n      <td>1.104656e-22</td>\n    </tr>\n  </tbody>\n</table>\n<p>17643 rows × 3 columns</p>\n</div>"
     },
     "metadata": {},
     "execution_count": 119
    }
   ],
   "source": [
    "# DEGs before and after the FDR correction in a data frame\n",
    "significance_indep= pd.DataFrame({'Gene_name':healthy.iloc[:,0], 'p-values':indep, 'p-values_fdr':corrected_indep})\n",
    "significance_indep"
   ]
  },
  {
   "cell_type": "code",
   "execution_count": 120,
   "metadata": {},
   "outputs": [
    {
     "output_type": "execute_result",
     "data": {
      "text/plain": [
       "           Gene_name      p-values  p-values_fdr  significance:p_vlaue  \\\n",
       "0           HIST3H2A  4.043607e-08  5.554017e-08                  True   \n",
       "1              LIN7B  2.891646e-01  3.003492e-01                 False   \n",
       "2                LXN  2.322367e-04  2.771853e-04                  True   \n",
       "3             CNKSR2  3.420577e-12  5.489789e-12                  True   \n",
       "4              SCML1  6.251346e-02  6.751500e-02                 False   \n",
       "...              ...           ...           ...                   ...   \n",
       "19643         HAVCR2  8.644836e-21  2.155772e-20                  True   \n",
       "19644    RP1-66C13.4  4.081896e-03  4.642358e-03                  True   \n",
       "19645        C3orf79  2.796271e-01  2.906824e-01                 False   \n",
       "19646  CTD-2116N17.1  5.990768e-06  7.582690e-06                  True   \n",
       "19647           FUT2  3.638986e-23  1.104656e-22                  True   \n",
       "\n",
       "       significance:p_vlaue_fdr  \n",
       "0                          True  \n",
       "1                         False  \n",
       "2                          True  \n",
       "3                          True  \n",
       "4                         False  \n",
       "...                         ...  \n",
       "19643                      True  \n",
       "19644                      True  \n",
       "19645                     False  \n",
       "19646                      True  \n",
       "19647                      True  \n",
       "\n",
       "[17643 rows x 5 columns]"
      ],
      "text/html": "<div>\n<style scoped>\n    .dataframe tbody tr th:only-of-type {\n        vertical-align: middle;\n    }\n\n    .dataframe tbody tr th {\n        vertical-align: top;\n    }\n\n    .dataframe thead th {\n        text-align: right;\n    }\n</style>\n<table border=\"1\" class=\"dataframe\">\n  <thead>\n    <tr style=\"text-align: right;\">\n      <th></th>\n      <th>Gene_name</th>\n      <th>p-values</th>\n      <th>p-values_fdr</th>\n      <th>significance:p_vlaue</th>\n      <th>significance:p_vlaue_fdr</th>\n    </tr>\n  </thead>\n  <tbody>\n    <tr>\n      <th>0</th>\n      <td>HIST3H2A</td>\n      <td>4.043607e-08</td>\n      <td>5.554017e-08</td>\n      <td>True</td>\n      <td>True</td>\n    </tr>\n    <tr>\n      <th>1</th>\n      <td>LIN7B</td>\n      <td>2.891646e-01</td>\n      <td>3.003492e-01</td>\n      <td>False</td>\n      <td>False</td>\n    </tr>\n    <tr>\n      <th>2</th>\n      <td>LXN</td>\n      <td>2.322367e-04</td>\n      <td>2.771853e-04</td>\n      <td>True</td>\n      <td>True</td>\n    </tr>\n    <tr>\n      <th>3</th>\n      <td>CNKSR2</td>\n      <td>3.420577e-12</td>\n      <td>5.489789e-12</td>\n      <td>True</td>\n      <td>True</td>\n    </tr>\n    <tr>\n      <th>4</th>\n      <td>SCML1</td>\n      <td>6.251346e-02</td>\n      <td>6.751500e-02</td>\n      <td>False</td>\n      <td>False</td>\n    </tr>\n    <tr>\n      <th>...</th>\n      <td>...</td>\n      <td>...</td>\n      <td>...</td>\n      <td>...</td>\n      <td>...</td>\n    </tr>\n    <tr>\n      <th>19643</th>\n      <td>HAVCR2</td>\n      <td>8.644836e-21</td>\n      <td>2.155772e-20</td>\n      <td>True</td>\n      <td>True</td>\n    </tr>\n    <tr>\n      <th>19644</th>\n      <td>RP1-66C13.4</td>\n      <td>4.081896e-03</td>\n      <td>4.642358e-03</td>\n      <td>True</td>\n      <td>True</td>\n    </tr>\n    <tr>\n      <th>19645</th>\n      <td>C3orf79</td>\n      <td>2.796271e-01</td>\n      <td>2.906824e-01</td>\n      <td>False</td>\n      <td>False</td>\n    </tr>\n    <tr>\n      <th>19646</th>\n      <td>CTD-2116N17.1</td>\n      <td>5.990768e-06</td>\n      <td>7.582690e-06</td>\n      <td>True</td>\n      <td>True</td>\n    </tr>\n    <tr>\n      <th>19647</th>\n      <td>FUT2</td>\n      <td>3.638986e-23</td>\n      <td>1.104656e-22</td>\n      <td>True</td>\n      <td>True</td>\n    </tr>\n  </tbody>\n</table>\n<p>17643 rows × 5 columns</p>\n</div>"
     },
     "metadata": {},
     "execution_count": 120
    }
   ],
   "source": [
    "#Compare the two DEGs sets \n",
    "significance_indep['significance:p_vlaue'] = significance_indep['p-values'].apply(lambda x: x < 0.05)\n",
    "significance_indep['significance:p_vlaue_fdr'] = significance_indep['p-values_fdr'].apply(lambda x: x < 0.05)\n",
    "significance_indep"
   ]
  },
  {
   "cell_type": "code",
   "execution_count": 121,
   "metadata": {},
   "outputs": [
    {
     "output_type": "execute_result",
     "data": {
      "text/plain": [
       "           Gene_name      p-values  p-values_fdr  significance:p_vlaue  \\\n",
       "0           HIST3H2A  4.043607e-08  5.554017e-08                  True   \n",
       "2                LXN  2.322367e-04  2.771853e-04                  True   \n",
       "3             CNKSR2  3.420577e-12  5.489789e-12                  True   \n",
       "6              GSDMD  3.041721e-06  3.890466e-06                  True   \n",
       "7             AKR1C1  1.938575e-05  2.406408e-05                  True   \n",
       "...              ...           ...           ...                   ...   \n",
       "19642         SPINT2  3.034629e-34  3.244846e-33                  True   \n",
       "19643         HAVCR2  8.644836e-21  2.155772e-20                  True   \n",
       "19644    RP1-66C13.4  4.081896e-03  4.642358e-03                  True   \n",
       "19646  CTD-2116N17.1  5.990768e-06  7.582690e-06                  True   \n",
       "19647           FUT2  3.638986e-23  1.104656e-22                  True   \n",
       "\n",
       "       significance:p_vlaue_fdr  \n",
       "0                          True  \n",
       "2                          True  \n",
       "3                          True  \n",
       "6                          True  \n",
       "7                          True  \n",
       "...                         ...  \n",
       "19642                      True  \n",
       "19643                      True  \n",
       "19644                      True  \n",
       "19646                      True  \n",
       "19647                      True  \n",
       "\n",
       "[16245 rows x 5 columns]"
      ],
      "text/html": "<div>\n<style scoped>\n    .dataframe tbody tr th:only-of-type {\n        vertical-align: middle;\n    }\n\n    .dataframe tbody tr th {\n        vertical-align: top;\n    }\n\n    .dataframe thead th {\n        text-align: right;\n    }\n</style>\n<table border=\"1\" class=\"dataframe\">\n  <thead>\n    <tr style=\"text-align: right;\">\n      <th></th>\n      <th>Gene_name</th>\n      <th>p-values</th>\n      <th>p-values_fdr</th>\n      <th>significance:p_vlaue</th>\n      <th>significance:p_vlaue_fdr</th>\n    </tr>\n  </thead>\n  <tbody>\n    <tr>\n      <th>0</th>\n      <td>HIST3H2A</td>\n      <td>4.043607e-08</td>\n      <td>5.554017e-08</td>\n      <td>True</td>\n      <td>True</td>\n    </tr>\n    <tr>\n      <th>2</th>\n      <td>LXN</td>\n      <td>2.322367e-04</td>\n      <td>2.771853e-04</td>\n      <td>True</td>\n      <td>True</td>\n    </tr>\n    <tr>\n      <th>3</th>\n      <td>CNKSR2</td>\n      <td>3.420577e-12</td>\n      <td>5.489789e-12</td>\n      <td>True</td>\n      <td>True</td>\n    </tr>\n    <tr>\n      <th>6</th>\n      <td>GSDMD</td>\n      <td>3.041721e-06</td>\n      <td>3.890466e-06</td>\n      <td>True</td>\n      <td>True</td>\n    </tr>\n    <tr>\n      <th>7</th>\n      <td>AKR1C1</td>\n      <td>1.938575e-05</td>\n      <td>2.406408e-05</td>\n      <td>True</td>\n      <td>True</td>\n    </tr>\n    <tr>\n      <th>...</th>\n      <td>...</td>\n      <td>...</td>\n      <td>...</td>\n      <td>...</td>\n      <td>...</td>\n    </tr>\n    <tr>\n      <th>19642</th>\n      <td>SPINT2</td>\n      <td>3.034629e-34</td>\n      <td>3.244846e-33</td>\n      <td>True</td>\n      <td>True</td>\n    </tr>\n    <tr>\n      <th>19643</th>\n      <td>HAVCR2</td>\n      <td>8.644836e-21</td>\n      <td>2.155772e-20</td>\n      <td>True</td>\n      <td>True</td>\n    </tr>\n    <tr>\n      <th>19644</th>\n      <td>RP1-66C13.4</td>\n      <td>4.081896e-03</td>\n      <td>4.642358e-03</td>\n      <td>True</td>\n      <td>True</td>\n    </tr>\n    <tr>\n      <th>19646</th>\n      <td>CTD-2116N17.1</td>\n      <td>5.990768e-06</td>\n      <td>7.582690e-06</td>\n      <td>True</td>\n      <td>True</td>\n    </tr>\n    <tr>\n      <th>19647</th>\n      <td>FUT2</td>\n      <td>3.638986e-23</td>\n      <td>1.104656e-22</td>\n      <td>True</td>\n      <td>True</td>\n    </tr>\n  </tbody>\n</table>\n<p>16245 rows × 5 columns</p>\n</div>"
     },
     "metadata": {},
     "execution_count": 121
    }
   ],
   "source": [
    "#the common and distinct genes\n",
    "diffrentially_indep = significance_indep[significance_indep['significance:p_vlaue_fdr']== True]\n",
    "diffrentially_indep"
   ]
  },
  {
   "cell_type": "code",
   "execution_count": 123,
   "metadata": {},
   "outputs": [
    {
     "output_type": "execute_result",
     "data": {
      "text/plain": [
       "16245"
      ]
     },
     "metadata": {},
     "execution_count": 123
    }
   ],
   "source": [
    "Gens=diffrentially_indep['Gene_name'].to_list()\n",
    "len(Gens)\n",
    "#print(Gens)"
   ]
  },
  {
   "cell_type": "code",
   "execution_count": null,
   "metadata": {},
   "outputs": [],
   "source": []
  }
 ]
}